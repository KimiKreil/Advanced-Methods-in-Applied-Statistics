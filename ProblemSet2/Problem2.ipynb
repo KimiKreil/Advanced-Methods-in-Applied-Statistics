{
 "cells": [
  {
   "cell_type": "code",
   "execution_count": 1,
   "id": "7bccccfb",
   "metadata": {
    "ExecuteTime": {
     "end_time": "2022-03-02T14:13:32.148854Z",
     "start_time": "2022-03-02T14:13:30.284831Z"
    }
   },
   "outputs": [],
   "source": [
    "# Import libraries\n",
    "import numpy as np\n",
    "import matplotlib.pyplot as plt"
   ]
  },
  {
   "cell_type": "markdown",
   "id": "a6faceb5",
   "metadata": {},
   "source": [
    "# Problem 2: Pace Makers"
   ]
  },
  {
   "cell_type": "code",
   "execution_count": 2,
   "id": "d979bbe3",
   "metadata": {
    "ExecuteTime": {
     "end_time": "2022-03-02T14:13:32.159001Z",
     "start_time": "2022-03-02T14:13:32.151435Z"
    }
   },
   "outputs": [],
   "source": [
    "# Define the data from the assignment\n",
    "Facilities = ['A1','A2','A3','A4','A5']\n",
    "Production_rate = np.array([35,15,5,20,25])/100\n",
    "Defective_rate = np.array([2,4,10,3.5,3.1])/100"
   ]
  },
  {
   "cell_type": "markdown",
   "id": "dd8d206a",
   "metadata": {},
   "source": [
    "## Problem 2A"
   ]
  },
  {
   "cell_type": "code",
   "execution_count": 3,
   "id": "0e1e4f8d",
   "metadata": {
    "ExecuteTime": {
     "end_time": "2022-03-02T14:13:32.172849Z",
     "start_time": "2022-03-02T14:13:32.162061Z"
    }
   },
   "outputs": [
    {
     "name": "stdout",
     "output_type": "stream",
     "text": [
      "Probability that a defective pace maker is from facility A2 is P=0.183206106870229\n"
     ]
    }
   ],
   "source": [
    "# Calculate P(A_2|D) with discrete Bayes (described in write up)\n",
    "P_A2_given_D = ( Defective_rate[1] * Production_rate[1] ) / np.sum(Defective_rate * Production_rate)\n",
    "print(f'Probability that a defective pace maker is from facility A2 is P={P_A2_given_D}')"
   ]
  },
  {
   "cell_type": "markdown",
   "id": "b0505f87",
   "metadata": {},
   "source": [
    "To find which facility a defect is most likely to come from, we calculate the above for all facilities. And select the largest."
   ]
  },
  {
   "cell_type": "code",
   "execution_count": 4,
   "id": "78265904",
   "metadata": {
    "ExecuteTime": {
     "end_time": "2022-03-02T14:13:32.192679Z",
     "start_time": "2022-03-02T14:13:32.176035Z"
    }
   },
   "outputs": [
    {
     "name": "stdout",
     "output_type": "stream",
     "text": [
      "Probability that a defective pace maker is from facility A1 is P=0.21374045801526714\n",
      "Probability that a defective pace maker is from facility A2 is P=0.183206106870229\n",
      "Probability that a defective pace maker is from facility A3 is P=0.15267175572519087\n",
      "Probability that a defective pace maker is from facility A4 is P=0.2137404580152672\n",
      "Probability that a defective pace maker is from facility A5 is P=0.23664122137404578\n",
      "\n",
      "\n",
      "An observed defect is most likely from facility A5, with P=0.23664122137404578\n"
     ]
    }
   ],
   "source": [
    "# Empty array to store vals\n",
    "P_An_given_D_arr = np.zeros(len(Facilities))\n",
    "\n",
    "# Loop over facilities\n",
    "for i in range(len(Facilities)):  \n",
    "    P_An_given_D_arr[i] = ( Defective_rate[i] * Production_rate[i] ) / np.sum(Defective_rate * Production_rate)\n",
    "    print(f'Probability that a defective pace maker is from facility {Facilities[i]} is P={P_An_given_D_arr[i]}')\n",
    "    \n",
    "# Print the most likely\n",
    "idx = np.argmax(P_An_given_D_arr)\n",
    "print('\\n')\n",
    "print(f'An observed defect is most likely from facility {Facilities[idx]}, with P={P_An_given_D_arr[idx]}')"
   ]
  },
  {
   "cell_type": "code",
   "execution_count": 5,
   "id": "28d49d75",
   "metadata": {
    "ExecuteTime": {
     "end_time": "2022-03-02T14:13:32.215017Z",
     "start_time": "2022-03-02T14:13:32.197245Z"
    }
   },
   "outputs": [
    {
     "data": {
      "text/plain": [
       "1.0"
      ]
     },
     "execution_count": 5,
     "metadata": {},
     "output_type": "execute_result"
    }
   ],
   "source": [
    "# Check that they sum to 1\n",
    "np.sum(P_An_given_D_arr)"
   ]
  },
  {
   "cell_type": "markdown",
   "id": "20749abd",
   "metadata": {},
   "source": [
    "## Problem 2B"
   ]
  },
  {
   "cell_type": "code",
   "execution_count": 6,
   "id": "54ab8308",
   "metadata": {
    "ExecuteTime": {
     "end_time": "2022-03-02T14:13:32.235850Z",
     "start_time": "2022-03-02T14:13:32.219975Z"
    }
   },
   "outputs": [],
   "source": [
    "# Calc P(D|A5)P(A5) = the denominator in the eq. in the write up\n",
    "denom = Defective_rate[-1] * Production_rate[-1]\n",
    "\n",
    "# Copy of array to store the new defective rates in\n",
    "New_defective_rate = Defective_rate.copy()\n",
    "\n",
    "# Loop over facilities\n",
    "for i in range(len(Facilities)):\n",
    "    \n",
    "    # Calculate new defective rate\n",
    "    New_defective_rate[i] = denom / Production_rate[i]"
   ]
  },
  {
   "cell_type": "code",
   "execution_count": 7,
   "id": "15a076bb",
   "metadata": {
    "ExecuteTime": {
     "end_time": "2022-03-02T14:13:32.263767Z",
     "start_time": "2022-03-02T14:13:32.241631Z"
    }
   },
   "outputs": [
    {
     "name": "stdout",
     "output_type": "stream",
     "text": [
      "Facility: A1 \t Old Def_rate: 0.02 \t New Def_rate: 0.022142857142857145\n",
      "Facility: A2 \t Old Def_rate: 0.04 \t New Def_rate: 0.051666666666666666\n",
      "Facility: A3 \t Old Def_rate: 0.1 \t New Def_rate: 0.155\n",
      "Facility: A4 \t Old Def_rate: 0.035 \t New Def_rate: 0.03875\n",
      "Facility: A5 \t Old Def_rate: 0.031 \t New Def_rate: 0.031\n",
      "\n",
      "\n",
      "Probability that a defective pace maker is from facility A1 is P=0.2\n",
      "Probability that a defective pace maker is from facility A2 is P=0.2\n",
      "Probability that a defective pace maker is from facility A3 is P=0.2\n",
      "Probability that a defective pace maker is from facility A4 is P=0.2\n",
      "Probability that a defective pace maker is from facility A5 is P=0.2\n"
     ]
    }
   ],
   "source": [
    "# Print results\n",
    "for i in range(len(Facilities)):\n",
    "    print(f'Facility: {Facilities[i]} \\t Old Def_rate: {Defective_rate[i]} \\t New Def_rate: {New_defective_rate[i]}')\n",
    "    \n",
    "# Confirm that P(A_n|D) are now the same for all\n",
    "\n",
    "# Empty array to store vals\n",
    "New_P_An_given_D_arr = np.zeros(len(Facilities))\n",
    "print('\\n')\n",
    "# Loop over facilities\n",
    "for i in range(len(Facilities)):  \n",
    "    New_P_An_given_D_arr[i] = ( New_defective_rate[i] * Production_rate[i] ) / np.sum(New_defective_rate * Production_rate)\n",
    "    print(f'Probability that a defective pace maker is from facility {Facilities[i]} is P={New_P_An_given_D_arr[i]}')\n",
    "    "
   ]
  },
  {
   "cell_type": "markdown",
   "id": "74caaec7",
   "metadata": {},
   "source": [
    "## Problem 2C"
   ]
  },
  {
   "cell_type": "code",
   "execution_count": 8,
   "id": "d1c6da6b",
   "metadata": {
    "ExecuteTime": {
     "end_time": "2022-03-02T14:13:32.286589Z",
     "start_time": "2022-03-02T14:13:32.268071Z"
    }
   },
   "outputs": [],
   "source": [
    "# Transcribe data from assignment\n",
    "Facilities = ['A1','A2','A3','A4','A5','A6','A7','A8','A9','A10','A11','A12','A13','A14']\n",
    "Production_rate = np.array([0.27,0.1,0.05,0.08,0.25,0.033,0.019,0.085,0.033,0.02,0.015,0.022,0.015,0.008])\n",
    "Defective_rate = np.array([0.02,0.04,0.1,0.035,0.022,0.092,0.12,0.07,0.11,0.02,0.07,0.06,0.099,0.082])"
   ]
  },
  {
   "cell_type": "code",
   "execution_count": 9,
   "id": "4776726e",
   "metadata": {
    "ExecuteTime": {
     "end_time": "2022-03-02T14:13:32.314672Z",
     "start_time": "2022-03-02T14:13:32.295100Z"
    }
   },
   "outputs": [
    {
     "name": "stdout",
     "output_type": "stream",
     "text": [
      "Probability that a defective pace maker is from facility A1 is P=0.1270378996400593\n",
      "Probability that a defective pace maker is from facility A2 is P=0.09410214788152539\n",
      "Probability that a defective pace maker is from facility A3 is P=0.11762768485190676\n",
      "Probability that a defective pace maker is from facility A4 is P=0.06587150351706778\n",
      "Probability that a defective pace maker is from facility A5 is P=0.1293904533370974\n",
      "Probability that a defective pace maker is from facility A6 is P=0.07142353024207777\n",
      "Probability that a defective pace maker is from facility A7 is P=0.05363822429246947\n",
      "Probability that a defective pace maker is from facility A8 is P=0.13997694497376906\n",
      "Probability that a defective pace maker is from facility A9 is P=0.08539769920248429\n",
      "Probability that a defective pace maker is from facility A10 is P=0.00941021478815254\n",
      "Probability that a defective pace maker is from facility A11 is P=0.02470181381890042\n",
      "Probability that a defective pace maker is from facility A12 is P=0.031053708800903374\n",
      "Probability that a defective pace maker is from facility A13 is P=0.0349354224010163\n",
      "Probability that a defective pace maker is from facility A14 is P=0.015432752252570164\n",
      "\n",
      "\n",
      "An observed defect is most likely from facility A8, with P=0.13997694497376906\n"
     ]
    }
   ],
   "source": [
    "# Probability for each facility to be identified with a failed pace-maker.\n",
    "\n",
    "# Empty array to store vals\n",
    "P_An_given_D_arr = np.zeros(len(Facilities))\n",
    "\n",
    "# Loop over facilities\n",
    "for i in range(len(Facilities)):  \n",
    "    P_An_given_D_arr[i] = ( Defective_rate[i] * Production_rate[i] ) / np.sum(Defective_rate * Production_rate)\n",
    "    print(f'Probability that a defective pace maker is from facility {Facilities[i]} is P={P_An_given_D_arr[i]}')\n",
    "    \n",
    "# Print the most likely\n",
    "idx = np.argmax(P_An_given_D_arr)\n",
    "print('\\n')\n",
    "print(f'An observed defect is most likely from facility {Facilities[idx]}, with P={P_An_given_D_arr[idx]}')"
   ]
  },
  {
   "cell_type": "code",
   "execution_count": 10,
   "id": "a08ef825",
   "metadata": {
    "ExecuteTime": {
     "end_time": "2022-03-02T14:13:32.329330Z",
     "start_time": "2022-03-02T14:13:32.320738Z"
    }
   },
   "outputs": [
    {
     "data": {
      "text/plain": [
       "1.0"
      ]
     },
     "execution_count": 10,
     "metadata": {},
     "output_type": "execute_result"
    }
   ],
   "source": [
    "# Check that they equal to 1\n",
    "np.sum(P_An_given_D_arr)"
   ]
  },
  {
   "cell_type": "code",
   "execution_count": 11,
   "id": "b686b613",
   "metadata": {
    "ExecuteTime": {
     "end_time": "2022-03-02T14:13:32.353073Z",
     "start_time": "2022-03-02T14:13:32.333659Z"
    }
   },
   "outputs": [
    {
     "name": "stdout",
     "output_type": "stream",
     "text": [
      "Facility: A1 \t Old Def_rate: 0.02 \t New Def_rate: 0.02203703703703704\n",
      "Facility: A2 \t Old Def_rate: 0.04 \t New Def_rate: 0.05950000000000001\n",
      "Facility: A3 \t Old Def_rate: 0.1 \t New Def_rate: 0.11900000000000002\n",
      "Facility: A4 \t Old Def_rate: 0.035 \t New Def_rate: 0.07437500000000001\n",
      "Facility: A5 \t Old Def_rate: 0.022 \t New Def_rate: 0.023800000000000005\n",
      "Facility: A6 \t Old Def_rate: 0.092 \t New Def_rate: 0.18030303030303033\n",
      "Facility: A7 \t Old Def_rate: 0.12 \t New Def_rate: 0.3131578947368422\n",
      "Facility: A8 \t Old Def_rate: 0.07 \t New Def_rate: 0.07\n",
      "Facility: A9 \t Old Def_rate: 0.11 \t New Def_rate: 0.18030303030303033\n",
      "Facility: A10 \t Old Def_rate: 0.02 \t New Def_rate: 0.29750000000000004\n",
      "Facility: A11 \t Old Def_rate: 0.07 \t New Def_rate: 0.3966666666666668\n",
      "Facility: A12 \t Old Def_rate: 0.06 \t New Def_rate: 0.2704545454545455\n",
      "Facility: A13 \t Old Def_rate: 0.099 \t New Def_rate: 0.3966666666666668\n",
      "Facility: A14 \t Old Def_rate: 0.082 \t New Def_rate: 0.7437500000000001\n",
      "\n",
      "\n",
      "Probability that a defective pace maker is from facility A1 is P=0.07142857142857144\n",
      "Probability that a defective pace maker is from facility A2 is P=0.07142857142857144\n",
      "Probability that a defective pace maker is from facility A3 is P=0.07142857142857144\n",
      "Probability that a defective pace maker is from facility A4 is P=0.07142857142857144\n",
      "Probability that a defective pace maker is from facility A5 is P=0.07142857142857144\n",
      "Probability that a defective pace maker is from facility A6 is P=0.07142857142857144\n",
      "Probability that a defective pace maker is from facility A7 is P=0.07142857142857144\n",
      "Probability that a defective pace maker is from facility A8 is P=0.07142857142857144\n",
      "Probability that a defective pace maker is from facility A9 is P=0.07142857142857144\n",
      "Probability that a defective pace maker is from facility A10 is P=0.07142857142857144\n",
      "Probability that a defective pace maker is from facility A11 is P=0.07142857142857144\n",
      "Probability that a defective pace maker is from facility A12 is P=0.07142857142857142\n",
      "Probability that a defective pace maker is from facility A13 is P=0.07142857142857144\n",
      "Probability that a defective pace maker is from facility A14 is P=0.07142857142857144\n"
     ]
    }
   ],
   "source": [
    "# Calc P(D|A8)P(A8) = the denominator in the eq. in the write up\n",
    "denom = Defective_rate[7] * Production_rate[7]\n",
    "\n",
    "# Copy of array to store the new defective rates in\n",
    "New_defective_rate = Defective_rate.copy()\n",
    "\n",
    "# Loop over facilities\n",
    "for i in range(len(Facilities)):\n",
    "    \n",
    "    # Calculate new defective rate\n",
    "    New_defective_rate[i] = denom / Production_rate[i]\n",
    "    \n",
    "# Print results\n",
    "for i in range(len(Facilities)):\n",
    "    print(f'Facility: {Facilities[i]} \\t Old Def_rate: {Defective_rate[i]} \\t New Def_rate: {New_defective_rate[i]}')\n",
    "    \n",
    "# Confirm that P(A_n|D) are now the same for all\n",
    "\n",
    "# Empty array to store vals\n",
    "New_P_An_given_D_arr = np.zeros(len(Facilities))\n",
    "print('\\n')\n",
    "# Loop over facilities\n",
    "for i in range(len(Facilities)):  \n",
    "    New_P_An_given_D_arr[i] = ( New_defective_rate[i] * Production_rate[i] ) / np.sum(New_defective_rate * Production_rate)\n",
    "    print(f'Probability that a defective pace maker is from facility {Facilities[i]} is P={New_P_An_given_D_arr[i]}')\n"
   ]
  },
  {
   "cell_type": "code",
   "execution_count": null,
   "id": "fae35ef4",
   "metadata": {},
   "outputs": [],
   "source": []
  }
 ],
 "metadata": {
  "kernelspec": {
   "display_name": "Python 3",
   "language": "python",
   "name": "python3"
  },
  "language_info": {
   "codemirror_mode": {
    "name": "ipython",
    "version": 3
   },
   "file_extension": ".py",
   "mimetype": "text/x-python",
   "name": "python",
   "nbconvert_exporter": "python",
   "pygments_lexer": "ipython3",
   "version": "3.6.12"
  },
  "toc": {
   "base_numbering": 1,
   "nav_menu": {},
   "number_sections": true,
   "sideBar": true,
   "skip_h1_title": false,
   "title_cell": "Table of Contents",
   "title_sidebar": "Contents",
   "toc_cell": false,
   "toc_position": {},
   "toc_section_display": true,
   "toc_window_display": true
  }
 },
 "nbformat": 4,
 "nbformat_minor": 5
}
