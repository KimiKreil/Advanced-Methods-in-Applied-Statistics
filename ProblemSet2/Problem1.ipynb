{
 "cells": [
  {
   "cell_type": "code",
   "execution_count": 1,
   "id": "fea83156",
   "metadata": {
    "ExecuteTime": {
     "end_time": "2022-03-02T14:19:23.362097Z",
     "start_time": "2022-03-02T14:19:20.801384Z"
    }
   },
   "outputs": [],
   "source": [
    "# Import libraries\n",
    "import numpy as np\n",
    "import matplotlib.pyplot as plt\n",
    "import sympy as sp\n",
    "from scipy import integrate"
   ]
  },
  {
   "cell_type": "markdown",
   "id": "3268366f",
   "metadata": {},
   "source": [
    "# Problem 1A"
   ]
  },
  {
   "cell_type": "code",
   "execution_count": 2,
   "id": "21a123f4",
   "metadata": {
    "ExecuteTime": {
     "end_time": "2022-03-02T14:19:23.375006Z",
     "start_time": "2022-03-02T14:19:23.364555Z"
    }
   },
   "outputs": [],
   "source": [
    "# Define black hole masses (in grams)\n",
    "EBH_mass_arr = [2.5*1e11, 4*1e11, 9*1e11]\n",
    "\n",
    "# Define function that converts the mass of black hole to temperature (in GeV)\n",
    "def EBH_temperature(mass):\n",
    "    return (1.057 * 1e13) / mass\n",
    "\n",
    "# Define function that finds the probability of one neutrino energy (unnormalised)\n",
    "def P_energy(energy, temp):\n",
    "    e_stuff = np.exp(energy/temp)\n",
    "    P = ( ( e_stuff-1 )/( e_stuff+3 ) ) * 1/( e_stuff+1 )\n",
    "    return P\n",
    "\n",
    "# Define a function that returns the UNNORMALISED PDF for neutrinos\n",
    "def PDF_unnorm(energies, mass):\n",
    "    \"\"\"\n",
    "    energies = the x-values, is an array of different neutrino energies of which we want the probability\n",
    "    mass = mass of black hole\n",
    "    \"\"\"\n",
    "    \n",
    "    # First we get the temperature of the black hole\n",
    "    temp = EBH_temperature(mass)\n",
    "    \n",
    "    # Calc the unnormalised PDF\n",
    "    return [ P_energy(energy,temp) for energy in energies ]"
   ]
  },
  {
   "cell_type": "code",
   "execution_count": 3,
   "id": "f6f32612",
   "metadata": {
    "ExecuteTime": {
     "end_time": "2022-03-02T14:19:23.614678Z",
     "start_time": "2022-03-02T14:19:23.377226Z"
    }
   },
   "outputs": [
    {
     "data": {
      "image/png": "[encoded data removed]",
      "text/plain": [
       "<Figure size 432x288 with 1 Axes>"
      ]
     },
     "metadata": {
      "needs_background": "light"
     },
     "output_type": "display_data"
    }
   ],
   "source": [
    "# Define energies to look at\n",
    "energies_arr = np.linspace(0,500,100)\n",
    "\n",
    "# Calc P\n",
    "p_energies_arr = PDF_unnorm(energies_arr, EBH_mass_arr[2])\n",
    "\n",
    "# Plotting\n",
    "plt.plot(energies_arr, p_energies_arr)\n",
    "plt.show()"
   ]
  },
  {
   "cell_type": "markdown",
   "id": "6555913e",
   "metadata": {},
   "source": [
    "<font color='red'>0.368 (9*10**11) masse, upper limit 350 (Linea)</font>"
   ]
  },
  {
   "cell_type": "code",
   "execution_count": 4,
   "id": "90a3e3e1",
   "metadata": {
    "ExecuteTime": {
     "end_time": "2022-03-02T14:19:23.627279Z",
     "start_time": "2022-03-02T14:19:23.616894Z"
    }
   },
   "outputs": [],
   "source": [
    "def PDF_numerical(energies, mass, up_lim):\n",
    "    \n",
    "    # First we get the temperature of the black hole\n",
    "    temp = EBH_temperature(mass)\n",
    "    \n",
    "    # Define func to integrate\n",
    "    function = lambda E: ( ( np.exp(E/temp)-1 )/( np.exp(E/temp)+3 ) ) * (1/( np.exp(E/temp)+1 ))\n",
    "    \n",
    "    # Integrate\n",
    "    area, area_err = integrate.quad(function, 0, up_lim)\n",
    "    print(area,area_err)\n",
    "    \n",
    "    # Find norm constant\n",
    "    k = 1 / area\n",
    "    print('constant is:',k)\n",
    "    \n",
    "    # Return normalised func, evaluated at energies\n",
    "    function(energies)\n",
    "    \n",
    "    return [ P_energy(energy,temp)*k for energy in energies ]"
   ]
  },
  {
   "cell_type": "code",
   "execution_count": 5,
   "id": "89c0514d",
   "metadata": {
    "ExecuteTime": {
     "end_time": "2022-03-02T14:19:23.823046Z",
     "start_time": "2022-03-02T14:19:23.631455Z"
    }
   },
   "outputs": [
    {
     "name": "stdout",
     "output_type": "stream",
     "text": [
      "2.713542851303193 6.68370777121138e-09\n",
      "constant is: 0.36852191205299917\n"
     ]
    },
    {
     "data": {
      "image/png": "[encoded data removed]",
      "text/plain": [
       "<Figure size 432x288 with 1 Axes>"
      ]
     },
     "metadata": {
      "needs_background": "light"
     },
     "output_type": "display_data"
    }
   ],
   "source": [
    "# Define energies to look at\n",
    "energies_arr = np.linspace(0,500,1000)\n",
    "\n",
    "# Calc P\n",
    "p_energies_arr = PDF_numerical(energies_arr, EBH_mass_arr[2], 500)\n",
    "\n",
    "# Plotting\n",
    "plt.plot(energies_arr, p_energies_arr)\n",
    "plt.show()"
   ]
  },
  {
   "cell_type": "code",
   "execution_count": 6,
   "id": "fa70dd8a",
   "metadata": {
    "ExecuteTime": {
     "end_time": "2022-03-02T14:19:24.103353Z",
     "start_time": "2022-03-02T14:19:23.828277Z"
    }
   },
   "outputs": [],
   "source": [
    "# Analytically\n",
    "E,T = sp.symbols('E,T')\n",
    "func_string = '( ( exp(E/T)-1 )/( exp(E/T)+3 ) ) * ( 1/( exp(E/T)+1 ) )'\n",
    "int_expr = sp.integrate(func_string, (E,0,500))"
   ]
  },
  {
   "cell_type": "code",
   "execution_count": 7,
   "id": "8f042f45",
   "metadata": {
    "ExecuteTime": {
     "end_time": "2022-03-02T14:19:24.120183Z",
     "start_time": "2022-03-02T14:19:24.105440Z"
    }
   },
   "outputs": [
    {
     "data": {
      "text/latex": [
       "$\\displaystyle 3.95129460524868$"
      ],
      "text/plain": [
       "3.95129460524868"
      ]
     },
     "execution_count": 7,
     "metadata": {},
     "output_type": "execute_result"
    }
   ],
   "source": [
    "int_expr.subs('T', EBH_temperature(EBH_mass_arr[0])).evalf()"
   ]
  },
  {
   "cell_type": "code",
   "execution_count": 8,
   "id": "fcc1562e",
   "metadata": {
    "ExecuteTime": {
     "end_time": "2022-03-02T14:19:24.157396Z",
     "start_time": "2022-03-02T14:19:24.129148Z"
    }
   },
   "outputs": [
    {
     "data": {
      "text/latex": [
       "$\\displaystyle 0.253081609928973$"
      ],
      "text/plain": [
       "0.253081609928973"
      ]
     },
     "execution_count": 8,
     "metadata": {},
     "output_type": "execute_result"
    }
   ],
   "source": [
    "1 / int_expr.subs('T', EBH_temperature(EBH_mass_arr[0])).evalf()"
   ]
  },
  {
   "cell_type": "markdown",
   "id": "d9560371",
   "metadata": {},
   "source": [
    "Okay there is a relative big difference between nummerical integration and analytical integration. Only for a certain limit does it reach the same. Sympy is also maybe wrong when analysing it visually and estimating the area if we say we cut it at 100 and say it is a trianlge."
   ]
  },
  {
   "cell_type": "code",
   "execution_count": null,
   "id": "b32eb25b",
   "metadata": {},
   "outputs": [],
   "source": []
  },
  {
   "cell_type": "markdown",
   "id": "45d3099a",
   "metadata": {},
   "source": [
    "# Problem 1B"
   ]
  },
  {
   "cell_type": "markdown",
   "id": "5f3e1104",
   "metadata": {},
   "source": [
    "# Problem 1C"
   ]
  },
  {
   "cell_type": "markdown",
   "id": "c1a89480",
   "metadata": {},
   "source": [
    "# Problem 1D"
   ]
  },
  {
   "cell_type": "code",
   "execution_count": null,
   "id": "a44e8f1d",
   "metadata": {},
   "outputs": [],
   "source": []
  }
 ],
 "metadata": {
  "kernelspec": {
   "display_name": "Python 3",
   "language": "python",
   "name": "python3"
  },
  "language_info": {
   "codemirror_mode": {
    "name": "ipython",
    "version": 3
   },
   "file_extension": ".py",
   "mimetype": "text/x-python",
   "name": "python",
   "nbconvert_exporter": "python",
   "pygments_lexer": "ipython3",
   "version": "3.6.12"
  },
  "toc": {
   "base_numbering": 1,
   "nav_menu": {},
   "number_sections": true,
   "sideBar": true,
   "skip_h1_title": false,
   "title_cell": "Table of Contents",
   "title_sidebar": "Contents",
   "toc_cell": false,
   "toc_position": {},
   "toc_section_display": true,
   "toc_window_display": true
  }
 },
 "nbformat": 4,
 "nbformat_minor": 5
}
