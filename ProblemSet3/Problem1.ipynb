{
 "cells": [
  {
   "cell_type": "code",
   "execution_count": 2,
   "id": "d3bf19d5",
   "metadata": {
    "ExecuteTime": {
     "end_time": "2022-04-01T03:15:04.370527Z",
     "start_time": "2022-04-01T03:14:59.257786Z"
    }
   },
   "outputs": [],
   "source": [
    "# Import standard libraries\n",
    "import numpy as np\n",
    "import matplotlib.pyplot as plt\n",
    "import pandas as pd\n",
    "import matplotlib.patches as patches\n",
    "\n",
    "# Machine learning libraries\n",
    "from sklearn.model_selection import train_test_split\n",
    "from xgboost import XGBClassifier\n",
    "from sklearn.model_selection import GridSearchCV, RandomizedSearchCV\n",
    "from sklearn.metrics import accuracy_score, balanced_accuracy_score, log_loss, precision_score\n",
    "from sklearn.metrics import roc_curve, auc\n",
    "from scipy import stats"
   ]
  },
  {
   "cell_type": "code",
   "execution_count": 2,
   "id": "97231b87",
   "metadata": {
    "ExecuteTime": {
     "end_time": "2022-03-16T18:53:40.711466Z",
     "start_time": "2022-03-16T18:53:40.704785Z"
    }
   },
   "outputs": [],
   "source": [
    "SavePlots = True"
   ]
  },
  {
   "cell_type": "code",
   "execution_count": 3,
   "id": "64d9c500",
   "metadata": {
    "ExecuteTime": {
     "end_time": "2022-03-16T18:53:40.775164Z",
     "start_time": "2022-03-16T18:53:40.715268Z"
    }
   },
   "outputs": [
    {
     "data": {
      "text/html": [
       "<div>\n",
       "<style scoped>\n",
       "    .dataframe tbody tr th:only-of-type {\n",
       "        vertical-align: middle;\n",
       "    }\n",
       "\n",
       "    .dataframe tbody tr th {\n",
       "        vertical-align: top;\n",
       "    }\n",
       "\n",
       "    .dataframe thead th {\n",
       "        text-align: right;\n",
       "    }\n",
       "</style>\n",
       "<table border=\"1\" class=\"dataframe\">\n",
       "  <thead>\n",
       "    <tr style=\"text-align: right;\">\n",
       "      <th></th>\n",
       "      <th>age</th>\n",
       "      <th>education</th>\n",
       "      <th>gender</th>\n",
       "      <th>hours-per-week</th>\n",
       "      <th>earning</th>\n",
       "    </tr>\n",
       "  </thead>\n",
       "  <tbody>\n",
       "    <tr>\n",
       "      <th>0</th>\n",
       "      <td>39</td>\n",
       "      <td>13</td>\n",
       "      <td>0</td>\n",
       "      <td>40</td>\n",
       "      <td>&lt;=50K</td>\n",
       "    </tr>\n",
       "    <tr>\n",
       "      <th>1</th>\n",
       "      <td>50</td>\n",
       "      <td>13</td>\n",
       "      <td>0</td>\n",
       "      <td>13</td>\n",
       "      <td>&lt;=50K</td>\n",
       "    </tr>\n",
       "    <tr>\n",
       "      <th>2</th>\n",
       "      <td>38</td>\n",
       "      <td>9</td>\n",
       "      <td>0</td>\n",
       "      <td>40</td>\n",
       "      <td>&lt;=50K</td>\n",
       "    </tr>\n",
       "    <tr>\n",
       "      <th>3</th>\n",
       "      <td>53</td>\n",
       "      <td>7</td>\n",
       "      <td>0</td>\n",
       "      <td>40</td>\n",
       "      <td>&lt;=50K</td>\n",
       "    </tr>\n",
       "    <tr>\n",
       "      <th>4</th>\n",
       "      <td>28</td>\n",
       "      <td>13</td>\n",
       "      <td>1</td>\n",
       "      <td>40</td>\n",
       "      <td>&lt;=50K</td>\n",
       "    </tr>\n",
       "    <tr>\n",
       "      <th>...</th>\n",
       "      <td>...</td>\n",
       "      <td>...</td>\n",
       "      <td>...</td>\n",
       "      <td>...</td>\n",
       "      <td>...</td>\n",
       "    </tr>\n",
       "    <tr>\n",
       "      <th>4495</th>\n",
       "      <td>50</td>\n",
       "      <td>13</td>\n",
       "      <td>0</td>\n",
       "      <td>40</td>\n",
       "      <td>&gt;50K</td>\n",
       "    </tr>\n",
       "    <tr>\n",
       "      <th>4496</th>\n",
       "      <td>41</td>\n",
       "      <td>10</td>\n",
       "      <td>0</td>\n",
       "      <td>70</td>\n",
       "      <td>&lt;=50K</td>\n",
       "    </tr>\n",
       "    <tr>\n",
       "      <th>4497</th>\n",
       "      <td>46</td>\n",
       "      <td>4</td>\n",
       "      <td>0</td>\n",
       "      <td>47</td>\n",
       "      <td>&lt;=50K</td>\n",
       "    </tr>\n",
       "    <tr>\n",
       "      <th>4498</th>\n",
       "      <td>35</td>\n",
       "      <td>11</td>\n",
       "      <td>1</td>\n",
       "      <td>40</td>\n",
       "      <td>&lt;=50K</td>\n",
       "    </tr>\n",
       "    <tr>\n",
       "      <th>4499</th>\n",
       "      <td>21</td>\n",
       "      <td>10</td>\n",
       "      <td>0</td>\n",
       "      <td>40</td>\n",
       "      <td>&lt;=50K</td>\n",
       "    </tr>\n",
       "  </tbody>\n",
       "</table>\n",
       "<p>4500 rows × 5 columns</p>\n",
       "</div>"
      ],
      "text/plain": [
       "      age  education  gender  hours-per-week earning\n",
       "0      39         13       0              40   <=50K\n",
       "1      50         13       0              13   <=50K\n",
       "2      38          9       0              40   <=50K\n",
       "3      53          7       0              40   <=50K\n",
       "4      28         13       1              40   <=50K\n",
       "...   ...        ...     ...             ...     ...\n",
       "4495   50         13       0              40    >50K\n",
       "4496   41         10       0              70   <=50K\n",
       "4497   46          4       0              47   <=50K\n",
       "4498   35         11       1              40   <=50K\n",
       "4499   21         10       0              40   <=50K\n",
       "\n",
       "[4500 rows x 5 columns]"
      ]
     },
     "execution_count": 3,
     "metadata": {},
     "output_type": "execute_result"
    }
   ],
   "source": [
    "# Import the data for testing and training from file\n",
    "data = pd.read_csv('Data/earning_potential_train_test.txt') #think about earning column that is a string\n",
    "data"
   ]
  },
  {
   "cell_type": "code",
   "execution_count": 4,
   "id": "d292f03a",
   "metadata": {
    "ExecuteTime": {
     "end_time": "2022-03-16T18:53:40.819540Z",
     "start_time": "2022-03-16T18:53:40.779515Z"
    }
   },
   "outputs": [
    {
     "data": {
      "text/html": [
       "<div>\n",
       "<style scoped>\n",
       "    .dataframe tbody tr th:only-of-type {\n",
       "        vertical-align: middle;\n",
       "    }\n",
       "\n",
       "    .dataframe tbody tr th {\n",
       "        vertical-align: top;\n",
       "    }\n",
       "\n",
       "    .dataframe thead th {\n",
       "        text-align: right;\n",
       "    }\n",
       "</style>\n",
       "<table border=\"1\" class=\"dataframe\">\n",
       "  <thead>\n",
       "    <tr style=\"text-align: right;\">\n",
       "      <th></th>\n",
       "      <th>ID</th>\n",
       "      <th>age</th>\n",
       "      <th>education</th>\n",
       "      <th>gender</th>\n",
       "      <th>hours-per-week</th>\n",
       "    </tr>\n",
       "  </thead>\n",
       "  <tbody>\n",
       "    <tr>\n",
       "      <th>0</th>\n",
       "      <td>0</td>\n",
       "      <td>40</td>\n",
       "      <td>9</td>\n",
       "      <td>1</td>\n",
       "      <td>40</td>\n",
       "    </tr>\n",
       "    <tr>\n",
       "      <th>1</th>\n",
       "      <td>1</td>\n",
       "      <td>28</td>\n",
       "      <td>13</td>\n",
       "      <td>1</td>\n",
       "      <td>48</td>\n",
       "    </tr>\n",
       "    <tr>\n",
       "      <th>2</th>\n",
       "      <td>2</td>\n",
       "      <td>49</td>\n",
       "      <td>10</td>\n",
       "      <td>1</td>\n",
       "      <td>30</td>\n",
       "    </tr>\n",
       "    <tr>\n",
       "      <th>3</th>\n",
       "      <td>3</td>\n",
       "      <td>32</td>\n",
       "      <td>9</td>\n",
       "      <td>0</td>\n",
       "      <td>40</td>\n",
       "    </tr>\n",
       "    <tr>\n",
       "      <th>4</th>\n",
       "      <td>4</td>\n",
       "      <td>33</td>\n",
       "      <td>9</td>\n",
       "      <td>0</td>\n",
       "      <td>40</td>\n",
       "    </tr>\n",
       "    <tr>\n",
       "      <th>...</th>\n",
       "      <td>...</td>\n",
       "      <td>...</td>\n",
       "      <td>...</td>\n",
       "      <td>...</td>\n",
       "      <td>...</td>\n",
       "    </tr>\n",
       "    <tr>\n",
       "      <th>3607</th>\n",
       "      <td>3607</td>\n",
       "      <td>46</td>\n",
       "      <td>11</td>\n",
       "      <td>1</td>\n",
       "      <td>63</td>\n",
       "    </tr>\n",
       "    <tr>\n",
       "      <th>3608</th>\n",
       "      <td>3608</td>\n",
       "      <td>47</td>\n",
       "      <td>10</td>\n",
       "      <td>1</td>\n",
       "      <td>40</td>\n",
       "    </tr>\n",
       "    <tr>\n",
       "      <th>3609</th>\n",
       "      <td>3609</td>\n",
       "      <td>74</td>\n",
       "      <td>9</td>\n",
       "      <td>1</td>\n",
       "      <td>40</td>\n",
       "    </tr>\n",
       "    <tr>\n",
       "      <th>3610</th>\n",
       "      <td>3610</td>\n",
       "      <td>55</td>\n",
       "      <td>10</td>\n",
       "      <td>0</td>\n",
       "      <td>40</td>\n",
       "    </tr>\n",
       "    <tr>\n",
       "      <th>3611</th>\n",
       "      <td>3611</td>\n",
       "      <td>37</td>\n",
       "      <td>9</td>\n",
       "      <td>0</td>\n",
       "      <td>46</td>\n",
       "    </tr>\n",
       "  </tbody>\n",
       "</table>\n",
       "<p>3612 rows × 5 columns</p>\n",
       "</div>"
      ],
      "text/plain": [
       "        ID  age  education  gender  hours-per-week\n",
       "0        0   40          9       1              40\n",
       "1        1   28         13       1              48\n",
       "2        2   49         10       1              30\n",
       "3        3   32          9       0              40\n",
       "4        4   33          9       0              40\n",
       "...    ...  ...        ...     ...             ...\n",
       "3607  3607   46         11       1              63\n",
       "3608  3608   47         10       1              40\n",
       "3609  3609   74          9       1              40\n",
       "3610  3610   55         10       0              40\n",
       "3611  3611   37          9       0              46\n",
       "\n",
       "[3612 rows x 5 columns]"
      ]
     },
     "execution_count": 4,
     "metadata": {},
     "output_type": "execute_result"
    }
   ],
   "source": [
    "# Import the data for the analysis\n",
    "real_data = pd.read_csv('Data/earning_potential_real.txt')\n",
    "real_data"
   ]
  },
  {
   "cell_type": "markdown",
   "id": "19d7b976",
   "metadata": {
    "ExecuteTime": {
     "end_time": "2022-03-10T14:19:23.818199Z",
     "start_time": "2022-03-10T14:19:23.814883Z"
    }
   },
   "source": [
    "# Building the Classifier Part"
   ]
  },
  {
   "cell_type": "markdown",
   "id": "fdfe7555",
   "metadata": {},
   "source": [
    "## Creating train/test data sets"
   ]
  },
  {
   "cell_type": "code",
   "execution_count": 5,
   "id": "95035d3f",
   "metadata": {
    "ExecuteTime": {
     "end_time": "2022-03-16T18:53:40.832100Z",
     "start_time": "2022-03-16T18:53:40.821712Z"
    }
   },
   "outputs": [
    {
     "name": "stdout",
     "output_type": "stream",
     "text": [
      "There are 4500 individuals included in the full data set.\n",
      "Higher income earners: 1091\n",
      "Lower income earners: 3409\n",
      "If signal is high earners, and background is low earners, the signal to noise ratio is: 0.32\n"
     ]
    }
   ],
   "source": [
    "# First we lets look at our data - how many of each classes are there?\n",
    "N_high = np.sum( data['earning'] == ' >50K' )\n",
    "N_low = np.sum( data['earning'] == ' <=50K' )\n",
    "ratio = N_high / N_low\n",
    "\n",
    "# Print results\n",
    "print(f'There are {len(data)} individuals included in the full data set.')\n",
    "print(f'Higher income earners: {N_high}')\n",
    "print(f'Lower income earners: {N_low}')\n",
    "print(f'If signal is high earners, and background is low earners, the signal to noise ratio is: {ratio:.2f}')"
   ]
  },
  {
   "cell_type": "markdown",
   "id": "3172c66f",
   "metadata": {},
   "source": [
    "Since our data set is not balanced, we want this to be reflected in both the training and the testing data set we create."
   ]
  },
  {
   "cell_type": "code",
   "execution_count": 6,
   "id": "f6e3638d",
   "metadata": {
    "ExecuteTime": {
     "end_time": "2022-03-16T18:53:40.855774Z",
     "start_time": "2022-03-16T18:53:40.834439Z"
    }
   },
   "outputs": [
    {
     "name": "stdout",
     "output_type": "stream",
     "text": [
      "\t\t\t TEST \t\t\t TRAIN\n",
      "--------------------------------------------------------------\n",
      "TOTAL: \t\t\t 2071 \t\t\t 2429\n",
      "HIGH EARNERS: \t\t 502 \t\t\t 589\n",
      "LOW EARNERS: \t\t 1569 \t\t\t 1840\n",
      "S/N RATIO: \t\t 0.32 \t\t\t 0.32\n"
     ]
    }
   ],
   "source": [
    "# Lets split the data into high and low earners\n",
    "high_mask = (data['earning'] == ' >50K')\n",
    "low_mask = (data['earning'] == ' <=50K')\n",
    "\n",
    "# X contains the parameters - should have shape (samples, parameters)\n",
    "X_high = data.iloc[:, :4][high_mask] #iloc extracts columns age, education, gender and h/week\n",
    "X_low = data.iloc[:, :4][~high_mask]\n",
    "\n",
    "# Y contains the labels (high earners=1, and low-earners=0) - shape (samples)\n",
    "Y_high = np.ones(N_high)\n",
    "Y_low = np.zeros(N_low)\n",
    "\n",
    "# Define random splitting seed\n",
    "seed = 1\n",
    "\n",
    "# Define test size (we will try 54/46 - ensures that there are 500 high earners in the test)\n",
    "test_sz = 0.46\n",
    "\n",
    "# Now we split high earners and low earners individually\n",
    "X_high_train, X_high_test, Y_high_train, Y_high_test = train_test_split(X_high, Y_high, test_size=test_sz, \n",
    "                                                                        random_state=seed)\n",
    "X_low_train, X_low_test, Y_low_train, Y_low_test = train_test_split(X_low, Y_low, test_size=test_sz, \n",
    "                                                                        random_state=seed)\n",
    "\n",
    "# Print some stats so we know we get what we want\n",
    "print('\\t\\t\\t TEST \\t\\t\\t TRAIN')\n",
    "print('--------------------------------------------------------------')\n",
    "print(f'TOTAL: \\t\\t\\t {len(X_high_test)+len(X_low_test)} \\t\\t\\t {len(X_high_train)+len(X_low_train)}')\n",
    "print(f'HIGH EARNERS: \\t\\t {len(X_high_test)} \\t\\t\\t {len(X_high_train)}')\n",
    "print(f'LOW EARNERS: \\t\\t {len(X_low_test)} \\t\\t\\t {len(X_low_train)}')\n",
    "print(f'S/N RATIO: \\t\\t {len(X_high_test)/len(X_low_test):.2f} \\t\\t\\t {len(X_high_train)/len(X_low_train):.2f}')"
   ]
  },
  {
   "cell_type": "code",
   "execution_count": 7,
   "id": "8adac4ba",
   "metadata": {
    "ExecuteTime": {
     "end_time": "2022-03-16T18:53:40.870237Z",
     "start_time": "2022-03-16T18:53:40.858900Z"
    }
   },
   "outputs": [
    {
     "data": {
      "text/plain": [
       "((2429, 4), (2429,), (2071, 4), (2071,))"
      ]
     },
     "execution_count": 7,
     "metadata": {},
     "output_type": "execute_result"
    }
   ],
   "source": [
    "# Concatenate the results\n",
    "X_train = np.vstack([X_high_train, X_low_train])\n",
    "Y_train = np.hstack([Y_high_train, Y_low_train])\n",
    "\n",
    "X_test = np.vstack([X_high_test, X_low_test])\n",
    "Y_test = np.hstack([Y_high_test, Y_low_test])\n",
    "\n",
    "# Shuffle the results so they are not ordered so highest earners are first\n",
    "perm_train = np.random.permutation(len(X_train))\n",
    "X_train = X_train[perm_train]\n",
    "Y_train = Y_train[perm_train]\n",
    "\n",
    "perm_test = np.random.permutation(len(X_test))\n",
    "X_test = X_train[perm_test]\n",
    "Y_test = Y_train[perm_test]\n",
    "\n",
    "# Check shapes\n",
    "np.shape(X_train), np.shape(Y_train), np.shape(X_test), np.shape(Y_test)"
   ]
  },
  {
   "cell_type": "code",
   "execution_count": 8,
   "id": "5abd7415",
   "metadata": {
    "ExecuteTime": {
     "end_time": "2022-03-16T18:53:41.769926Z",
     "start_time": "2022-03-16T18:53:40.873932Z"
    }
   },
   "outputs": [
    {
     "data": {
      "image/png": "[encoded data removed]",
      "text/plain": [
       "<Figure size 1440x288 with 4 Axes>"
      ]
     },
     "metadata": {
      "needs_background": "light"
     },
     "output_type": "display_data"
    }
   ],
   "source": [
    "# Lets check that the test sample explores the whole parameter space by making histograms\n",
    "fig, ax = plt.subplots(ncols=4, figsize=(20,4))\n",
    "\n",
    "# Age ---------\n",
    "ax[0].set_title('Age', fontsize=20)\n",
    "ax[0].hist(X_train[:,0], color='blue', histtype='step', density=True)\n",
    "ax[0].hist(X_test[:,0], color='red', histtype='step', density=True)\n",
    "\n",
    "# Education ---------\n",
    "ax[1].set_title('Education', fontsize=20)\n",
    "ax[1].hist(X_train[:,1], color='blue', histtype='step', density=True, label='Train')\n",
    "ax[1].hist(X_test[:,1], color='red', histtype='step', density=True, label='Test')\n",
    "\n",
    "# Gender ---------\n",
    "ax[2].set_title('Gender', fontsize=20)\n",
    "ax[2].hist(X_train[:,2], color='blue', histtype='step', density=True)\n",
    "ax[2].hist(X_test[:,2], color='red', histtype='step', density=True)\n",
    "\n",
    "# Hours per week ---------\n",
    "ax[3].set_title('Hours/Week', fontsize=20)\n",
    "ax[3].hist(X_train[:,3], color='blue', histtype='step', density=True)\n",
    "ax[3].hist(X_test[:,3], color='red', histtype='step', density=True)\n",
    "\n",
    "\n",
    "ax[1].legend(loc='lower center', bbox_to_anchor=(1, -0.4), ncol=3, fancybox=True, shadow=True, fontsize=18)\n",
    "\n",
    "if SavePlots: plt.savefig('Plots/1_check_train_test.png')\n",
    "plt.show()"
   ]
  },
  {
   "cell_type": "markdown",
   "id": "236ad8c4",
   "metadata": {},
   "source": [
    "## Selecting hyperparameters"
   ]
  },
  {
   "cell_type": "code",
   "execution_count": 1,
   "id": "fab2f1ad",
   "metadata": {
    "ExecuteTime": {
     "end_time": "2022-04-01T03:14:51.014982Z",
     "start_time": "2022-04-01T03:14:50.041409Z"
    }
   },
   "outputs": [
    {
     "ename": "NameError",
     "evalue": "name 'XGBClassifier' is not defined",
     "output_type": "error",
     "traceback": [
      "\u001b[0;31m---------------------------------------------------------------------------\u001b[0m",
      "\u001b[0;31mNameError\u001b[0m                                 Traceback (most recent call last)",
      "\u001b[0;32m<ipython-input-1-f4605148a36c>\u001b[0m in \u001b[0;36m<module>\u001b[0;34m\u001b[0m\n\u001b[1;32m      2\u001b[0m \u001b[0;34m\u001b[0m\u001b[0m\n\u001b[1;32m      3\u001b[0m \u001b[0;31m# Define model\u001b[0m\u001b[0;34m\u001b[0m\u001b[0;34m\u001b[0m\u001b[0;34m\u001b[0m\u001b[0m\n\u001b[0;32m----> 4\u001b[0;31m model = XGBClassifier(objective='binary:logistic', eval_metric='logloss', random_state=1,\n\u001b[0m\u001b[1;32m      5\u001b[0m                       learning_rate=0.1, use_label_encoder=False)\n\u001b[1;32m      6\u001b[0m \u001b[0;34m\u001b[0m\u001b[0m\n",
      "\u001b[0;31mNameError\u001b[0m: name 'XGBClassifier' is not defined"
     ]
    }
   ],
   "source": [
    "# The main parameters are max_depth and n_estimators so lets make a gridsearch of variations those\n",
    "\n",
    "# Define model\n",
    "model = XGBClassifier(objective='binary:logistic', eval_metric='logloss', random_state=1,\n",
    "                      learning_rate=0.1, use_label_encoder=False)\n",
    "\n",
    "# Specify parameters and distributions to sample from\n",
    "parameters_RandomSearch = {'max_depth': stats.randint(1,10), \n",
    "                           'n_estimators': stats.randint(1, 200)}\n",
    "\n",
    "# Chose number of iterations and number of folds\n",
    "n_iter_search = 5\n",
    "k = 3\n",
    "\n",
    "RandomSearch = RandomizedSearchCV(model, \n",
    "                                  param_distributions=parameters_RandomSearch, \n",
    "                                  n_iter=n_iter_search, \n",
    "                                  cv=k, \n",
    "                                  return_train_score=True,\n",
    "                                  random_state=1,\n",
    "                                  scoring = 'accuracy')\n",
    "# Fit the random search instance\n",
    "RandomSearch.fit(X_train, Y_train);\n",
    "\n",
    "# Get results\n",
    "RandomSearch_results = pd.DataFrame(RandomSearch.cv_results_)                 \n",
    "print(\"Random Search: \\tBest parameters: \", RandomSearch.best_params_, f\", Best scores: {RandomSearch.best_score_:.3f}\")\n",
    "\n",
    "RandomSearch_results.head(3)"
   ]
  },
  {
   "cell_type": "code",
   "execution_count": 10,
   "id": "c55eb7a0",
   "metadata": {
    "ExecuteTime": {
     "end_time": "2022-03-16T18:53:47.845274Z",
     "start_time": "2022-03-16T18:53:43.920431Z"
    }
   },
   "outputs": [
    {
     "name": "stdout",
     "output_type": "stream",
     "text": [
      "Random Search: \tBest parameters:  {'max_depth': 4, 'n_estimators': 122} , Best scores: 0.670\n"
     ]
    },
    {
     "data": {
      "text/html": [
       "<div>\n",
       "<style scoped>\n",
       "    .dataframe tbody tr th:only-of-type {\n",
       "        vertical-align: middle;\n",
       "    }\n",
       "\n",
       "    .dataframe tbody tr th {\n",
       "        vertical-align: top;\n",
       "    }\n",
       "\n",
       "    .dataframe thead th {\n",
       "        text-align: right;\n",
       "    }\n",
       "</style>\n",
       "<table border=\"1\" class=\"dataframe\">\n",
       "  <thead>\n",
       "    <tr style=\"text-align: right;\">\n",
       "      <th></th>\n",
       "      <th>mean_fit_time</th>\n",
       "      <th>std_fit_time</th>\n",
       "      <th>mean_score_time</th>\n",
       "      <th>std_score_time</th>\n",
       "      <th>param_max_depth</th>\n",
       "      <th>param_n_estimators</th>\n",
       "      <th>params</th>\n",
       "      <th>split0_test_score</th>\n",
       "      <th>split1_test_score</th>\n",
       "      <th>split2_test_score</th>\n",
       "      <th>mean_test_score</th>\n",
       "      <th>std_test_score</th>\n",
       "      <th>rank_test_score</th>\n",
       "      <th>split0_train_score</th>\n",
       "      <th>split1_train_score</th>\n",
       "      <th>split2_train_score</th>\n",
       "      <th>mean_train_score</th>\n",
       "      <th>std_train_score</th>\n",
       "    </tr>\n",
       "  </thead>\n",
       "  <tbody>\n",
       "    <tr>\n",
       "      <th>0</th>\n",
       "      <td>0.021329</td>\n",
       "      <td>0.003160</td>\n",
       "      <td>0.002737</td>\n",
       "      <td>0.000212</td>\n",
       "      <td>1</td>\n",
       "      <td>16</td>\n",
       "      <td>{'max_depth': 1, 'n_estimators': 16}</td>\n",
       "      <td>0.500000</td>\n",
       "      <td>0.500000</td>\n",
       "      <td>0.500000</td>\n",
       "      <td>0.500000</td>\n",
       "      <td>0.000000</td>\n",
       "      <td>19</td>\n",
       "      <td>0.500000</td>\n",
       "      <td>0.500000</td>\n",
       "      <td>0.500000</td>\n",
       "      <td>0.500000</td>\n",
       "      <td>0.000000</td>\n",
       "    </tr>\n",
       "    <tr>\n",
       "      <th>1</th>\n",
       "      <td>0.078174</td>\n",
       "      <td>0.041234</td>\n",
       "      <td>0.003640</td>\n",
       "      <td>0.001242</td>\n",
       "      <td>2</td>\n",
       "      <td>73</td>\n",
       "      <td>{'max_depth': 2, 'n_estimators': 73}</td>\n",
       "      <td>0.671999</td>\n",
       "      <td>0.643680</td>\n",
       "      <td>0.647576</td>\n",
       "      <td>0.654418</td>\n",
       "      <td>0.012532</td>\n",
       "      <td>15</td>\n",
       "      <td>0.655425</td>\n",
       "      <td>0.682696</td>\n",
       "      <td>0.691577</td>\n",
       "      <td>0.676566</td>\n",
       "      <td>0.015382</td>\n",
       "    </tr>\n",
       "    <tr>\n",
       "      <th>2</th>\n",
       "      <td>0.037232</td>\n",
       "      <td>0.002483</td>\n",
       "      <td>0.002777</td>\n",
       "      <td>0.000552</td>\n",
       "      <td>3</td>\n",
       "      <td>44</td>\n",
       "      <td>{'max_depth': 3, 'n_estimators': 44}</td>\n",
       "      <td>0.683125</td>\n",
       "      <td>0.643772</td>\n",
       "      <td>0.645841</td>\n",
       "      <td>0.657579</td>\n",
       "      <td>0.018083</td>\n",
       "      <td>11</td>\n",
       "      <td>0.657154</td>\n",
       "      <td>0.684025</td>\n",
       "      <td>0.695036</td>\n",
       "      <td>0.678738</td>\n",
       "      <td>0.015911</td>\n",
       "    </tr>\n",
       "  </tbody>\n",
       "</table>\n",
       "</div>"
      ],
      "text/plain": [
       "   mean_fit_time  std_fit_time  mean_score_time  std_score_time  \\\n",
       "0       0.021329      0.003160         0.002737        0.000212   \n",
       "1       0.078174      0.041234         0.003640        0.001242   \n",
       "2       0.037232      0.002483         0.002777        0.000552   \n",
       "\n",
       "  param_max_depth param_n_estimators                                params  \\\n",
       "0               1                 16  {'max_depth': 1, 'n_estimators': 16}   \n",
       "1               2                 73  {'max_depth': 2, 'n_estimators': 73}   \n",
       "2               3                 44  {'max_depth': 3, 'n_estimators': 44}   \n",
       "\n",
       "   split0_test_score  split1_test_score  split2_test_score  mean_test_score  \\\n",
       "0           0.500000           0.500000           0.500000         0.500000   \n",
       "1           0.671999           0.643680           0.647576         0.654418   \n",
       "2           0.683125           0.643772           0.645841         0.657579   \n",
       "\n",
       "   std_test_score  rank_test_score  split0_train_score  split1_train_score  \\\n",
       "0        0.000000               19            0.500000            0.500000   \n",
       "1        0.012532               15            0.655425            0.682696   \n",
       "2        0.018083               11            0.657154            0.684025   \n",
       "\n",
       "   split2_train_score  mean_train_score  std_train_score  \n",
       "0            0.500000          0.500000         0.000000  \n",
       "1            0.691577          0.676566         0.015382  \n",
       "2            0.695036          0.678738         0.015911  "
      ]
     },
     "execution_count": 10,
     "metadata": {},
     "output_type": "execute_result"
    }
   ],
   "source": [
    "### New random search close to the best point ###\n",
    "\n",
    "# Specify parameters and distributions to sample from (center around the best values from previous search)\n",
    "xlim2 = (1,5)\n",
    "ylim2 = (1,150)\n",
    "parameters_RandomSearch2 = {'max_depth': stats.randint(1,5), \n",
    "                           'n_estimators': stats.randint(1,150) }\n",
    "\n",
    "# Chose number of iterations and number of folds\n",
    "n_iter_search = 20\n",
    "k = 3\n",
    "\n",
    "RandomSearch2 = RandomizedSearchCV(model, \n",
    "                                   param_distributions=parameters_RandomSearch2, \n",
    "                                   n_iter=n_iter_search, \n",
    "                                   cv=k, \n",
    "                                   return_train_score=True,\n",
    "                                   random_state=2,\n",
    "                                   scoring = 'balanced_accuracy')\n",
    "\n",
    "# Fit the random search instance\n",
    "RandomSearch2.fit(X_train, Y_train);\n",
    "\n",
    "# Get results\n",
    "RandomSearch2_results = pd.DataFrame(RandomSearch2.cv_results_)                 \n",
    "print(\"Random Search: \\tBest parameters: \", RandomSearch2.best_params_, f\", Best scores: {RandomSearch2.best_score_:.3f}\")\n",
    "\n",
    "RandomSearch2_results.head(3)"
   ]
  },
  {
   "cell_type": "code",
   "execution_count": 11,
   "id": "ecf65157",
   "metadata": {
    "ExecuteTime": {
     "end_time": "2022-03-16T18:53:48.632509Z",
     "start_time": "2022-03-16T18:53:47.848267Z"
    }
   },
   "outputs": [
    {
     "data": {
      "image/png": "[encoded data removed]",
      "text/plain": [
       "<Figure size 1080x432 with 3 Axes>"
      ]
     },
     "metadata": {
      "needs_background": "light"
     },
     "output_type": "display_data"
    }
   ],
   "source": [
    "# Lets try to plot it with colors in a 2d parameter space ----------------------------------\n",
    "\n",
    "# Create figure\n",
    "fig, ax = plt.subplots(ncols=2, figsize=(15,6), gridspec_kw={'wspace':0.2, 'width_ratios':(1.7,2)})\n",
    "\n",
    "# Get parameters\n",
    "x1 = RandomSearch_results['param_max_depth']\n",
    "x2 = RandomSearch_results['param_n_estimators']\n",
    "color = RandomSearch_results['mean_test_score']\n",
    "\n",
    "x1_2 = RandomSearch2_results['param_max_depth']\n",
    "x2_2 = RandomSearch2_results['param_n_estimators']\n",
    "color2 = RandomSearch2_results['mean_test_score']\n",
    "\n",
    "mini, maxi = np.min(np.concatenate((color,color2))), np.max(np.concatenate((color,color2))) #color ranges\n",
    "\n",
    "# Plot initial random search\n",
    "ax[0].scatter(x1, x2, s=300, c = color, cmap='RdYlGn', zorder=2, vmin=mini, vmax=maxi)\n",
    "ax[0].set_facecolor('gainsboro')\n",
    "ax[0].grid(color='w', zorder=0)\n",
    "ax[0].set_xlabel('max_depth', fontsize=14)\n",
    "ax[0].set_ylabel('n_estimators', fontsize=14)\n",
    "ax[0].set_title('Initial Random Search', fontsize=16)\n",
    "ax[0].set_xlim(0,10)\n",
    "ax[0].set_ylim(0,200)\n",
    "\n",
    "# Plot final search\n",
    "im2 = ax[1].scatter(x1_2, x2_2, s=300, c = color2, cmap='RdYlGn', zorder=2, vmin=mini, vmax=maxi)\n",
    "ax[1].set_facecolor('gainsboro')\n",
    "ax[1].grid(color='w', zorder=0)\n",
    "ax[1].set_xlabel('max_depth', fontsize=14)\n",
    "ax[1].set_ylabel('n_estimators', fontsize=14)\n",
    "ax[1].set_title('Final Random Search', fontsize=16)\n",
    "ax[1].set_xlim(*xlim2)\n",
    "ax[1].set_ylim(*ylim2)\n",
    "\n",
    "# Shared colorbar\n",
    "cbar = fig.colorbar(im2, ax=ax[1])\n",
    "cbar.set_label('Balanced Accuracy', fontsize=14, x=1.7)\n",
    "\n",
    "# Mark the zoom in plot ------------------------\n",
    "# Square (x,y,width,height)\n",
    "rect = patches.Rectangle((xlim2[0],ylim2[0]), xlim2[1]-xlim2[0], ylim2[1]-ylim2[0], linewidth=2, edgecolor='k', facecolor='none', linestyle='dashed')\n",
    "ax[0].add_patch(rect)\n",
    "# Lines\n",
    "line1 = patches.ConnectionPatch(xyA=(xlim2[0],ylim2[1]), xyB=(xlim2[0],ylim2[1]), coordsA=ax[0].transData, coordsB=ax[1].transData)\n",
    "fig.add_artist(line1)\n",
    "line2 = patches.ConnectionPatch(xyA=(xlim2[1],ylim2[0]), xyB=(xlim2[1],ylim2[0]), coordsA=ax[0].transData, coordsB=ax[1].transData)\n",
    "fig.add_artist(line2)\n",
    "\n",
    "plt.savefig('Plots/1_randomsearch.png')\n",
    "\n",
    "plt.show()"
   ]
  },
  {
   "cell_type": "code",
   "execution_count": 12,
   "id": "5c4baa99",
   "metadata": {
    "ExecuteTime": {
     "end_time": "2022-03-16T18:53:48.640410Z",
     "start_time": "2022-03-16T18:53:48.634454Z"
    }
   },
   "outputs": [],
   "source": [
    "# Set the hyperparameters found\n",
    "max_depth_RS = RandomSearch2.best_params_['max_depth']\n",
    "n_estimators_RS = RandomSearch2.best_params_['n_estimators']"
   ]
  },
  {
   "cell_type": "markdown",
   "id": "2088888b",
   "metadata": {},
   "source": [
    "## Constructing the classifier"
   ]
  },
  {
   "cell_type": "code",
   "execution_count": 13,
   "id": "3c192ee4",
   "metadata": {
    "ExecuteTime": {
     "end_time": "2022-03-16T18:53:48.981137Z",
     "start_time": "2022-03-16T18:53:48.643292Z"
    }
   },
   "outputs": [
    {
     "name": "stdout",
     "output_type": "stream",
     "text": [
      "Balanced accuracy: 0.7121395143890358\n"
     ]
    }
   ],
   "source": [
    "# Define model\n",
    "model_RS = XGBClassifier(objective='binary:logistic', eval_metric='logloss', random_state=1,\n",
    "                      learning_rate=0.1, use_label_encoder=False, n_estimators=n_estimators_RS, \n",
    "                      max_depth=max_depth_RS)\n",
    "\n",
    "# Train model on train set\n",
    "model_RS.fit(X_train, Y_train)\n",
    "\n",
    "# Calculate balanced accuracy score\n",
    "Y_pred_RS = model_RS.predict(X_test)\n",
    "accuracy_RS = balanced_accuracy_score(Y_test, Y_pred_RS)\n",
    "print('Balanced accuracy:', accuracy_RS)\n",
    "\n",
    "# Get predictions\n",
    "#a numpy array of shape array-like of shape (n_samples, n_classes) \n",
    "# with the probability of each data example being of a given class.\n",
    "predictions_RS = model_RS.predict_proba(X_test) \n",
    "predictions_RS = pd.DataFrame(predictions_RS, columns=['low earner', 'high earner'])"
   ]
  },
  {
   "cell_type": "code",
   "execution_count": 14,
   "id": "1fff4c8c",
   "metadata": {
    "ExecuteTime": {
     "end_time": "2022-03-16T18:53:49.401441Z",
     "start_time": "2022-03-16T18:53:48.983858Z"
    }
   },
   "outputs": [
    {
     "data": {
      "image/png": "[encoded data removed]",
      "text/plain": [
       "<Figure size 576x576 with 1 Axes>"
      ]
     },
     "metadata": {
      "needs_background": "light"
     },
     "output_type": "display_data"
    }
   ],
   "source": [
    "# Get fpr and tpr to produce roc_curve\n",
    "fpr_RS, tpr_RS, _ = roc_curve(Y_test, predictions_RS['high earner'])\n",
    "auc_score_RS = auc(fpr_RS, tpr_RS)\n",
    "\n",
    "fig, ax = plt.subplots(figsize=(8,8))\n",
    "ax.plot(fpr_RS, tpr_RS, color='r', linewidth=3)\n",
    "\n",
    "ax.set_facecolor('gainsboro')\n",
    "ax.grid(color='white')\n",
    "\n",
    "ax.set_xlabel('False Positive Rate (FPR)', fontsize=18)\n",
    "ax.set_ylabel('True Positive Rate (TPR)', fontsize=18)\n",
    "ax.set_title('ROC Curve', fontsize=20)\n",
    "\n",
    "plt.xticks(fontsize=15)\n",
    "plt.yticks(fontsize=15)\n",
    "\n",
    "plt.savefig('Plots/1_ROC.png')\n",
    "\n",
    "plt.show()"
   ]
  },
  {
   "cell_type": "markdown",
   "id": "7571905a",
   "metadata": {},
   "source": [
    "## Selecting the cut with 85 precision"
   ]
  },
  {
   "cell_type": "code",
   "execution_count": 15,
   "id": "f5f7f19a",
   "metadata": {
    "ExecuteTime": {
     "end_time": "2022-03-16T18:53:49.424362Z",
     "start_time": "2022-03-16T18:53:49.406522Z"
    }
   },
   "outputs": [],
   "source": [
    "# Define precision wanted\n",
    "precision_want = 0.85\n",
    "\n",
    "# Predictions on test sample (we will chose the cut from train)\n",
    "predictions_RS_train = model_RS.predict_proba(X_train) \n",
    "predictions_RS_train = pd.DataFrame(predictions_RS_train, columns=['low earner', 'high earner'])"
   ]
  },
  {
   "cell_type": "code",
   "execution_count": 16,
   "id": "069e8d71",
   "metadata": {
    "ExecuteTime": {
     "end_time": "2022-03-16T18:53:49.437081Z",
     "start_time": "2022-03-16T18:53:49.428346Z"
    }
   },
   "outputs": [],
   "source": [
    "def compute_precision(prob_high_arr, cut, true_labels):\n",
    "    \n",
    "    # Array to put classifications in, all start as low earner\n",
    "    pred = np.zeros(len(prob_high_arr))\n",
    "    \n",
    "    # Make a mask saying when the probability is above the cut and it should be classified as high earner\n",
    "    high_earners_mask = (prob_high_arr > cut)\n",
    "    \n",
    "    # Make classifications\n",
    "    pred[high_earners_mask] = 1\n",
    "    \n",
    "    # Return the precision\n",
    "    return precision_score(y_true=true_labels, y_pred=pred)"
   ]
  },
  {
   "cell_type": "code",
   "execution_count": 17,
   "id": "8297362b",
   "metadata": {
    "ExecuteTime": {
     "end_time": "2022-03-16T18:53:49.819552Z",
     "start_time": "2022-03-16T18:53:49.439711Z"
    }
   },
   "outputs": [
    {
     "data": {
      "text/plain": [
       "(0.6763636363636364, 0.8589743589743589)"
      ]
     },
     "execution_count": 17,
     "metadata": {},
     "output_type": "execute_result"
    }
   ],
   "source": [
    "# Different values to test of cut\n",
    "cut_arr = np.linspace(0,0.93,100)\n",
    "\n",
    "# Array to store precision\n",
    "precision_arr = np.zeros(100)\n",
    "\n",
    "for i in range(len(cut_arr)):\n",
    "    \n",
    "    precision_arr[i] = compute_precision(predictions_RS_train['high earner'], cut_arr[i], Y_train)\n",
    "    \n",
    "# Chose precision at 85%\n",
    "idx_cut = np.argmin(abs(precision_arr - precision_want))\n",
    "cut_arr[idx_cut], precision_arr[idx_cut]"
   ]
  },
  {
   "cell_type": "code",
   "execution_count": 18,
   "id": "22ea94e7",
   "metadata": {
    "ExecuteTime": {
     "end_time": "2022-03-16T18:53:50.214085Z",
     "start_time": "2022-03-16T18:53:49.832095Z"
    }
   },
   "outputs": [
    {
     "data": {
      "image/png": "[encoded data removed]",
      "text/plain": [
       "<Figure size 864x432 with 1 Axes>"
      ]
     },
     "metadata": {
      "needs_background": "light"
     },
     "output_type": "display_data"
    }
   ],
   "source": [
    "# Plot choice of cut\n",
    "fig, ax = plt.subplots(figsize=(12,6))\n",
    "\n",
    "ax.set_facecolor('gainsboro')\n",
    "ax.grid(color='white')\n",
    "\n",
    "ax.plot(cut_arr, precision_arr, color='r', linewidth=2)\n",
    "\n",
    "ax.scatter(cut_arr[idx_cut], precision_arr[idx_cut], color='k', s=100, zorder=3,\n",
    "           label=f'Cut at {cut_arr[idx_cut]:.2f} \\nwith a precision of {precision_arr[idx_cut]:.2f}')\n",
    "ax.hlines(precision_arr[idx_cut], 0, 1, linestyle='dashed', color='k')\n",
    "ax.vlines(cut_arr[idx_cut], 0, 1, linestyle='dashed', color='k')\n",
    "\n",
    "ax.legend(prop={'size':16}, loc='lower left')\n",
    "\n",
    "plt.xlim(0,1)\n",
    "plt.ylim(0,1)\n",
    "plt.xticks(fontsize=16)\n",
    "plt.yticks(fontsize=16)\n",
    "ax.set_xlabel('Cut Value', fontsize=18)\n",
    "ax.set_ylabel('Precision (on Train Sample)', fontsize=18)\n",
    "\n",
    "plt.savefig('Plots/1a_cut.png')\n",
    "plt.show()"
   ]
  },
  {
   "cell_type": "code",
   "execution_count": 19,
   "id": "3f238448",
   "metadata": {
    "ExecuteTime": {
     "end_time": "2022-03-16T18:53:50.230812Z",
     "start_time": "2022-03-16T18:53:50.217636Z"
    }
   },
   "outputs": [
    {
     "data": {
      "text/plain": [
       "0.8473282442748091"
      ]
     },
     "execution_count": 19,
     "metadata": {},
     "output_type": "execute_result"
    }
   ],
   "source": [
    "# Calculate the precision on the test set with the given cut\n",
    "precision_test = compute_precision(predictions_RS['high earner'], cut_arr[idx_cut], Y_test)\n",
    "precision_test"
   ]
  },
  {
   "cell_type": "code",
   "execution_count": 22,
   "id": "570b838a",
   "metadata": {
    "ExecuteTime": {
     "end_time": "2022-03-16T19:09:25.485892Z",
     "start_time": "2022-03-16T19:09:24.888108Z"
    }
   },
   "outputs": [
    {
     "data": {
      "image/png": "[encoded data removed]",
      "text/plain": [
       "<Figure size 1296x432 with 2 Axes>"
      ]
     },
     "metadata": {
      "needs_background": "light"
     },
     "output_type": "display_data"
    }
   ],
   "source": [
    "# Create test statistic plot\n",
    "fig, ax = plt.subplots(ncols=2, figsize=(18,6), sharey=True, gridspec_kw={'wspace':0.05})\n",
    "\n",
    "# Train sample ---------\n",
    "ax[0].hist(predictions_RS_train['high earner'][Y_train==0][:500], color='r', histtype='step', \n",
    "           bins=50, linewidth=3, label='<=50k')\n",
    "ax[0].hist(predictions_RS_train['high earner'][Y_train==1][:500], color='k', histtype='step', \n",
    "           bins=50, linewidth=3, label='>50k')\n",
    "\n",
    "# Mark cut\n",
    "ax[0].vlines(cut_arr[idx_cut], 0, 100, linewidth=2, color='blue', zorder=2, label='Precision Cut')\n",
    "ax[0].set_ylim(0,100)\n",
    "\n",
    "# Write precision\n",
    "ax[0].text(0.15, 60,f'Precision: {precision_arr[idx_cut]*100:.2f}%', fontsize=20)\n",
    "\n",
    "ax[0].tick_params(axis=\"x\", labelsize=15) \n",
    "ax[0].tick_params(axis=\"y\", labelsize=15) \n",
    "ax[0].set_ylabel('Counts', fontsize=18)\n",
    "ax[0].set_xlabel('Test Statistic for XGBoost (Probability)', fontsize=18)\n",
    "ax[0].set_title('Train Sample', fontsize=20)\n",
    "\n",
    "\n",
    "# Test sample ---------\n",
    "ax[1].hist(predictions_RS['high earner'][Y_test==0][:500], color='r', histtype='step', \n",
    "           bins=50, linewidth=3, label='<=50k')\n",
    "ax[1].hist(predictions_RS['high earner'][Y_test==1][:500], color='k', histtype='step', \n",
    "           bins=50, linewidth=3, label='>50k')\n",
    "\n",
    "# Mark cut\n",
    "ax[1].vlines(cut_arr[idx_cut], 0, 100, linewidth=2, color='b', zorder=2, label='Precision Cut')\n",
    "ax[1].set_ylim(0,100)\n",
    "\n",
    "\n",
    "# write precision\n",
    "ax[1].text(0.15, 60,f'Precision: {precision_test*100:.2f}%', fontsize=20)\n",
    "\n",
    "ax[1].legend(loc='lower center', prop={'size':16}, bbox_to_anchor=(-0.025, -0.3),\n",
    "          ncol=3, fancybox=True, shadow=True)\n",
    "\n",
    "ax[1].tick_params(axis=\"x\", labelsize=15) \n",
    "ax[1].set_xlabel('Test Statistic for XGBoost (Probability)', fontsize=18)\n",
    "ax[1].set_title('Test Sample', fontsize=20)\n",
    "\n",
    "plt.savefig('Plots/1a_hist.png')\n",
    "\n",
    "plt.show()"
   ]
  },
  {
   "cell_type": "markdown",
   "id": "627f0bae",
   "metadata": {},
   "source": [
    "# Problem 1B"
   ]
  },
  {
   "cell_type": "code",
   "execution_count": 21,
   "id": "cb8fab2e",
   "metadata": {
    "ExecuteTime": {
     "end_time": "2022-03-16T18:53:50.828746Z",
     "start_time": "2022-03-16T18:53:50.788649Z"
    }
   },
   "outputs": [
    {
     "data": {
      "text/plain": [
       "array([0.2391265 , 0.30919608, 0.3369476 , 0.11472986], dtype=float32)"
      ]
     },
     "execution_count": 21,
     "metadata": {},
     "output_type": "execute_result"
    }
   ],
   "source": [
    "model_RS.feature_importances_"
   ]
  },
  {
   "cell_type": "markdown",
   "id": "cfecc2e6",
   "metadata": {},
   "source": [
    "# Problem 1C"
   ]
  },
  {
   "cell_type": "code",
   "execution_count": 27,
   "id": "b53fce04",
   "metadata": {
    "ExecuteTime": {
     "end_time": "2022-03-16T19:45:01.958495Z",
     "start_time": "2022-03-16T19:45:01.950547Z"
    }
   },
   "outputs": [],
   "source": [
    "# Extract only the parameters to make X_val (n_samples, n_parameters)\n",
    "X_val = real_data.iloc[:, 1:] #removes ID column\n",
    "\n",
    "# Extract ID's for good measure\n",
    "ID_val = real_data.iloc[:,0]"
   ]
  },
  {
   "cell_type": "code",
   "execution_count": 33,
   "id": "fca231b0",
   "metadata": {
    "ExecuteTime": {
     "end_time": "2022-03-16T19:48:22.745300Z",
     "start_time": "2022-03-16T19:48:22.736860Z"
    }
   },
   "outputs": [
    {
     "data": {
      "text/plain": [
       "0.6763636363636364"
      ]
     },
     "execution_count": 33,
     "metadata": {},
     "output_type": "execute_result"
    }
   ],
   "source": [
    "cut_arr[idx_cut]"
   ]
  },
  {
   "cell_type": "code",
   "execution_count": 35,
   "id": "26a7a412",
   "metadata": {
    "ExecuteTime": {
     "end_time": "2022-03-16T19:48:55.530864Z",
     "start_time": "2022-03-16T19:48:55.510902Z"
    }
   },
   "outputs": [],
   "source": [
    "# Get the test statistic\n",
    "predictions_RS_val = model_RS.predict_proba(X_val) \n",
    "predictions_RS_val = pd.DataFrame(predictions_RS_val, columns=['low earner', 'high earner'])\n",
    "\n",
    "# Make predictions -----------\n",
    "\n",
    "# Array to put classifications in, all start as low earner\n",
    "pred_val = np.zeros(len(X_val))\n",
    "    \n",
    "# Make a mask saying when the probability is above the cut and it should be classified as high earner\n",
    "high_earners_mask = (predictions_RS_val['high earner'] > cut_arr[idx_cut])\n",
    "    \n",
    "# Make classifications\n",
    "pred_val[high_earners_mask] = 1"
   ]
  },
  {
   "cell_type": "code",
   "execution_count": 45,
   "id": "f7356eb2",
   "metadata": {
    "ExecuteTime": {
     "end_time": "2022-03-16T19:52:25.075423Z",
     "start_time": "2022-03-16T19:52:25.052773Z"
    }
   },
   "outputs": [
    {
     "name": "stdout",
     "output_type": "stream",
     "text": [
      "Model found 203 high income earners\n",
      "Model found 3409 high income earners\n",
      "Total number of individuals = 3612\n",
      "Len of real data: 3612\n"
     ]
    }
   ],
   "source": [
    "# Check how many there are of each\n",
    "print(f'Model found {np.sum(high_earners_mask)} high income earners')\n",
    "print(f'Model found {np.sum(~high_earners_mask)} high income earners')\n",
    "print(f'Total number of individuals = {np.sum(high_earners_mask)+np.sum(~high_earners_mask)}')\n",
    "\n",
    "print(f'Len of real data: {len(real_data)}')"
   ]
  },
  {
   "cell_type": "code",
   "execution_count": 49,
   "id": "5bf73f1e",
   "metadata": {
    "ExecuteTime": {
     "end_time": "2022-03-16T20:01:56.916285Z",
     "start_time": "2022-03-16T20:01:56.905113Z"
    }
   },
   "outputs": [
    {
     "data": {
      "text/plain": [
       "0.059548254620123205"
      ]
     },
     "execution_count": 49,
     "metadata": {},
     "output_type": "execute_result"
    }
   ],
   "source": [
    "203/3409"
   ]
  },
  {
   "cell_type": "code",
   "execution_count": 48,
   "id": "3a8158fa",
   "metadata": {
    "ExecuteTime": {
     "end_time": "2022-03-16T19:56:32.086587Z",
     "start_time": "2022-03-16T19:56:32.072634Z"
    }
   },
   "outputs": [],
   "source": [
    "# Create the output file for high\n",
    "with open('Data/Kimi_Kreilgaard.high_ID.txt', 'w') as f:\n",
    "    for line in ID_val[high_earners_mask]:\n",
    "        line = str(line)\n",
    "        f.write(line)\n",
    "        f.write('\\n')\n",
    "        \n",
    "# Create the output file for low\n",
    "with open('Data/Kimi_Kreilgaard.low_ID.txt', 'w') as f:\n",
    "    for line in ID_val[~high_earners_mask]:\n",
    "        line = str(line)\n",
    "        f.write(line)\n",
    "        f.write('\\n')"
   ]
  },
  {
   "cell_type": "code",
   "execution_count": null,
   "id": "5b878bf1",
   "metadata": {},
   "outputs": [],
   "source": []
  }
 ],
 "metadata": {
  "kernelspec": {
   "display_name": "Python 3",
   "language": "python",
   "name": "python3"
  },
  "language_info": {
   "codemirror_mode": {
    "name": "ipython",
    "version": 3
   },
   "file_extension": ".py",
   "mimetype": "text/x-python",
   "name": "python",
   "nbconvert_exporter": "python",
   "pygments_lexer": "ipython3",
   "version": "3.6.13"
  },
  "toc": {
   "base_numbering": 1,
   "nav_menu": {},
   "number_sections": true,
   "sideBar": true,
   "skip_h1_title": false,
   "title_cell": "Table of Contents",
   "title_sidebar": "Contents",
   "toc_cell": false,
   "toc_position": {},
   "toc_section_display": true,
   "toc_window_display": true
  }
 },
 "nbformat": 4,
 "nbformat_minor": 5
}
