{
 "cells": [
  {
   "cell_type": "markdown",
   "id": "edf148c2",
   "metadata": {},
   "source": [
    "# Exercise 4 (Extra) - Extracting Author Names"
   ]
  },
  {
   "cell_type": "code",
   "execution_count": 1,
   "id": "4b08aa1c",
   "metadata": {
    "ExecuteTime": {
     "end_time": "2022-02-15T17:20:45.352896Z",
     "start_time": "2022-02-15T17:20:44.367896Z"
    }
   },
   "outputs": [],
   "source": [
    "# Import general libraries\n",
    "import numpy as np\n",
    "import pandas as pd\n",
    "\n",
    "# PDF and string stuff\n",
    "import pdfplumber as pdfp\n",
    "import re"
   ]
  },
  {
   "cell_type": "code",
   "execution_count": 2,
   "id": "748c044d",
   "metadata": {
    "ExecuteTime": {
     "end_time": "2022-02-15T17:20:45.490624Z",
     "start_time": "2022-02-15T17:20:45.355028Z"
    }
   },
   "outputs": [],
   "source": [
    "# Open the file and intitialize a pdf plumber class\n",
    "path_to_file = 'authors-acknowledgements-v5.pdf'\n",
    "\n",
    "# Get the pdf\n",
    "pdf = pdfp.open(path_to_file)"
   ]
  },
  {
   "cell_type": "markdown",
   "id": "23844701",
   "metadata": {},
   "source": [
    "## Extract the text from the pdf"
   ]
  },
  {
   "cell_type": "code",
   "execution_count": 3,
   "id": "7ce487de",
   "metadata": {
    "ExecuteTime": {
     "end_time": "2022-02-15T17:20:45.509343Z",
     "start_time": "2022-02-15T17:20:45.493588Z"
    }
   },
   "outputs": [],
   "source": [
    "# First we define a function that given a bounding box and page number, returns a string with the text\n",
    "def pdf_to_string(page_no, bound_box):\n",
    "    \n",
    "    \"\"\"\n",
    "    Inputs:\n",
    "    page_no = the page number you want to extract text from (0 indexed)\n",
    "    bound_box = the bounding box to extract text from on the form (left, top, right, bottom)\n",
    "    \n",
    "    Returns:\n",
    "    a string with all characters within the bounding box\n",
    "    \"\"\"\n",
    "    \n",
    "    # Extract the page\n",
    "    page = pdf.pages[int(page_no)]\n",
    "    \n",
    "    # Crop page\n",
    "    page_cropped = page.within_bbox( bound_box )\n",
    "    \n",
    "    # Get text\n",
    "    return page_cropped.extract_text()"
   ]
  },
  {
   "cell_type": "code",
   "execution_count": 4,
   "id": "f227399b",
   "metadata": {
    "ExecuteTime": {
     "end_time": "2022-02-15T17:20:49.966288Z",
     "start_time": "2022-02-15T17:20:45.519432Z"
    }
   },
   "outputs": [],
   "source": [
    "# Define width and height of the pages\n",
    "w, h = pdf.pages[0].width, pdf.pages[0].height \n",
    "\n",
    "# Extract the first page, and put into a list where we will place the text from all pages\n",
    "all_text = [ pdf_to_string(page_no=0, bound_box=(0, (1/6)*h, w, h) ) ]\n",
    "\n",
    "# Extract pages from 2 to 10 (they have the same bounding box)\n",
    "for i in range(9):\n",
    "    all_text.append( pdf_to_string(page_no=i+1, bound_box=(0, (1/12)*h, w, h) ) )\n",
    "\n",
    "# Extract p. 11 (smaller bounding box)\n",
    "all_text.append( pdf_to_string(page_no=10, bound_box=(0, (1/12)*h, w, 0.55*h) ) )"
   ]
  },
  {
   "cell_type": "code",
   "execution_count": 5,
   "id": "dfbed4d2",
   "metadata": {
    "ExecuteTime": {
     "end_time": "2022-02-15T17:20:49.973125Z",
     "start_time": "2022-02-15T17:20:49.968099Z"
    }
   },
   "outputs": [],
   "source": [
    "# Put the strings from all pages together\n",
    "main_string = ','.join(all_text)"
   ]
  },
  {
   "cell_type": "markdown",
   "id": "232c8b6d",
   "metadata": {},
   "source": [
    "## Clean the text from digits, spaces, extra commas, accents etc."
   ]
  },
  {
   "cell_type": "markdown",
   "id": "f27a006f",
   "metadata": {},
   "source": [
    "regular expression, forskel"
   ]
  },
  {
   "cell_type": "code",
   "execution_count": 6,
   "id": "cec89b8d",
   "metadata": {
    "ExecuteTime": {
     "end_time": "2022-02-15T17:20:49.990192Z",
     "start_time": "2022-02-15T17:20:49.976090Z"
    }
   },
   "outputs": [
    {
     "data": {
      "text/plain": [
       "'anderson c.p.,62 Brandt D.p.,30'"
      ]
     },
     "execution_count": 6,
     "metadata": {},
     "output_type": "execute_result"
    }
   ],
   "source": [
    "test = 'anderson c.p.,620AND Brandt D.p.,30'\n",
    "re.sub(r\"[ \\d](AND)\", \"\", test) #r\"(and)[ A-Z]\""
   ]
  },
  {
   "cell_type": "code",
   "execution_count": 43,
   "id": "8b20ed27",
   "metadata": {
    "ExecuteTime": {
     "end_time": "2022-02-15T17:33:07.309017Z",
     "start_time": "2022-02-15T17:33:07.300352Z"
    }
   },
   "outputs": [],
   "source": [
    "def clean_string(string):\n",
    "    \"\"\"\n",
    "    Inputs:\n",
    "    string = one string with all contents that needs to be cleaned\n",
    "    \n",
    "    Returns:\n",
    "    a new string cleaned from: \"and\"s digits, parenthesis and their contents and \\n - new lines\n",
    "    \"\"\"\n",
    "    \n",
    "    # Remove the word and if it occurs after a reference, i.e. a digit\n",
    "    new_string = re.sub(r\"[ \\d](AND)\", \"\", string)\n",
    "    \n",
    "    # Remove all digits (these are references in the pdf)\n",
    "    new_string = ''.join(i for i in new_string if not i.isdigit())\n",
    "    \n",
    "    # Remove parenthesis and their contents (these are scientist groups in the pdf)\n",
    "    new_string = re.sub(r\"\\([^()]*\\)\", \",\", new_string)\n",
    "    \n",
    "    # Remove new lines symbols \\n\n",
    "    new_string = new_string.replace('\\n','')\n",
    "    \n",
    "    # Remove remaint of accents, which becomes special characters when converting to string\n",
    "    special_char = ['´','`','∗','˜','¨','˘','¸','ˇ','’','§','‡','†','-','ˆ','˙']\n",
    "    for char in special_char:\n",
    "        new_string = new_string.replace(char,'')\n",
    "    \n",
    "    # Change weird L to L\n",
    "    new_string = new_string.replace('Ł','L')\n",
    "    \n",
    "    return new_string"
   ]
  },
  {
   "cell_type": "code",
   "execution_count": 44,
   "id": "b359b998",
   "metadata": {
    "ExecuteTime": {
     "end_time": "2022-02-15T17:33:07.692317Z",
     "start_time": "2022-02-15T17:33:07.673332Z"
    }
   },
   "outputs": [],
   "source": [
    "# Remove anything but authors from the string\n",
    "clean_main_string = clean_string(main_string)"
   ]
  },
  {
   "cell_type": "code",
   "execution_count": 45,
   "id": "c8bc4840",
   "metadata": {
    "ExecuteTime": {
     "end_time": "2022-02-15T17:33:08.094451Z",
     "start_time": "2022-02-15T17:33:08.088030Z"
    }
   },
   "outputs": [],
   "source": [
    "#clean_main_string #uncomment to display the cleaned string"
   ]
  },
  {
   "cell_type": "markdown",
   "id": "2795f871",
   "metadata": {},
   "source": [
    "The string is now clean, except for some extra commas. And some names containing a space as the first character."
   ]
  },
  {
   "cell_type": "code",
   "execution_count": 46,
   "id": "5fab1f9f",
   "metadata": {
    "ExecuteTime": {
     "end_time": "2022-02-15T17:33:08.870920Z",
     "start_time": "2022-02-15T17:33:08.857248Z"
    }
   },
   "outputs": [],
   "source": [
    "# Split the string into a list of string, where each element is an author\n",
    "authors_list = clean_main_string.split(',')\n",
    "\n",
    "# Remove empty elements, arising from double commas\n",
    "only_authors = []\n",
    "\n",
    "for i in range(len(authors_list)):\n",
    "    \n",
    "    # If not empty we keep it\n",
    "    if authors_list[i] != '':\n",
    "        \n",
    "        # Check if the first character is a space, in that case append what comes after\n",
    "        if authors_list[i][0] == ' ':\n",
    "            only_authors.append(authors_list[i][1:])\n",
    "        \n",
    "        #Append/save the whole string if the first character is not a space\n",
    "        else:\n",
    "            only_authors.append(authors_list[i])"
   ]
  },
  {
   "cell_type": "code",
   "execution_count": 47,
   "id": "e6962d40",
   "metadata": {
    "ExecuteTime": {
     "end_time": "2022-02-15T17:33:09.293841Z",
     "start_time": "2022-02-15T17:33:09.286659Z"
    }
   },
   "outputs": [],
   "source": [
    "#only_authors #uncomment to see the list of authors"
   ]
  },
  {
   "cell_type": "markdown",
   "id": "b8ee3667",
   "metadata": {},
   "source": [
    "# Test for unique authors"
   ]
  },
  {
   "cell_type": "code",
   "execution_count": 48,
   "id": "c935b1fb",
   "metadata": {
    "ExecuteTime": {
     "end_time": "2022-02-15T17:33:10.566588Z",
     "start_time": "2022-02-15T17:33:10.555389Z"
    }
   },
   "outputs": [
    {
     "name": "stdout",
     "output_type": "stream",
     "text": [
      "There are 3612 authors in the list\n",
      "There are 3512 unique authors in the list.\n",
      "This means there are 100 non unique authors\n"
     ]
    }
   ],
   "source": [
    "# Find the number of unique authors\n",
    "N_uniq = len(np.unique(only_authors))\n",
    "\n",
    "# How many non-unique authors are there?\n",
    "N_non_uniq = len(only_authors) - N_uniq\n",
    "\n",
    "# Print results\n",
    "print(f'There are {len(only_authors)} authors in the list')\n",
    "print(f'There are {N_uniq} unique authors in the list.')\n",
    "print(f'This means there are {N_non_uniq} non unique authors')"
   ]
  },
  {
   "cell_type": "markdown",
   "id": "7db8caac",
   "metadata": {},
   "source": [
    "# Alphabetizing"
   ]
  },
  {
   "cell_type": "markdown",
   "id": "a4e13547",
   "metadata": {},
   "source": [
    "We sort by last name, and then initials. So we want to scan for the last dot after an initial and place those letters after the last name. Then we can use .sort to get it alphabetized afterward."
   ]
  },
  {
   "cell_type": "code",
   "execution_count": 49,
   "id": "213e666a",
   "metadata": {
    "ExecuteTime": {
     "end_time": "2022-02-15T17:33:12.146638Z",
     "start_time": "2022-02-15T17:33:12.137029Z"
    }
   },
   "outputs": [],
   "source": [
    "# Put last name first, then space, then initials\n",
    "last_names_first = []\n",
    "\n",
    "for i in range(len(only_authors)):\n",
    "    \n",
    "    # Extract name, on form initial lastname\n",
    "    name = only_authors[i]\n",
    "    \n",
    "    # Find the index of the last dot, this is where the last name stars\n",
    "    index = name.rfind('.')\n",
    "    \n",
    "    # Move characters around so first name is first and add a space after the last name\n",
    "    sorted_name = name[index+1:] + ' ' + name[:index+1]\n",
    "    \n",
    "    # Remove extra spaces, AGAin\n",
    "    if sorted_name[0] == ' ':\n",
    "        sorted_name = sorted_name[1:]\n",
    "        \n",
    "    # Append the sorted name\n",
    "    last_names_first.append(sorted_name)"
   ]
  },
  {
   "cell_type": "code",
   "execution_count": 50,
   "id": "f8fe6bc1",
   "metadata": {
    "ExecuteTime": {
     "end_time": "2022-02-15T17:33:12.584385Z",
     "start_time": "2022-02-15T17:33:12.576554Z"
    }
   },
   "outputs": [],
   "source": [
    "# Now we let python sort the alphabetically\n",
    "sorted_authors = sorted(last_names_first)"
   ]
  },
  {
   "cell_type": "code",
   "execution_count": 55,
   "id": "d6a73b01",
   "metadata": {
    "ExecuteTime": {
     "end_time": "2022-02-15T17:35:47.190995Z",
     "start_time": "2022-02-15T17:35:47.187039Z"
    }
   },
   "outputs": [],
   "source": [
    "#sorted_authors #uncomment to see the sorted list"
   ]
  },
  {
   "cell_type": "code",
   "execution_count": 16,
   "id": "0eeb8697",
   "metadata": {
    "ExecuteTime": {
     "end_time": "2022-02-15T17:20:50.122063Z",
     "start_time": "2022-02-15T17:20:50.112926Z"
    }
   },
   "outputs": [
    {
     "name": "stdout",
     "output_type": "stream",
     "text": [
      "There is an even number (3612) of sorted authors.       Thus we will find one author in this position\n",
      "The middle author is LI C.K.\n",
      "The other middle author is LI B.\n"
     ]
    }
   ],
   "source": [
    "# Find the author at location (total_authors)/2\n",
    "print(f'There is an even number ({len(sorted_authors)}) of sorted authors. \\\n",
    "      Thus we will find one author in this position')\n",
    "\n",
    "# Find the indices\n",
    "print('The middle author is', sorted_authors[int(len(sorted_authors)/2)] )\n",
    "\n",
    "# Due to zero indexing we should probably also include\n",
    "print('The other middle author is', sorted_authors[int(len(sorted_authors)/2)-1] )"
   ]
  },
  {
   "cell_type": "code",
   "execution_count": 17,
   "id": "6ac2bfc4",
   "metadata": {
    "ExecuteTime": {
     "end_time": "2022-02-15T17:20:50.140495Z",
     "start_time": "2022-02-15T17:20:50.126146Z"
    }
   },
   "outputs": [
    {
     "name": "stdout",
     "output_type": "stream",
     "text": [
      "There is an even number (3612) of sorted authors.       Thus we will find one author in this position\n",
      "The middle author is K.HIDAKA\n",
      "The other middle author is K.HERNER\n"
     ]
    }
   ],
   "source": [
    "### SORT BY INITIAL FOR FUN ###\n",
    "\n",
    "\n",
    "# Find the author at location (total_authors)/2\n",
    "print(f'There is an even number ({len(only_authors)}) of sorted authors. \\\n",
    "      Thus we will find one author in this position')\n",
    "\n",
    "# Find the indices\n",
    "print('The middle author is', sorted(only_authors)[int(len(only_authors)/2)] )\n",
    "\n",
    "# Due to zero indexing we should probably also include\n",
    "print('The other middle author is', sorted(only_authors)[int(len(only_authors)/2)-1] )"
   ]
  },
  {
   "cell_type": "code",
   "execution_count": null,
   "id": "2f62f40e",
   "metadata": {},
   "outputs": [],
   "source": []
  }
 ],
 "metadata": {
  "kernelspec": {
   "display_name": "Python 3",
   "language": "python",
   "name": "python3"
  },
  "language_info": {
   "codemirror_mode": {
    "name": "ipython",
    "version": 3
   },
   "file_extension": ".py",
   "mimetype": "text/x-python",
   "name": "python",
   "nbconvert_exporter": "python",
   "pygments_lexer": "ipython3",
   "version": "3.6.12"
  },
  "toc": {
   "base_numbering": 1,
   "nav_menu": {},
   "number_sections": true,
   "sideBar": true,
   "skip_h1_title": false,
   "title_cell": "Table of Contents",
   "title_sidebar": "Contents",
   "toc_cell": false,
   "toc_position": {},
   "toc_section_display": true,
   "toc_window_display": true
  }
 },
 "nbformat": 4,
 "nbformat_minor": 5
}
