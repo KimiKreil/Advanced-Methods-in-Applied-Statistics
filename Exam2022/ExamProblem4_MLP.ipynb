{
 "cells": [
  {
   "cell_type": "code",
   "execution_count": 1,
   "id": "396615ae",
   "metadata": {
    "ExecuteTime": {
     "end_time": "2022-04-01T04:25:02.795146Z",
     "start_time": "2022-04-01T04:24:57.547562Z"
    }
   },
   "outputs": [],
   "source": [
    "# Import standard libraries\n",
    "import numpy as np\n",
    "import matplotlib.pyplot as plt\n",
    "import pandas as pd\n",
    "import matplotlib.patches as patches\n",
    "\n",
    "# Machine learning libraries\n",
    "from sklearn.model_selection import train_test_split\n",
    "from sklearn.neural_network import MLPClassifier\n",
    "from sklearn.preprocessing import QuantileTransformer\n",
    "from sklearn.model_selection import GridSearchCV, RandomizedSearchCV\n",
    "from sklearn.metrics import accuracy_score, balanced_accuracy_score, log_loss, precision_score\n",
    "from sklearn.metrics import roc_curve, auc\n",
    "from scipy import stats"
   ]
  },
  {
   "cell_type": "code",
   "execution_count": 2,
   "id": "738aaa69",
   "metadata": {
    "ExecuteTime": {
     "end_time": "2022-04-01T04:25:02.802409Z",
     "start_time": "2022-04-01T04:25:02.797745Z"
    }
   },
   "outputs": [],
   "source": [
    "SavePlots = False"
   ]
  },
  {
   "cell_type": "markdown",
   "id": "11e6a3eb",
   "metadata": {},
   "source": [
    "# Import Data"
   ]
  },
  {
   "cell_type": "code",
   "execution_count": 3,
   "id": "3735dab6",
   "metadata": {
    "ExecuteTime": {
     "end_time": "2022-04-01T04:25:02.911584Z",
     "start_time": "2022-04-01T04:25:02.805626Z"
    }
   },
   "outputs": [
    {
     "data": {
      "text/html": [
       "<div>\n",
       "<style scoped>\n",
       "    .dataframe tbody tr th:only-of-type {\n",
       "        vertical-align: middle;\n",
       "    }\n",
       "\n",
       "    .dataframe tbody tr th {\n",
       "        vertical-align: top;\n",
       "    }\n",
       "\n",
       "    .dataframe thead th {\n",
       "        text-align: right;\n",
       "    }\n",
       "</style>\n",
       "<table border=\"1\" class=\"dataframe\">\n",
       "  <thead>\n",
       "    <tr style=\"text-align: right;\">\n",
       "      <th></th>\n",
       "      <th>ID</th>\n",
       "      <th>Gender</th>\n",
       "      <th>ScheduledDay</th>\n",
       "      <th>AppointmentDay</th>\n",
       "      <th>TimeDifference</th>\n",
       "      <th>Age</th>\n",
       "      <th>Neighbourhood</th>\n",
       "      <th>R1</th>\n",
       "      <th>Diabetes</th>\n",
       "      <th>Alcoholism</th>\n",
       "      <th>Handcap</th>\n",
       "      <th>SMS_received</th>\n",
       "      <th>No-show</th>\n",
       "    </tr>\n",
       "  </thead>\n",
       "  <tbody>\n",
       "    <tr>\n",
       "      <th>0</th>\n",
       "      <td>0</td>\n",
       "      <td>0</td>\n",
       "      <td>4</td>\n",
       "      <td>0</td>\n",
       "      <td>2636901</td>\n",
       "      <td>33</td>\n",
       "      <td>43</td>\n",
       "      <td>0</td>\n",
       "      <td>0</td>\n",
       "      <td>0</td>\n",
       "      <td>0</td>\n",
       "      <td>0</td>\n",
       "      <td>0</td>\n",
       "    </tr>\n",
       "    <tr>\n",
       "      <th>1</th>\n",
       "      <td>1</td>\n",
       "      <td>0</td>\n",
       "      <td>2</td>\n",
       "      <td>2</td>\n",
       "      <td>562630</td>\n",
       "      <td>33</td>\n",
       "      <td>59</td>\n",
       "      <td>0</td>\n",
       "      <td>0</td>\n",
       "      <td>0</td>\n",
       "      <td>0</td>\n",
       "      <td>1</td>\n",
       "      <td>1</td>\n",
       "    </tr>\n",
       "    <tr>\n",
       "      <th>2</th>\n",
       "      <td>2</td>\n",
       "      <td>1</td>\n",
       "      <td>4</td>\n",
       "      <td>0</td>\n",
       "      <td>1440847</td>\n",
       "      <td>53</td>\n",
       "      <td>36</td>\n",
       "      <td>0</td>\n",
       "      <td>0</td>\n",
       "      <td>0</td>\n",
       "      <td>1</td>\n",
       "      <td>1</td>\n",
       "      <td>0</td>\n",
       "    </tr>\n",
       "    <tr>\n",
       "      <th>3</th>\n",
       "      <td>3</td>\n",
       "      <td>1</td>\n",
       "      <td>0</td>\n",
       "      <td>0</td>\n",
       "      <td>1766864</td>\n",
       "      <td>0</td>\n",
       "      <td>68</td>\n",
       "      <td>0</td>\n",
       "      <td>0</td>\n",
       "      <td>0</td>\n",
       "      <td>0</td>\n",
       "      <td>0</td>\n",
       "      <td>1</td>\n",
       "    </tr>\n",
       "    <tr>\n",
       "      <th>4</th>\n",
       "      <td>4</td>\n",
       "      <td>0</td>\n",
       "      <td>1</td>\n",
       "      <td>1</td>\n",
       "      <td>29819</td>\n",
       "      <td>20</td>\n",
       "      <td>12</td>\n",
       "      <td>0</td>\n",
       "      <td>0</td>\n",
       "      <td>0</td>\n",
       "      <td>0</td>\n",
       "      <td>0</td>\n",
       "      <td>0</td>\n",
       "    </tr>\n",
       "    <tr>\n",
       "      <th>...</th>\n",
       "      <td>...</td>\n",
       "      <td>...</td>\n",
       "      <td>...</td>\n",
       "      <td>...</td>\n",
       "      <td>...</td>\n",
       "      <td>...</td>\n",
       "      <td>...</td>\n",
       "      <td>...</td>\n",
       "      <td>...</td>\n",
       "      <td>...</td>\n",
       "      <td>...</td>\n",
       "      <td>...</td>\n",
       "      <td>...</td>\n",
       "    </tr>\n",
       "    <tr>\n",
       "      <th>19995</th>\n",
       "      <td>19995</td>\n",
       "      <td>0</td>\n",
       "      <td>0</td>\n",
       "      <td>0</td>\n",
       "      <td>572986</td>\n",
       "      <td>18</td>\n",
       "      <td>57</td>\n",
       "      <td>0</td>\n",
       "      <td>0</td>\n",
       "      <td>0</td>\n",
       "      <td>0</td>\n",
       "      <td>1</td>\n",
       "      <td>0</td>\n",
       "    </tr>\n",
       "    <tr>\n",
       "      <th>19996</th>\n",
       "      <td>19996</td>\n",
       "      <td>1</td>\n",
       "      <td>0</td>\n",
       "      <td>0</td>\n",
       "      <td>50894</td>\n",
       "      <td>55</td>\n",
       "      <td>36</td>\n",
       "      <td>0</td>\n",
       "      <td>0</td>\n",
       "      <td>0</td>\n",
       "      <td>0</td>\n",
       "      <td>0</td>\n",
       "      <td>0</td>\n",
       "    </tr>\n",
       "    <tr>\n",
       "      <th>19997</th>\n",
       "      <td>19997</td>\n",
       "      <td>0</td>\n",
       "      <td>2</td>\n",
       "      <td>1</td>\n",
       "      <td>486748</td>\n",
       "      <td>31</td>\n",
       "      <td>68</td>\n",
       "      <td>0</td>\n",
       "      <td>0</td>\n",
       "      <td>0</td>\n",
       "      <td>0</td>\n",
       "      <td>1</td>\n",
       "      <td>0</td>\n",
       "    </tr>\n",
       "    <tr>\n",
       "      <th>19998</th>\n",
       "      <td>19998</td>\n",
       "      <td>0</td>\n",
       "      <td>3</td>\n",
       "      <td>2</td>\n",
       "      <td>2298025</td>\n",
       "      <td>50</td>\n",
       "      <td>73</td>\n",
       "      <td>0</td>\n",
       "      <td>0</td>\n",
       "      <td>0</td>\n",
       "      <td>0</td>\n",
       "      <td>1</td>\n",
       "      <td>0</td>\n",
       "    </tr>\n",
       "    <tr>\n",
       "      <th>19999</th>\n",
       "      <td>19999</td>\n",
       "      <td>0</td>\n",
       "      <td>3</td>\n",
       "      <td>3</td>\n",
       "      <td>32211</td>\n",
       "      <td>35</td>\n",
       "      <td>30</td>\n",
       "      <td>0</td>\n",
       "      <td>0</td>\n",
       "      <td>0</td>\n",
       "      <td>0</td>\n",
       "      <td>0</td>\n",
       "      <td>0</td>\n",
       "    </tr>\n",
       "  </tbody>\n",
       "</table>\n",
       "<p>20000 rows × 13 columns</p>\n",
       "</div>"
      ],
      "text/plain": [
       "          ID  Gender  ScheduledDay  AppointmentDay  TimeDifference  Age  \\\n",
       "0          0       0             4               0         2636901   33   \n",
       "1          1       0             2               2          562630   33   \n",
       "2          2       1             4               0         1440847   53   \n",
       "3          3       1             0               0         1766864    0   \n",
       "4          4       0             1               1           29819   20   \n",
       "...      ...     ...           ...             ...             ...  ...   \n",
       "19995  19995       0             0               0          572986   18   \n",
       "19996  19996       1             0               0           50894   55   \n",
       "19997  19997       0             2               1          486748   31   \n",
       "19998  19998       0             3               2         2298025   50   \n",
       "19999  19999       0             3               3           32211   35   \n",
       "\n",
       "       Neighbourhood  R1  Diabetes  Alcoholism  Handcap  SMS_received  No-show  \n",
       "0                 43   0         0           0        0             0        0  \n",
       "1                 59   0         0           0        0             1        1  \n",
       "2                 36   0         0           0        1             1        0  \n",
       "3                 68   0         0           0        0             0        1  \n",
       "4                 12   0         0           0        0             0        0  \n",
       "...              ...  ..       ...         ...      ...           ...      ...  \n",
       "19995             57   0         0           0        0             1        0  \n",
       "19996             36   0         0           0        0             0        0  \n",
       "19997             68   0         0           0        0             1        0  \n",
       "19998             73   0         0           0        0             1        0  \n",
       "19999             30   0         0           0        0             0        0  \n",
       "\n",
       "[20000 rows x 13 columns]"
      ]
     },
     "execution_count": 3,
     "metadata": {},
     "output_type": "execute_result"
    }
   ],
   "source": [
    "# Import\n",
    "train_data = pd.read_csv('Data/Exam_2022_Prob4_TrainData.csv')\n",
    "test_data = pd.read_csv('Data/Exam_2022_Prob4_TestData.csv')\n",
    "blind_data = pd.read_csv('Data/Exam_2022_Prob4_BlindData.csv')\n",
    "\n",
    "# See if it looks right\n",
    "train_data"
   ]
  },
  {
   "cell_type": "code",
   "execution_count": 4,
   "id": "8a55427f",
   "metadata": {
    "ExecuteTime": {
     "end_time": "2022-04-01T04:25:02.936058Z",
     "start_time": "2022-04-01T04:25:02.916313Z"
    }
   },
   "outputs": [],
   "source": [
    "# Define features we will use (in the same order as the data now)\n",
    "features_to_train = ['Gender',\n",
    "                    'ScheduledDay',\n",
    "                    'AppointmentDay',\n",
    "                    'TimeDifference',\n",
    "                    'Age',\n",
    "                    'Neighbourhood',\n",
    "                    'R1',\n",
    "                    'Diabetes',\n",
    "                    'Alcoholism',\n",
    "                    'Handcap',\n",
    "                    'SMS_received']"
   ]
  },
  {
   "cell_type": "markdown",
   "id": "067a1f80",
   "metadata": {},
   "source": [
    "# Problem (4A)"
   ]
  },
  {
   "cell_type": "markdown",
   "id": "72f4ea3b",
   "metadata": {},
   "source": [
    "## Explore Data - Comparing Train and Test"
   ]
  },
  {
   "cell_type": "code",
   "execution_count": 5,
   "id": "979db1f5",
   "metadata": {
    "ExecuteTime": {
     "end_time": "2022-04-01T04:25:07.724775Z",
     "start_time": "2022-04-01T04:25:07.652468Z"
    }
   },
   "outputs": [
    {
     "name": "stdout",
     "output_type": "stream",
     "text": [
      "------ TRAIN SET ------\n",
      "There are 20000 individuals included in the data set.\n",
      "Number of people who showed: 15951\n",
      "Number of no-shows: 4049\n",
      "If signal is no-shows, and background people who showed, the signal to noise ratio is: 0.25\n",
      "------ TEST SET ------\n",
      "There are 20000 individuals included in the data set.\n",
      "Number of people who showed: 15987\n",
      "Number of no-shows: 4013\n",
      "If signal is no-shows, and background people who showed, the signal to noise ratio is: 0.25\n"
     ]
    }
   ],
   "source": [
    "print('------ TRAIN SET ------')\n",
    "# First we lets look at our data - how many of each classes are there?\n",
    "N_show_train = np.sum( train_data['No-show'] == 0 )\n",
    "N_noshow_train = np.sum( train_data['No-show'] == 1 )\n",
    "ratio_train = N_noshow_train / N_show_train\n",
    "\n",
    "# Print results\n",
    "print(f'There are {len(train_data)} individuals included in the data set.')\n",
    "print(f'Number of people who showed: {N_show_train}')\n",
    "print(f'Number of no-shows: {N_noshow_train}')\n",
    "print(f'If signal is no-shows, and background people who showed, the signal to noise ratio is: {ratio_train:.2f}')\n",
    "\n",
    "\n",
    "print('------ TEST SET ------')\n",
    "# First we lets look at our data - how many of each classes are there?\n",
    "N_show_test = np.sum( test_data['No-show'] == 0 )\n",
    "N_noshow_test = np.sum( test_data['No-show'] == 1 )\n",
    "ratio_test = N_noshow_test / N_show_test\n",
    "\n",
    "# Print results\n",
    "print(f'There are {len(test_data)} individuals included in the data set.')\n",
    "print(f'Number of people who showed: {N_show_test}')\n",
    "print(f'Number of no-shows: {N_noshow_test}')\n",
    "print(f'If signal is no-shows, and background people who showed, the signal to noise ratio is: {ratio_test:.2f}')"
   ]
  },
  {
   "cell_type": "code",
   "execution_count": 6,
   "id": "80dd5631",
   "metadata": {
    "ExecuteTime": {
     "end_time": "2022-04-01T04:25:10.459880Z",
     "start_time": "2022-04-01T04:25:08.998121Z"
    }
   },
   "outputs": [
    {
     "data": {
      "image/png": "[encoded data removed]",
      "text/plain": [
       "<Figure size 1080x720 with 11 Axes>"
      ]
     },
     "metadata": {
      "needs_background": "light"
     },
     "output_type": "display_data"
    }
   ],
   "source": [
    "# Show 1D distributions\n",
    "fig, ax = plt.subplots(nrows=3, ncols=4, gridspec_kw={'wspace':0.2, 'hspace':0.4}, figsize=(15,10))\n",
    "fig.delaxes(ax[2,3])\n",
    "ax = ax.flatten()\n",
    "\n",
    "# Loop over features\n",
    "for i in range(len(features_to_train)):\n",
    "    \n",
    "    ax[i].set_title(features_to_train[i], fontsize=15)\n",
    "    ax[i].set_facecolor('gainsboro')\n",
    "    ax[i].grid(color='white')\n",
    "    ax[i].tick_params(axis=\"x\", labelsize=12) \n",
    "    ax[i].tick_params(axis=\"y\", labelsize=12) \n",
    "    \n",
    "    _, bins_arr, _ = ax[i].hist(train_data[features_to_train[i]], bins=10, zorder=2,\n",
    "                                histtype='step', linewidth=3, color='r', label='Train')\n",
    "    ax[i].hist(train_data[features_to_train[i]], bins=10, alpha=0.3, linewidth=3, color='r',zorder=2)\n",
    "    \n",
    "    ax[i].hist(test_data[features_to_train[i]], bins=bins_arr, zorder=2,\n",
    "               histtype='step', linewidth=3, color='k', label='Test')\n",
    "    \n",
    "ax[10].legend(loc='center right', bbox_to_anchor=(2.1, 0.5), fancybox=True, shadow=True, fontsize=20)\n",
    "\n",
    "fig.suptitle('Comparing Distribution of Parameters in Test and Train Data', fontsize=22)\n",
    "\n",
    "if SavePlots:\n",
    "    plt.tight_layout()\n",
    "    plt.savefig('Plots/4_1.pdf')\n",
    "\n",
    "plt.show()"
   ]
  },
  {
   "cell_type": "markdown",
   "id": "a57b9157",
   "metadata": {},
   "source": [
    "Train and test look pretty similar, nice."
   ]
  },
  {
   "cell_type": "markdown",
   "id": "06d0f988",
   "metadata": {},
   "source": [
    "# Split into X and Y and Transform Data"
   ]
  },
  {
   "cell_type": "code",
   "execution_count": 8,
   "id": "9aab4b2f",
   "metadata": {
    "ExecuteTime": {
     "end_time": "2022-04-01T04:26:56.216911Z",
     "start_time": "2022-04-01T04:26:56.082028Z"
    }
   },
   "outputs": [],
   "source": [
    "# X contains out parameters - shape (n_samples, n_features)\n",
    "X_train = train_data[features_to_train]\n",
    "X_test = test_data[features_to_train]\n",
    "\n",
    "# Y contains the truth - shape (n_samples)\n",
    "Y_train = train_data['No-show']\n",
    "Y_test = test_data['No-show']\n",
    "\n",
    "# Scale the data to similar sizes (RobustScalar or QuantileTransformer)\n",
    "qt = QuantileTransformer(n_quantiles=1000, random_state=0)\n",
    "Xt_train = qt.fit_transform(X_train)\n",
    "Xt_test = qt.fit_transform(X_train)"
   ]
  },
  {
   "cell_type": "markdown",
   "id": "1bae4206",
   "metadata": {},
   "source": [
    "# Hyper Parameter Optimization"
   ]
  },
  {
   "cell_type": "code",
   "execution_count": 15,
   "id": "c4d720f7",
   "metadata": {
    "ExecuteTime": {
     "end_time": "2022-04-01T04:46:35.881722Z",
     "start_time": "2022-04-01T04:41:27.062878Z"
    }
   },
   "outputs": [
    {
     "name": "stdout",
     "output_type": "stream",
     "text": [
      "Grid Search: \tBest parameters:  {'hidden_layer_sizes': (5, 5, 5)} , Best scores: 0.817\n"
     ]
    },
    {
     "data": {
      "text/html": [
       "<div>\n",
       "<style scoped>\n",
       "    .dataframe tbody tr th:only-of-type {\n",
       "        vertical-align: middle;\n",
       "    }\n",
       "\n",
       "    .dataframe tbody tr th {\n",
       "        vertical-align: top;\n",
       "    }\n",
       "\n",
       "    .dataframe thead th {\n",
       "        text-align: right;\n",
       "    }\n",
       "</style>\n",
       "<table border=\"1\" class=\"dataframe\">\n",
       "  <thead>\n",
       "    <tr style=\"text-align: right;\">\n",
       "      <th></th>\n",
       "      <th>mean_fit_time</th>\n",
       "      <th>std_fit_time</th>\n",
       "      <th>mean_score_time</th>\n",
       "      <th>std_score_time</th>\n",
       "      <th>param_hidden_layer_sizes</th>\n",
       "      <th>params</th>\n",
       "      <th>split0_test_score</th>\n",
       "      <th>split1_test_score</th>\n",
       "      <th>split2_test_score</th>\n",
       "      <th>split3_test_score</th>\n",
       "      <th>...</th>\n",
       "      <th>mean_test_score</th>\n",
       "      <th>std_test_score</th>\n",
       "      <th>rank_test_score</th>\n",
       "      <th>split0_train_score</th>\n",
       "      <th>split1_train_score</th>\n",
       "      <th>split2_train_score</th>\n",
       "      <th>split3_train_score</th>\n",
       "      <th>split4_train_score</th>\n",
       "      <th>mean_train_score</th>\n",
       "      <th>std_train_score</th>\n",
       "    </tr>\n",
       "  </thead>\n",
       "  <tbody>\n",
       "    <tr>\n",
       "      <th>0</th>\n",
       "      <td>9.973412</td>\n",
       "      <td>0.617644</td>\n",
       "      <td>0.006073</td>\n",
       "      <td>0.009552</td>\n",
       "      <td>(5, 2)</td>\n",
       "      <td>{'hidden_layer_sizes': (5, 2)}</td>\n",
       "      <td>0.82275</td>\n",
       "      <td>0.81475</td>\n",
       "      <td>0.82000</td>\n",
       "      <td>0.8110</td>\n",
       "      <td>...</td>\n",
       "      <td>0.81670</td>\n",
       "      <td>0.004164</td>\n",
       "      <td>3</td>\n",
       "      <td>0.815875</td>\n",
       "      <td>0.817312</td>\n",
       "      <td>0.816312</td>\n",
       "      <td>0.818375</td>\n",
       "      <td>0.817312</td>\n",
       "      <td>0.817037</td>\n",
       "      <td>0.000874</td>\n",
       "    </tr>\n",
       "    <tr>\n",
       "      <th>1</th>\n",
       "      <td>13.965108</td>\n",
       "      <td>2.666133</td>\n",
       "      <td>0.001817</td>\n",
       "      <td>0.000116</td>\n",
       "      <td>(10, 10)</td>\n",
       "      <td>{'hidden_layer_sizes': (10, 10)}</td>\n",
       "      <td>0.82100</td>\n",
       "      <td>0.81525</td>\n",
       "      <td>0.81975</td>\n",
       "      <td>0.8110</td>\n",
       "      <td>...</td>\n",
       "      <td>0.81645</td>\n",
       "      <td>0.003583</td>\n",
       "      <td>4</td>\n",
       "      <td>0.816000</td>\n",
       "      <td>0.817375</td>\n",
       "      <td>0.816125</td>\n",
       "      <td>0.818438</td>\n",
       "      <td>0.817625</td>\n",
       "      <td>0.817113</td>\n",
       "      <td>0.000927</td>\n",
       "    </tr>\n",
       "    <tr>\n",
       "      <th>2</th>\n",
       "      <td>16.410887</td>\n",
       "      <td>3.243406</td>\n",
       "      <td>0.002061</td>\n",
       "      <td>0.000324</td>\n",
       "      <td>(5, 5, 5)</td>\n",
       "      <td>{'hidden_layer_sizes': (5, 5, 5)}</td>\n",
       "      <td>0.82225</td>\n",
       "      <td>0.81550</td>\n",
       "      <td>0.81950</td>\n",
       "      <td>0.8125</td>\n",
       "      <td>...</td>\n",
       "      <td>0.81690</td>\n",
       "      <td>0.003502</td>\n",
       "      <td>1</td>\n",
       "      <td>0.815875</td>\n",
       "      <td>0.817250</td>\n",
       "      <td>0.816438</td>\n",
       "      <td>0.818438</td>\n",
       "      <td>0.817625</td>\n",
       "      <td>0.817125</td>\n",
       "      <td>0.000897</td>\n",
       "    </tr>\n",
       "  </tbody>\n",
       "</table>\n",
       "<p>3 rows × 21 columns</p>\n",
       "</div>"
      ],
      "text/plain": [
       "   mean_fit_time  std_fit_time  mean_score_time  std_score_time  \\\n",
       "0       9.973412      0.617644         0.006073        0.009552   \n",
       "1      13.965108      2.666133         0.001817        0.000116   \n",
       "2      16.410887      3.243406         0.002061        0.000324   \n",
       "\n",
       "  param_hidden_layer_sizes                             params  \\\n",
       "0                   (5, 2)     {'hidden_layer_sizes': (5, 2)}   \n",
       "1                 (10, 10)   {'hidden_layer_sizes': (10, 10)}   \n",
       "2                (5, 5, 5)  {'hidden_layer_sizes': (5, 5, 5)}   \n",
       "\n",
       "   split0_test_score  split1_test_score  split2_test_score  split3_test_score  \\\n",
       "0            0.82275            0.81475            0.82000             0.8110   \n",
       "1            0.82100            0.81525            0.81975             0.8110   \n",
       "2            0.82225            0.81550            0.81950             0.8125   \n",
       "\n",
       "   ...  mean_test_score  std_test_score  rank_test_score  split0_train_score  \\\n",
       "0  ...          0.81670        0.004164                3            0.815875   \n",
       "1  ...          0.81645        0.003583                4            0.816000   \n",
       "2  ...          0.81690        0.003502                1            0.815875   \n",
       "\n",
       "   split1_train_score  split2_train_score  split3_train_score  \\\n",
       "0            0.817312            0.816312            0.818375   \n",
       "1            0.817375            0.816125            0.818438   \n",
       "2            0.817250            0.816438            0.818438   \n",
       "\n",
       "   split4_train_score  mean_train_score  std_train_score  \n",
       "0            0.817312          0.817037         0.000874  \n",
       "1            0.817625          0.817113         0.000927  \n",
       "2            0.817625          0.817125         0.000897  \n",
       "\n",
       "[3 rows x 21 columns]"
      ]
     },
     "execution_count": 15,
     "metadata": {},
     "output_type": "execute_result"
    }
   ],
   "source": [
    "##### The main parameters are max_depth and n_estimators so lets make a gridsearch of variations those\n",
    "\n",
    "# Define model\n",
    "model_temp = MLPClassifier(max_iter=20000,\n",
    "                           n_iter_no_change=100,       # Number of iters without improvement before stopping\n",
    "                           solver='adam',              # Standard for minimising\n",
    "                           activation='logistic',      # Standard function (but slightly slower)\n",
    "                           learning_rate='invscaling', # Other options are \"constant\" and \"adaptive\"\n",
    "                           random_state=42)\n",
    "\n",
    "# Specify parameters and distributions to sample from\n",
    "# Hidden layer size = size of network, len is number of layers and the elements number of neurons in layer\n",
    "parameters_GridSearch = {'hidden_layer_sizes': [(5,2), (10,10), (5,5,5), (10,5,2)]}\n",
    "\n",
    "# Chose number of iterations and number of folds\n",
    "k = 5\n",
    "\n",
    "GridSearch = GridSearchCV(model_temp, \n",
    "                          param_grid=parameters_GridSearch, \n",
    "                          cv=k, \n",
    "                          return_train_score=True,\n",
    "                          scoring = 'accuracy')\n",
    "\n",
    "# Fit the random search instance\n",
    "GridSearch.fit(Xt_train, Y_train);\n",
    "\n",
    "# Get results\n",
    "GridSearch_results = pd.DataFrame(GridSearch.cv_results_)                 \n",
    "print(\"Grid Search: \\tBest parameters: \", GridSearch.best_params_, f\", Best scores: {GridSearch.best_score_:.3f}\")\n",
    "\n",
    "GridSearch_results.head(3)"
   ]
  },
  {
   "cell_type": "code",
   "execution_count": 16,
   "id": "ae122284",
   "metadata": {
    "ExecuteTime": {
     "end_time": "2022-04-01T04:54:42.790728Z",
     "start_time": "2022-04-01T04:54:42.784148Z"
    }
   },
   "outputs": [
    {
     "name": "stdout",
     "output_type": "stream",
     "text": [
      "We use hidden layer size: (5, 5, 5)\n"
     ]
    }
   ],
   "source": [
    "# Set the hyperparameters found\n",
    "layers_GS = GridSearch.best_params_['hidden_layer_sizes']\n",
    "print('We use hidden layer size:', layers_GS)"
   ]
  },
  {
   "cell_type": "markdown",
   "id": "ee816e6b",
   "metadata": {},
   "source": [
    "# Classifier"
   ]
  },
  {
   "cell_type": "code",
   "execution_count": 17,
   "id": "a40f3451",
   "metadata": {
    "ExecuteTime": {
     "end_time": "2022-04-01T04:55:02.090925Z",
     "start_time": "2022-04-01T04:54:48.443216Z"
    }
   },
   "outputs": [
    {
     "name": "stdout",
     "output_type": "stream",
     "text": [
      "Accuracy on Train: 0.81685\n",
      "Accuracy on Test: 0.77625\n"
     ]
    }
   ],
   "source": [
    "# Define model\n",
    "model = MLPClassifier(max_iter=20000,\n",
    "                      n_iter_no_change=100,       # Number of iters without improvement before stopping\n",
    "                      solver='adam',              # Standard for minimising\n",
    "                      activation='logistic',      # Standard function (but slightly slower)\n",
    "                      learning_rate='invscaling', # Other options are \"constant\" and \"adaptive\"\n",
    "                      random_state=42,\n",
    "                      hidden_layer_sizes=layers_GS)\n",
    "\n",
    "# Train model\n",
    "model.fit(Xt_train, Y_train)\n",
    "\n",
    "# Calculate accuracy on train\n",
    "Y_pred_train = model.predict(Xt_train)\n",
    "accuracy_train = accuracy_score(Y_train, Y_pred_train)\n",
    "print('Accuracy on Train:', accuracy_train)\n",
    "\n",
    "# Calculate accuracy on test\n",
    "Y_pred_test = model.predict(Xt_test)\n",
    "accuracy_test = accuracy_score(Y_test, Y_pred_test)\n",
    "print('Accuracy on Test:', accuracy_test)\n",
    "\n",
    "# Get predictions\n",
    "# a numpy array of shape array-like of shape (n_samples, n_classes) \n",
    "# with the probability of each data example being of a given class.\n",
    "\n",
    "# Train\n",
    "predictions_train = model.predict_proba(Xt_train) \n",
    "predictions_train = pd.DataFrame(predictions_train, columns=['Show', 'No-show'])\n",
    "\n",
    "# Test\n",
    "predictions_test = model.predict_proba(Xt_test) \n",
    "predictions_test = pd.DataFrame(predictions_test, columns=['Show', 'No-show'])"
   ]
  },
  {
   "cell_type": "markdown",
   "id": "40eedf23",
   "metadata": {},
   "source": [
    "## ROC curve"
   ]
  },
  {
   "cell_type": "code",
   "execution_count": 18,
   "id": "e80e0876",
   "metadata": {
    "ExecuteTime": {
     "end_time": "2022-04-01T04:55:16.045249Z",
     "start_time": "2022-04-01T04:55:15.703347Z"
    }
   },
   "outputs": [
    {
     "data": {
      "image/png": "[encoded data removed]",
      "text/plain": [
       "<Figure size 576x576 with 1 Axes>"
      ]
     },
     "metadata": {
      "needs_background": "light"
     },
     "output_type": "display_data"
    }
   ],
   "source": [
    "# Get fpr and tpr to produce roc_curve\n",
    "fpr, tpr, _ = roc_curve(Y_test, predictions_test['No-show'])\n",
    "auc_score = auc(fpr, tpr)\n",
    "\n",
    "# Plot it\n",
    "fig, ax = plt.subplots(figsize=(8,8))\n",
    "ax.plot(fpr, tpr, color='r', linewidth=3)\n",
    "\n",
    "ax.set_facecolor('gainsboro')\n",
    "ax.grid(color='white')\n",
    "\n",
    "ax.set_xlabel('False Positive Rate (FPR)', fontsize=18)\n",
    "ax.set_ylabel('True Positive Rate (TPR)', fontsize=18)\n",
    "ax.set_title('ROC Curve', fontsize=20)\n",
    "\n",
    "plt.xticks(fontsize=15)\n",
    "plt.yticks(fontsize=15)\n",
    "\n",
    "plt.show()"
   ]
  },
  {
   "cell_type": "markdown",
   "id": "8c0b276f",
   "metadata": {},
   "source": [
    "# 4A Solution Plot"
   ]
  },
  {
   "cell_type": "code",
   "execution_count": 20,
   "id": "5badab92",
   "metadata": {
    "ExecuteTime": {
     "end_time": "2022-04-01T04:55:47.218784Z",
     "start_time": "2022-04-01T04:55:46.597006Z"
    }
   },
   "outputs": [
    {
     "data": {
      "image/png": "[encoded data removed]",
      "text/plain": [
       "<Figure size 1296x432 with 2 Axes>"
      ]
     },
     "metadata": {
      "needs_background": "light"
     },
     "output_type": "display_data"
    }
   ],
   "source": [
    "# Create test statistic plot\n",
    "fig, ax = plt.subplots(ncols=2, figsize=(18,6), sharey=True, gridspec_kw={'wspace':0.05})\n",
    "\n",
    "# Train sample ---------\n",
    "ax[0].hist(predictions_train['No-show'][Y_train==0], color='r', histtype='step', \n",
    "           bins=50, linewidth=3, label='No-show == 0')\n",
    "ax[0].hist(predictions_train['No-show'][Y_train==1], color='k', histtype='step', \n",
    "           bins=50, linewidth=3, label='No-show == 1')\n",
    "\n",
    "# Write accuracy\n",
    "ax[0].text(0.25, 2300, f'Classification Accuracy: {accuracy_train*100:.2f}%', fontsize=20)\n",
    "\n",
    "ax[0].tick_params(axis=\"x\", labelsize=15) \n",
    "ax[0].tick_params(axis=\"y\", labelsize=15) \n",
    "ax[0].set_ylabel('Counts', fontsize=18)\n",
    "ax[0].set_xlabel('Test Statistic for XGBoost (Probability)', fontsize=18)\n",
    "ax[0].set_title('Train Sample', fontsize=20)\n",
    "\n",
    "ax[0].set_facecolor('gainsboro')\n",
    "ax[0].grid(color='white')\n",
    "\n",
    "# Test sample ---------\n",
    "ax[1].hist(predictions_test['No-show'][Y_test==0], color='r', histtype='step', \n",
    "           bins=50, linewidth=3, label='No-show == 0')\n",
    "ax[1].hist(predictions_test['No-show'][Y_test==1], color='k', histtype='step', \n",
    "           bins=50, linewidth=3, label='No-show == 1')\n",
    "\n",
    "# Write accuracy\n",
    "ax[1].text(0.25, 2300, f'Classification Accuracy: {accuracy_test*100:.2f}%', fontsize=20)\n",
    "\n",
    "ax[1].set_facecolor('gainsboro')\n",
    "ax[1].grid(color='white')\n",
    "\n",
    "\n",
    "# Pretty\n",
    "ax[1].legend(loc='lower center', prop={'size':16}, bbox_to_anchor=(-0.025, -0.3),\n",
    "          ncol=3, fancybox=True, shadow=True)\n",
    "\n",
    "ax[1].tick_params(axis=\"x\", labelsize=15) \n",
    "ax[1].set_xlabel('Test Statistic for XGBoost (Probability)', fontsize=18)\n",
    "ax[1].set_title('Test Sample', fontsize=20)\n",
    "\n",
    "plt.show()"
   ]
  },
  {
   "cell_type": "markdown",
   "id": "7e3c1512",
   "metadata": {},
   "source": [
    "# Problem (4B)"
   ]
  },
  {
   "cell_type": "code",
   "execution_count": 107,
   "id": "694d78d1",
   "metadata": {
    "ExecuteTime": {
     "end_time": "2022-04-01T04:14:17.053414Z",
     "start_time": "2022-04-01T04:14:17.020273Z"
    }
   },
   "outputs": [
    {
     "data": {
      "text/plain": [
       "array([0.02748342, 0.0475508 , 0.0346735 , 0.05610883, 0.17927183,\n",
       "       0.03245684, 0.01832965, 0.03573308, 0.04007029, 0.04445667,\n",
       "       0.48386502], dtype=float32)"
      ]
     },
     "execution_count": 107,
     "metadata": {},
     "output_type": "execute_result"
    }
   ],
   "source": [
    "model.feature_importances_"
   ]
  },
  {
   "cell_type": "code",
   "execution_count": 108,
   "id": "80c0223c",
   "metadata": {
    "ExecuteTime": {
     "end_time": "2022-04-01T04:14:17.661342Z",
     "start_time": "2022-04-01T04:14:17.655005Z"
    }
   },
   "outputs": [
    {
     "data": {
      "text/plain": [
       "['Gender',\n",
       " 'ScheduledDay',\n",
       " 'AppointmentDay',\n",
       " 'TimeDifference',\n",
       " 'Age',\n",
       " 'Neighbourhood',\n",
       " 'R1',\n",
       " 'Diabetes',\n",
       " 'Alcoholism',\n",
       " 'Handcap',\n",
       " 'SMS_received']"
      ]
     },
     "execution_count": 108,
     "metadata": {},
     "output_type": "execute_result"
    }
   ],
   "source": [
    "features_to_train"
   ]
  },
  {
   "cell_type": "markdown",
   "id": "b9f22281",
   "metadata": {},
   "source": [
    "## Repeat the same, but only with best 6 features now"
   ]
  },
  {
   "cell_type": "code",
   "execution_count": 109,
   "id": "2d290fa5",
   "metadata": {
    "ExecuteTime": {
     "end_time": "2022-04-01T04:16:36.180028Z",
     "start_time": "2022-04-01T04:16:36.166665Z"
    }
   },
   "outputs": [],
   "source": [
    "## Same model as before, but lets remove some of the worst features\n",
    "best_features = ['ScheduledDay', 'TimeDifference','Age','Alcoholism','Handcap','SMS_received']\n",
    "\n",
    "# X contains out parameters - shape (n_samples, n_features)\n",
    "X2_train = train_data[best_features]\n",
    "X2_test = test_data[best_features]\n",
    "\n",
    "# Y contains the truth - shape (n_samples)\n",
    "Y2_train = train_data['No-show']\n",
    "Y2_test = test_data['No-show']"
   ]
  },
  {
   "cell_type": "code",
   "execution_count": 110,
   "id": "a8bb08ca",
   "metadata": {
    "ExecuteTime": {
     "end_time": "2022-04-01T04:18:06.552893Z",
     "start_time": "2022-04-01T04:18:05.436278Z"
    }
   },
   "outputs": [
    {
     "name": "stdout",
     "output_type": "stream",
     "text": [
      "Accuracy on Train: 0.8\n",
      "Accuracy on Test: 0.81545\n"
     ]
    }
   ],
   "source": [
    "# Define model\n",
    "model2 = XGBClassifier(objective='binary:logistic', eval_metric='logloss', random_state=1,\n",
    "                      learning_rate=0.1, use_label_encoder=False, n_estimators=n_estimators_GS, \n",
    "                      max_depth=max_depth_GS)\n",
    "\n",
    "# Train model\n",
    "model2.fit(X2_train, Y2_train)\n",
    "\n",
    "# Calculate accuracy on train\n",
    "Y2_pred_train = model2.predict(X2_train)\n",
    "accuracy2_train = accuracy_score(Y2_train, Y2_pred_train)\n",
    "print('Accuracy on Train:', accuracy2_train)\n",
    "\n",
    "# Calculate accuracy on test\n",
    "Y2_pred_test = model2.predict(X2_test)\n",
    "accuracy2_test = accuracy_score(Y2_test, Y2_pred_test)\n",
    "print('Accuracy on Test:', accuracy_test)\n",
    "\n",
    "# Get predictions\n",
    "# a numpy array of shape array-like of shape (n_samples, n_classes) \n",
    "# with the probability of each data example being of a given class.\n",
    "\n",
    "# Train\n",
    "predictions2_train = model2.predict_proba(X2_train) \n",
    "predictions2_train = pd.DataFrame(predictions2_train, columns=['Show', 'No-show'])\n",
    "\n",
    "# Test\n",
    "predictions2_test = model2.predict_proba(X2_test) \n",
    "predictions2_test = pd.DataFrame(predictions2_test, columns=['Show', 'No-show'])"
   ]
  },
  {
   "cell_type": "markdown",
   "id": "e2d8db53",
   "metadata": {},
   "source": [
    "it did not get better :("
   ]
  },
  {
   "cell_type": "code",
   "execution_count": null,
   "id": "3c1e2303",
   "metadata": {},
   "outputs": [],
   "source": []
  }
 ],
 "metadata": {
  "kernelspec": {
   "display_name": "Python 3",
   "language": "python",
   "name": "python3"
  },
  "language_info": {
   "codemirror_mode": {
    "name": "ipython",
    "version": 3
   },
   "file_extension": ".py",
   "mimetype": "text/x-python",
   "name": "python",
   "nbconvert_exporter": "python",
   "pygments_lexer": "ipython3",
   "version": "3.6.13"
  },
  "toc": {
   "base_numbering": 1,
   "nav_menu": {},
   "number_sections": true,
   "sideBar": true,
   "skip_h1_title": false,
   "title_cell": "Table of Contents",
   "title_sidebar": "Contents",
   "toc_cell": false,
   "toc_position": {},
   "toc_section_display": true,
   "toc_window_display": true
  }
 },
 "nbformat": 4,
 "nbformat_minor": 5
}
