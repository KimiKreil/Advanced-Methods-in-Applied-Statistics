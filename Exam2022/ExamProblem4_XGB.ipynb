{
 "cells": [
  {
   "cell_type": "code",
   "execution_count": 1,
   "id": "92c32f3f",
   "metadata": {
    "ExecuteTime": {
     "end_time": "2022-04-01T09:19:32.715960Z",
     "start_time": "2022-04-01T09:19:27.204570Z"
    }
   },
   "outputs": [],
   "source": [
    "# Import standard libraries\n",
    "import numpy as np\n",
    "import matplotlib.pyplot as plt\n",
    "import pandas as pd\n",
    "import matplotlib.patches as patches\n",
    "\n",
    "# Machine learning libraries\n",
    "from sklearn.model_selection import train_test_split\n",
    "from xgboost import XGBClassifier\n",
    "from sklearn.model_selection import GridSearchCV, RandomizedSearchCV\n",
    "from sklearn.metrics import accuracy_score, balanced_accuracy_score, log_loss, precision_score\n",
    "from sklearn.metrics import roc_curve, auc\n",
    "from scipy import stats"
   ]
  },
  {
   "cell_type": "code",
   "execution_count": 2,
   "id": "4fdf8e31",
   "metadata": {
    "ExecuteTime": {
     "end_time": "2022-04-01T09:19:32.726640Z",
     "start_time": "2022-04-01T09:19:32.719589Z"
    }
   },
   "outputs": [],
   "source": [
    "SavePlots = True"
   ]
  },
  {
   "cell_type": "markdown",
   "id": "19cb8a33",
   "metadata": {},
   "source": [
    "# Import Data"
   ]
  },
  {
   "cell_type": "code",
   "execution_count": 3,
   "id": "f11f1eb3",
   "metadata": {
    "ExecuteTime": {
     "end_time": "2022-04-01T09:19:33.258676Z",
     "start_time": "2022-04-01T09:19:32.729382Z"
    }
   },
   "outputs": [
    {
     "data": {
      "text/html": [
       "<div>\n",
       "<style scoped>\n",
       "    .dataframe tbody tr th:only-of-type {\n",
       "        vertical-align: middle;\n",
       "    }\n",
       "\n",
       "    .dataframe tbody tr th {\n",
       "        vertical-align: top;\n",
       "    }\n",
       "\n",
       "    .dataframe thead th {\n",
       "        text-align: right;\n",
       "    }\n",
       "</style>\n",
       "<table border=\"1\" class=\"dataframe\">\n",
       "  <thead>\n",
       "    <tr style=\"text-align: right;\">\n",
       "      <th></th>\n",
       "      <th>ID</th>\n",
       "      <th>Gender</th>\n",
       "      <th>ScheduledDay</th>\n",
       "      <th>AppointmentDay</th>\n",
       "      <th>TimeDifference</th>\n",
       "      <th>Age</th>\n",
       "      <th>Neighbourhood</th>\n",
       "      <th>R1</th>\n",
       "      <th>Diabetes</th>\n",
       "      <th>Alcoholism</th>\n",
       "      <th>Handcap</th>\n",
       "      <th>SMS_received</th>\n",
       "      <th>No-show</th>\n",
       "    </tr>\n",
       "  </thead>\n",
       "  <tbody>\n",
       "    <tr>\n",
       "      <th>0</th>\n",
       "      <td>0</td>\n",
       "      <td>0</td>\n",
       "      <td>4</td>\n",
       "      <td>0</td>\n",
       "      <td>2636901</td>\n",
       "      <td>33</td>\n",
       "      <td>43</td>\n",
       "      <td>0</td>\n",
       "      <td>0</td>\n",
       "      <td>0</td>\n",
       "      <td>0</td>\n",
       "      <td>0</td>\n",
       "      <td>0</td>\n",
       "    </tr>\n",
       "    <tr>\n",
       "      <th>1</th>\n",
       "      <td>1</td>\n",
       "      <td>0</td>\n",
       "      <td>2</td>\n",
       "      <td>2</td>\n",
       "      <td>562630</td>\n",
       "      <td>33</td>\n",
       "      <td>59</td>\n",
       "      <td>0</td>\n",
       "      <td>0</td>\n",
       "      <td>0</td>\n",
       "      <td>0</td>\n",
       "      <td>1</td>\n",
       "      <td>1</td>\n",
       "    </tr>\n",
       "    <tr>\n",
       "      <th>2</th>\n",
       "      <td>2</td>\n",
       "      <td>1</td>\n",
       "      <td>4</td>\n",
       "      <td>0</td>\n",
       "      <td>1440847</td>\n",
       "      <td>53</td>\n",
       "      <td>36</td>\n",
       "      <td>0</td>\n",
       "      <td>0</td>\n",
       "      <td>0</td>\n",
       "      <td>1</td>\n",
       "      <td>1</td>\n",
       "      <td>0</td>\n",
       "    </tr>\n",
       "    <tr>\n",
       "      <th>3</th>\n",
       "      <td>3</td>\n",
       "      <td>1</td>\n",
       "      <td>0</td>\n",
       "      <td>0</td>\n",
       "      <td>1766864</td>\n",
       "      <td>0</td>\n",
       "      <td>68</td>\n",
       "      <td>0</td>\n",
       "      <td>0</td>\n",
       "      <td>0</td>\n",
       "      <td>0</td>\n",
       "      <td>0</td>\n",
       "      <td>1</td>\n",
       "    </tr>\n",
       "    <tr>\n",
       "      <th>4</th>\n",
       "      <td>4</td>\n",
       "      <td>0</td>\n",
       "      <td>1</td>\n",
       "      <td>1</td>\n",
       "      <td>29819</td>\n",
       "      <td>20</td>\n",
       "      <td>12</td>\n",
       "      <td>0</td>\n",
       "      <td>0</td>\n",
       "      <td>0</td>\n",
       "      <td>0</td>\n",
       "      <td>0</td>\n",
       "      <td>0</td>\n",
       "    </tr>\n",
       "    <tr>\n",
       "      <th>...</th>\n",
       "      <td>...</td>\n",
       "      <td>...</td>\n",
       "      <td>...</td>\n",
       "      <td>...</td>\n",
       "      <td>...</td>\n",
       "      <td>...</td>\n",
       "      <td>...</td>\n",
       "      <td>...</td>\n",
       "      <td>...</td>\n",
       "      <td>...</td>\n",
       "      <td>...</td>\n",
       "      <td>...</td>\n",
       "      <td>...</td>\n",
       "    </tr>\n",
       "    <tr>\n",
       "      <th>19995</th>\n",
       "      <td>19995</td>\n",
       "      <td>0</td>\n",
       "      <td>0</td>\n",
       "      <td>0</td>\n",
       "      <td>572986</td>\n",
       "      <td>18</td>\n",
       "      <td>57</td>\n",
       "      <td>0</td>\n",
       "      <td>0</td>\n",
       "      <td>0</td>\n",
       "      <td>0</td>\n",
       "      <td>1</td>\n",
       "      <td>0</td>\n",
       "    </tr>\n",
       "    <tr>\n",
       "      <th>19996</th>\n",
       "      <td>19996</td>\n",
       "      <td>1</td>\n",
       "      <td>0</td>\n",
       "      <td>0</td>\n",
       "      <td>50894</td>\n",
       "      <td>55</td>\n",
       "      <td>36</td>\n",
       "      <td>0</td>\n",
       "      <td>0</td>\n",
       "      <td>0</td>\n",
       "      <td>0</td>\n",
       "      <td>0</td>\n",
       "      <td>0</td>\n",
       "    </tr>\n",
       "    <tr>\n",
       "      <th>19997</th>\n",
       "      <td>19997</td>\n",
       "      <td>0</td>\n",
       "      <td>2</td>\n",
       "      <td>1</td>\n",
       "      <td>486748</td>\n",
       "      <td>31</td>\n",
       "      <td>68</td>\n",
       "      <td>0</td>\n",
       "      <td>0</td>\n",
       "      <td>0</td>\n",
       "      <td>0</td>\n",
       "      <td>1</td>\n",
       "      <td>0</td>\n",
       "    </tr>\n",
       "    <tr>\n",
       "      <th>19998</th>\n",
       "      <td>19998</td>\n",
       "      <td>0</td>\n",
       "      <td>3</td>\n",
       "      <td>2</td>\n",
       "      <td>2298025</td>\n",
       "      <td>50</td>\n",
       "      <td>73</td>\n",
       "      <td>0</td>\n",
       "      <td>0</td>\n",
       "      <td>0</td>\n",
       "      <td>0</td>\n",
       "      <td>1</td>\n",
       "      <td>0</td>\n",
       "    </tr>\n",
       "    <tr>\n",
       "      <th>19999</th>\n",
       "      <td>19999</td>\n",
       "      <td>0</td>\n",
       "      <td>3</td>\n",
       "      <td>3</td>\n",
       "      <td>32211</td>\n",
       "      <td>35</td>\n",
       "      <td>30</td>\n",
       "      <td>0</td>\n",
       "      <td>0</td>\n",
       "      <td>0</td>\n",
       "      <td>0</td>\n",
       "      <td>0</td>\n",
       "      <td>0</td>\n",
       "    </tr>\n",
       "  </tbody>\n",
       "</table>\n",
       "<p>20000 rows × 13 columns</p>\n",
       "</div>"
      ],
      "text/plain": [
       "          ID  Gender  ScheduledDay  AppointmentDay  TimeDifference  Age  \\\n",
       "0          0       0             4               0         2636901   33   \n",
       "1          1       0             2               2          562630   33   \n",
       "2          2       1             4               0         1440847   53   \n",
       "3          3       1             0               0         1766864    0   \n",
       "4          4       0             1               1           29819   20   \n",
       "...      ...     ...           ...             ...             ...  ...   \n",
       "19995  19995       0             0               0          572986   18   \n",
       "19996  19996       1             0               0           50894   55   \n",
       "19997  19997       0             2               1          486748   31   \n",
       "19998  19998       0             3               2         2298025   50   \n",
       "19999  19999       0             3               3           32211   35   \n",
       "\n",
       "       Neighbourhood  R1  Diabetes  Alcoholism  Handcap  SMS_received  No-show  \n",
       "0                 43   0         0           0        0             0        0  \n",
       "1                 59   0         0           0        0             1        1  \n",
       "2                 36   0         0           0        1             1        0  \n",
       "3                 68   0         0           0        0             0        1  \n",
       "4                 12   0         0           0        0             0        0  \n",
       "...              ...  ..       ...         ...      ...           ...      ...  \n",
       "19995             57   0         0           0        0             1        0  \n",
       "19996             36   0         0           0        0             0        0  \n",
       "19997             68   0         0           0        0             1        0  \n",
       "19998             73   0         0           0        0             1        0  \n",
       "19999             30   0         0           0        0             0        0  \n",
       "\n",
       "[20000 rows x 13 columns]"
      ]
     },
     "execution_count": 3,
     "metadata": {},
     "output_type": "execute_result"
    }
   ],
   "source": [
    "# Import\n",
    "train_data = pd.read_csv('Data/Exam_2022_Prob4_TrainData.csv')\n",
    "test_data = pd.read_csv('Data/Exam_2022_Prob4_TestData.csv')\n",
    "blind_data = pd.read_csv('Data/Exam_2022_Prob4_BlindData.csv')\n",
    "\n",
    "# See if it looks right\n",
    "train_data"
   ]
  },
  {
   "cell_type": "code",
   "execution_count": 4,
   "id": "eb392a60",
   "metadata": {
    "ExecuteTime": {
     "end_time": "2022-04-01T09:19:33.374633Z",
     "start_time": "2022-04-01T09:19:33.361732Z"
    }
   },
   "outputs": [],
   "source": [
    "# Define features we will use (in the same order as the data now)\n",
    "features_to_train = ['Gender',\n",
    "                    'ScheduledDay',\n",
    "                    'AppointmentDay',\n",
    "                    'TimeDifference',\n",
    "                    'Age',\n",
    "                    'Neighbourhood',\n",
    "                    'R1',\n",
    "                    'Diabetes',\n",
    "                    'Alcoholism',\n",
    "                    'Handcap',\n",
    "                    'SMS_received']"
   ]
  },
  {
   "cell_type": "markdown",
   "id": "10bceca4",
   "metadata": {},
   "source": [
    "# Problem (4A)"
   ]
  },
  {
   "cell_type": "markdown",
   "id": "8bf3a51b",
   "metadata": {},
   "source": [
    "## Explore Data - Comparing Train and Test"
   ]
  },
  {
   "cell_type": "code",
   "execution_count": 5,
   "id": "efa3314d",
   "metadata": {
    "ExecuteTime": {
     "end_time": "2022-04-01T09:19:33.410009Z",
     "start_time": "2022-04-01T09:19:33.376912Z"
    }
   },
   "outputs": [
    {
     "name": "stdout",
     "output_type": "stream",
     "text": [
      "------ TRAIN SET ------\n",
      "There are 20000 individuals included in the data set.\n",
      "Number of people who showed: 15951\n",
      "Number of no-shows: 4049\n",
      "If signal is no-shows, and background people who showed, the signal to noise ratio is: 0.25\n",
      "------ TEST SET ------\n",
      "There are 20000 individuals included in the data set.\n",
      "Number of people who showed: 15987\n",
      "Number of no-shows: 4013\n",
      "If signal is no-shows, and background people who showed, the signal to noise ratio is: 0.25\n"
     ]
    }
   ],
   "source": [
    "print('------ TRAIN SET ------')\n",
    "# First we lets look at our data - how many of each classes are there?\n",
    "N_show_train = np.sum( train_data['No-show'] == 0 )\n",
    "N_noshow_train = np.sum( train_data['No-show'] == 1 )\n",
    "ratio_train = N_noshow_train / N_show_train\n",
    "\n",
    "# Print results\n",
    "print(f'There are {len(train_data)} individuals included in the data set.')\n",
    "print(f'Number of people who showed: {N_show_train}')\n",
    "print(f'Number of no-shows: {N_noshow_train}')\n",
    "print(f'If signal is no-shows, and background people who showed, the signal to noise ratio is: {ratio_train:.2f}')\n",
    "\n",
    "\n",
    "print('------ TEST SET ------')\n",
    "# First we lets look at our data - how many of each classes are there?\n",
    "N_show_test = np.sum( test_data['No-show'] == 0 )\n",
    "N_noshow_test = np.sum( test_data['No-show'] == 1 )\n",
    "ratio_test = N_noshow_test / N_show_test\n",
    "\n",
    "# Print results\n",
    "print(f'There are {len(test_data)} individuals included in the data set.')\n",
    "print(f'Number of people who showed: {N_show_test}')\n",
    "print(f'Number of no-shows: {N_noshow_test}')\n",
    "print(f'If signal is no-shows, and background people who showed, the signal to noise ratio is: {ratio_test:.2f}')"
   ]
  },
  {
   "cell_type": "code",
   "execution_count": 6,
   "id": "d5391913",
   "metadata": {
    "ExecuteTime": {
     "end_time": "2022-04-01T09:19:36.257085Z",
     "start_time": "2022-04-01T09:19:33.413452Z"
    }
   },
   "outputs": [
    {
     "name": "stderr",
     "output_type": "stream",
     "text": [
      "/anaconda3/lib/python3.6/site-packages/ipykernel_launcher.py:27: UserWarning: This figure includes Axes that are not compatible with tight_layout, so results might be incorrect.\n"
     ]
    },
    {
     "data": {
      "image/png": "[encoded data removed]",
      "text/plain": [
       "<Figure size 1080x720 with 11 Axes>"
      ]
     },
     "metadata": {
      "needs_background": "light"
     },
     "output_type": "display_data"
    }
   ],
   "source": [
    "# Show 1D distributions\n",
    "fig, ax = plt.subplots(nrows=3, ncols=4, gridspec_kw={'wspace':0.2, 'hspace':0.4}, figsize=(15,10))\n",
    "fig.delaxes(ax[2,3])\n",
    "ax = ax.flatten()\n",
    "\n",
    "# Loop over features\n",
    "for i in range(len(features_to_train)):\n",
    "    \n",
    "    ax[i].set_title(features_to_train[i], fontsize=15)\n",
    "    ax[i].set_facecolor('gainsboro')\n",
    "    ax[i].grid(color='white')\n",
    "    ax[i].tick_params(axis=\"x\", labelsize=12) \n",
    "    ax[i].tick_params(axis=\"y\", labelsize=12) \n",
    "    \n",
    "    _, bins_arr, _ = ax[i].hist(train_data[features_to_train[i]], bins=10, zorder=2,\n",
    "                                histtype='step', linewidth=3, color='r', label='Train')\n",
    "    ax[i].hist(train_data[features_to_train[i]], bins=10, alpha=0.3, linewidth=3, color='r',zorder=2)\n",
    "    \n",
    "    ax[i].hist(test_data[features_to_train[i]], bins=bins_arr, zorder=2,\n",
    "               histtype='step', linewidth=3, color='k', label='Test')\n",
    "    \n",
    "ax[10].legend(loc='center right', bbox_to_anchor=(2.1, 0.5), fancybox=True, shadow=True, fontsize=20)\n",
    "\n",
    "fig.suptitle('Comparing Distribution of Parameters in Test and Train Data', fontsize=22)\n",
    "\n",
    "if SavePlots:\n",
    "    plt.tight_layout()\n",
    "    plt.savefig('Plots/4_1.pdf')\n",
    "\n",
    "plt.show()"
   ]
  },
  {
   "cell_type": "markdown",
   "id": "189a17c6",
   "metadata": {},
   "source": [
    "Train and test look pretty similar, nice."
   ]
  },
  {
   "cell_type": "markdown",
   "id": "59762a9c",
   "metadata": {},
   "source": [
    "# Split into X and Y -> Prepare for Model"
   ]
  },
  {
   "cell_type": "code",
   "execution_count": 7,
   "id": "50e9f83a",
   "metadata": {
    "ExecuteTime": {
     "end_time": "2022-04-01T09:19:36.268048Z",
     "start_time": "2022-04-01T09:19:36.259256Z"
    }
   },
   "outputs": [],
   "source": [
    "# X contains out parameters - shape (n_samples, n_features)\n",
    "X_train = train_data[features_to_train]\n",
    "X_test = test_data[features_to_train]\n",
    "\n",
    "# Y contains the truth - shape (n_samples)\n",
    "Y_train = train_data['No-show']\n",
    "Y_test = test_data['No-show']"
   ]
  },
  {
   "cell_type": "markdown",
   "id": "64af1506",
   "metadata": {},
   "source": [
    "# Hyper Parameter Optimization"
   ]
  },
  {
   "cell_type": "code",
   "execution_count": 8,
   "id": "0ef9085b",
   "metadata": {
    "ExecuteTime": {
     "end_time": "2022-04-01T09:19:36.278154Z",
     "start_time": "2022-04-01T09:19:36.269932Z"
    }
   },
   "outputs": [
    {
     "data": {
      "text/plain": [
       "array([ 1.,  2.,  3.,  4.,  5.,  6.,  7.,  8.,  9., 10.])"
      ]
     },
     "execution_count": 8,
     "metadata": {},
     "output_type": "execute_result"
    }
   ],
   "source": [
    "np.arange(1,10.5,1)"
   ]
  },
  {
   "cell_type": "code",
   "execution_count": 9,
   "id": "ae0836cf",
   "metadata": {
    "ExecuteTime": {
     "end_time": "2022-04-01T09:19:36.291585Z",
     "start_time": "2022-04-01T09:19:36.284511Z"
    }
   },
   "outputs": [
    {
     "data": {
      "text/plain": [
       "array([  1.,  21.,  41.,  61.,  81., 101., 121., 141., 161., 181.])"
      ]
     },
     "execution_count": 9,
     "metadata": {},
     "output_type": "execute_result"
    }
   ],
   "source": [
    "np.arange(1, 200.5,20)"
   ]
  },
  {
   "cell_type": "code",
   "execution_count": 10,
   "id": "3ac0f1c4",
   "metadata": {
    "ExecuteTime": {
     "end_time": "2022-04-01T09:22:36.568217Z",
     "start_time": "2022-04-01T09:19:36.294907Z"
    }
   },
   "outputs": [
    {
     "name": "stdout",
     "output_type": "stream",
     "text": [
      "Grid Search: \tBest parameters:  {'max_depth': 4, 'n_estimators': 75} , Best scores: 0.818\n"
     ]
    },
    {
     "data": {
      "text/html": [
       "<div>\n",
       "<style scoped>\n",
       "    .dataframe tbody tr th:only-of-type {\n",
       "        vertical-align: middle;\n",
       "    }\n",
       "\n",
       "    .dataframe tbody tr th {\n",
       "        vertical-align: top;\n",
       "    }\n",
       "\n",
       "    .dataframe thead th {\n",
       "        text-align: right;\n",
       "    }\n",
       "</style>\n",
       "<table border=\"1\" class=\"dataframe\">\n",
       "  <thead>\n",
       "    <tr style=\"text-align: right;\">\n",
       "      <th></th>\n",
       "      <th>mean_fit_time</th>\n",
       "      <th>std_fit_time</th>\n",
       "      <th>mean_score_time</th>\n",
       "      <th>std_score_time</th>\n",
       "      <th>param_max_depth</th>\n",
       "      <th>param_n_estimators</th>\n",
       "      <th>params</th>\n",
       "      <th>split0_test_score</th>\n",
       "      <th>split1_test_score</th>\n",
       "      <th>split2_test_score</th>\n",
       "      <th>...</th>\n",
       "      <th>mean_test_score</th>\n",
       "      <th>std_test_score</th>\n",
       "      <th>rank_test_score</th>\n",
       "      <th>split0_train_score</th>\n",
       "      <th>split1_train_score</th>\n",
       "      <th>split2_train_score</th>\n",
       "      <th>split3_train_score</th>\n",
       "      <th>split4_train_score</th>\n",
       "      <th>mean_train_score</th>\n",
       "      <th>std_train_score</th>\n",
       "    </tr>\n",
       "  </thead>\n",
       "  <tbody>\n",
       "    <tr>\n",
       "      <th>0</th>\n",
       "      <td>0.141065</td>\n",
       "      <td>0.125529</td>\n",
       "      <td>0.003388</td>\n",
       "      <td>0.000671</td>\n",
       "      <td>1</td>\n",
       "      <td>25</td>\n",
       "      <td>{'max_depth': 1, 'n_estimators': 25}</td>\n",
       "      <td>0.82250</td>\n",
       "      <td>0.81450</td>\n",
       "      <td>0.819</td>\n",
       "      <td>...</td>\n",
       "      <td>0.81715</td>\n",
       "      <td>0.003308</td>\n",
       "      <td>9</td>\n",
       "      <td>0.815813</td>\n",
       "      <td>0.817813</td>\n",
       "      <td>0.816813</td>\n",
       "      <td>0.818125</td>\n",
       "      <td>0.817312</td>\n",
       "      <td>0.817175</td>\n",
       "      <td>0.000814</td>\n",
       "    </tr>\n",
       "    <tr>\n",
       "      <th>1</th>\n",
       "      <td>0.218255</td>\n",
       "      <td>0.106389</td>\n",
       "      <td>0.004316</td>\n",
       "      <td>0.001504</td>\n",
       "      <td>1</td>\n",
       "      <td>50</td>\n",
       "      <td>{'max_depth': 1, 'n_estimators': 50}</td>\n",
       "      <td>0.82275</td>\n",
       "      <td>0.81425</td>\n",
       "      <td>0.819</td>\n",
       "      <td>...</td>\n",
       "      <td>0.81715</td>\n",
       "      <td>0.003430</td>\n",
       "      <td>9</td>\n",
       "      <td>0.815813</td>\n",
       "      <td>0.818000</td>\n",
       "      <td>0.816813</td>\n",
       "      <td>0.818250</td>\n",
       "      <td>0.817375</td>\n",
       "      <td>0.817250</td>\n",
       "      <td>0.000876</td>\n",
       "    </tr>\n",
       "    <tr>\n",
       "      <th>2</th>\n",
       "      <td>0.298626</td>\n",
       "      <td>0.075786</td>\n",
       "      <td>0.004097</td>\n",
       "      <td>0.000916</td>\n",
       "      <td>1</td>\n",
       "      <td>75</td>\n",
       "      <td>{'max_depth': 1, 'n_estimators': 75}</td>\n",
       "      <td>0.82275</td>\n",
       "      <td>0.81425</td>\n",
       "      <td>0.819</td>\n",
       "      <td>...</td>\n",
       "      <td>0.81715</td>\n",
       "      <td>0.003430</td>\n",
       "      <td>9</td>\n",
       "      <td>0.815813</td>\n",
       "      <td>0.818000</td>\n",
       "      <td>0.816813</td>\n",
       "      <td>0.818250</td>\n",
       "      <td>0.817375</td>\n",
       "      <td>0.817250</td>\n",
       "      <td>0.000876</td>\n",
       "    </tr>\n",
       "  </tbody>\n",
       "</table>\n",
       "<p>3 rows × 22 columns</p>\n",
       "</div>"
      ],
      "text/plain": [
       "   mean_fit_time  std_fit_time  mean_score_time  std_score_time  \\\n",
       "0       0.141065      0.125529         0.003388        0.000671   \n",
       "1       0.218255      0.106389         0.004316        0.001504   \n",
       "2       0.298626      0.075786         0.004097        0.000916   \n",
       "\n",
       "  param_max_depth param_n_estimators                                params  \\\n",
       "0               1                 25  {'max_depth': 1, 'n_estimators': 25}   \n",
       "1               1                 50  {'max_depth': 1, 'n_estimators': 50}   \n",
       "2               1                 75  {'max_depth': 1, 'n_estimators': 75}   \n",
       "\n",
       "   split0_test_score  split1_test_score  split2_test_score  ...  \\\n",
       "0            0.82250            0.81450              0.819  ...   \n",
       "1            0.82275            0.81425              0.819  ...   \n",
       "2            0.82275            0.81425              0.819  ...   \n",
       "\n",
       "   mean_test_score  std_test_score  rank_test_score  split0_train_score  \\\n",
       "0          0.81715        0.003308                9            0.815813   \n",
       "1          0.81715        0.003430                9            0.815813   \n",
       "2          0.81715        0.003430                9            0.815813   \n",
       "\n",
       "   split1_train_score  split2_train_score  split3_train_score  \\\n",
       "0            0.817813            0.816813            0.818125   \n",
       "1            0.818000            0.816813            0.818250   \n",
       "2            0.818000            0.816813            0.818250   \n",
       "\n",
       "   split4_train_score  mean_train_score  std_train_score  \n",
       "0            0.817312          0.817175         0.000814  \n",
       "1            0.817375          0.817250         0.000876  \n",
       "2            0.817375          0.817250         0.000876  \n",
       "\n",
       "[3 rows x 22 columns]"
      ]
     },
     "execution_count": 10,
     "metadata": {},
     "output_type": "execute_result"
    }
   ],
   "source": [
    "##### The main parameters are max_depth and n_estimators so lets make a gridsearch of variations those\n",
    "\n",
    "# Define model\n",
    "model_temp = XGBClassifier(objective='binary:logistic', eval_metric='logloss', random_state=1,\n",
    "                           learning_rate=0.1, use_label_encoder=False)\n",
    "\n",
    "# Specify parameters and distributions to sample from\n",
    "parameters_GridSearch = {'max_depth': [1,2,4,6,8,10], \n",
    "                         'n_estimators': [25,50,75,100,125,150]}\n",
    "\n",
    "# Chose number of iterations and number of folds\n",
    "k = 5\n",
    "\n",
    "GridSearch = GridSearchCV(model_temp, \n",
    "                          param_grid=parameters_GridSearch, \n",
    "                          cv=k, \n",
    "                          return_train_score=True,\n",
    "                          scoring = 'accuracy')\n",
    "\n",
    "# Fit the random search instance\n",
    "GridSearch.fit(X_train, Y_train);\n",
    "\n",
    "# Get results\n",
    "GridSearch_results = pd.DataFrame(GridSearch.cv_results_)                 \n",
    "print(\"Grid Search: \\tBest parameters: \", GridSearch.best_params_, f\", Best scores: {GridSearch.best_score_:.3f}\")\n",
    "\n",
    "GridSearch_results.head(3)"
   ]
  },
  {
   "cell_type": "code",
   "execution_count": 11,
   "id": "03829161",
   "metadata": {
    "ExecuteTime": {
     "end_time": "2022-04-01T09:24:24.838403Z",
     "start_time": "2022-04-01T09:22:36.570802Z"
    }
   },
   "outputs": [
    {
     "name": "stdout",
     "output_type": "stream",
     "text": [
      "Grid Search: \tBest parameters:  {'max_depth': 4, 'n_estimators': 80} , Best scores: 0.818\n"
     ]
    },
    {
     "data": {
      "text/html": [
       "<div>\n",
       "<style scoped>\n",
       "    .dataframe tbody tr th:only-of-type {\n",
       "        vertical-align: middle;\n",
       "    }\n",
       "\n",
       "    .dataframe tbody tr th {\n",
       "        vertical-align: top;\n",
       "    }\n",
       "\n",
       "    .dataframe thead th {\n",
       "        text-align: right;\n",
       "    }\n",
       "</style>\n",
       "<table border=\"1\" class=\"dataframe\">\n",
       "  <thead>\n",
       "    <tr style=\"text-align: right;\">\n",
       "      <th></th>\n",
       "      <th>mean_fit_time</th>\n",
       "      <th>std_fit_time</th>\n",
       "      <th>mean_score_time</th>\n",
       "      <th>std_score_time</th>\n",
       "      <th>param_max_depth</th>\n",
       "      <th>param_n_estimators</th>\n",
       "      <th>params</th>\n",
       "      <th>split0_test_score</th>\n",
       "      <th>split1_test_score</th>\n",
       "      <th>split2_test_score</th>\n",
       "      <th>...</th>\n",
       "      <th>mean_test_score</th>\n",
       "      <th>std_test_score</th>\n",
       "      <th>rank_test_score</th>\n",
       "      <th>split0_train_score</th>\n",
       "      <th>split1_train_score</th>\n",
       "      <th>split2_train_score</th>\n",
       "      <th>split3_train_score</th>\n",
       "      <th>split4_train_score</th>\n",
       "      <th>mean_train_score</th>\n",
       "      <th>std_train_score</th>\n",
       "    </tr>\n",
       "  </thead>\n",
       "  <tbody>\n",
       "    <tr>\n",
       "      <th>0</th>\n",
       "      <td>0.310863</td>\n",
       "      <td>0.145391</td>\n",
       "      <td>0.004188</td>\n",
       "      <td>0.001948</td>\n",
       "      <td>2</td>\n",
       "      <td>50</td>\n",
       "      <td>{'max_depth': 2, 'n_estimators': 50}</td>\n",
       "      <td>0.823</td>\n",
       "      <td>0.81425</td>\n",
       "      <td>0.81925</td>\n",
       "      <td>...</td>\n",
       "      <td>0.81710</td>\n",
       "      <td>0.003717</td>\n",
       "      <td>17</td>\n",
       "      <td>0.815937</td>\n",
       "      <td>0.818063</td>\n",
       "      <td>0.816875</td>\n",
       "      <td>0.818688</td>\n",
       "      <td>0.817375</td>\n",
       "      <td>0.817388</td>\n",
       "      <td>0.000950</td>\n",
       "    </tr>\n",
       "    <tr>\n",
       "      <th>1</th>\n",
       "      <td>0.230549</td>\n",
       "      <td>0.004153</td>\n",
       "      <td>0.003458</td>\n",
       "      <td>0.000425</td>\n",
       "      <td>2</td>\n",
       "      <td>60</td>\n",
       "      <td>{'max_depth': 2, 'n_estimators': 60}</td>\n",
       "      <td>0.823</td>\n",
       "      <td>0.81425</td>\n",
       "      <td>0.81925</td>\n",
       "      <td>...</td>\n",
       "      <td>0.81710</td>\n",
       "      <td>0.003717</td>\n",
       "      <td>17</td>\n",
       "      <td>0.815875</td>\n",
       "      <td>0.818125</td>\n",
       "      <td>0.816875</td>\n",
       "      <td>0.818562</td>\n",
       "      <td>0.817375</td>\n",
       "      <td>0.817362</td>\n",
       "      <td>0.000946</td>\n",
       "    </tr>\n",
       "    <tr>\n",
       "      <th>2</th>\n",
       "      <td>0.276635</td>\n",
       "      <td>0.012323</td>\n",
       "      <td>0.003528</td>\n",
       "      <td>0.000663</td>\n",
       "      <td>2</td>\n",
       "      <td>70</td>\n",
       "      <td>{'max_depth': 2, 'n_estimators': 70}</td>\n",
       "      <td>0.823</td>\n",
       "      <td>0.81450</td>\n",
       "      <td>0.81925</td>\n",
       "      <td>...</td>\n",
       "      <td>0.81715</td>\n",
       "      <td>0.003680</td>\n",
       "      <td>15</td>\n",
       "      <td>0.815875</td>\n",
       "      <td>0.818063</td>\n",
       "      <td>0.817000</td>\n",
       "      <td>0.818562</td>\n",
       "      <td>0.817438</td>\n",
       "      <td>0.817388</td>\n",
       "      <td>0.000925</td>\n",
       "    </tr>\n",
       "  </tbody>\n",
       "</table>\n",
       "<p>3 rows × 22 columns</p>\n",
       "</div>"
      ],
      "text/plain": [
       "   mean_fit_time  std_fit_time  mean_score_time  std_score_time  \\\n",
       "0       0.310863      0.145391         0.004188        0.001948   \n",
       "1       0.230549      0.004153         0.003458        0.000425   \n",
       "2       0.276635      0.012323         0.003528        0.000663   \n",
       "\n",
       "  param_max_depth param_n_estimators                                params  \\\n",
       "0               2                 50  {'max_depth': 2, 'n_estimators': 50}   \n",
       "1               2                 60  {'max_depth': 2, 'n_estimators': 60}   \n",
       "2               2                 70  {'max_depth': 2, 'n_estimators': 70}   \n",
       "\n",
       "   split0_test_score  split1_test_score  split2_test_score  ...  \\\n",
       "0              0.823            0.81425            0.81925  ...   \n",
       "1              0.823            0.81425            0.81925  ...   \n",
       "2              0.823            0.81450            0.81925  ...   \n",
       "\n",
       "   mean_test_score  std_test_score  rank_test_score  split0_train_score  \\\n",
       "0          0.81710        0.003717               17            0.815937   \n",
       "1          0.81710        0.003717               17            0.815875   \n",
       "2          0.81715        0.003680               15            0.815875   \n",
       "\n",
       "   split1_train_score  split2_train_score  split3_train_score  \\\n",
       "0            0.818063            0.816875            0.818688   \n",
       "1            0.818125            0.816875            0.818562   \n",
       "2            0.818063            0.817000            0.818562   \n",
       "\n",
       "   split4_train_score  mean_train_score  std_train_score  \n",
       "0            0.817375          0.817388         0.000950  \n",
       "1            0.817375          0.817362         0.000946  \n",
       "2            0.817438          0.817388         0.000925  \n",
       "\n",
       "[3 rows x 22 columns]"
      ]
     },
     "execution_count": 11,
     "metadata": {},
     "output_type": "execute_result"
    }
   ],
   "source": [
    "# Grid Search 2 - zoomed grid close to best value #\n",
    "\n",
    "# Specify parameters and distributions to sample from\n",
    "parameters_GridSearch2 = {'max_depth': [2,3,4,5,6], \n",
    "                         'n_estimators': [50,60,70,80,90,100]}\n",
    "\n",
    "# Chose number of iterations and number of folds\n",
    "k = 5\n",
    "\n",
    "GridSearch2 = GridSearchCV(model_temp, \n",
    "                           param_grid=parameters_GridSearch2, \n",
    "                           cv=k, \n",
    "                           return_train_score=True,\n",
    "                           scoring = 'accuracy')\n",
    "\n",
    "# Fit the random search instance\n",
    "GridSearch2.fit(X_train, Y_train);\n",
    "\n",
    "# Get results\n",
    "GridSearch2_results = pd.DataFrame(GridSearch2.cv_results_)                 \n",
    "print(\"Grid Search: \\tBest parameters: \", GridSearch2.best_params_, f\", Best scores: {GridSearch2.best_score_:.3f}\")\n",
    "\n",
    "GridSearch2_results.head(3)"
   ]
  },
  {
   "cell_type": "code",
   "execution_count": 12,
   "id": "57283d49",
   "metadata": {
    "ExecuteTime": {
     "end_time": "2022-04-01T09:24:25.561359Z",
     "start_time": "2022-04-01T09:24:24.843435Z"
    }
   },
   "outputs": [
    {
     "name": "stderr",
     "output_type": "stream",
     "text": [
      "/anaconda3/lib/python3.6/site-packages/ipykernel_launcher.py:74: UserWarning: This figure includes Axes that are not compatible with tight_layout, so results might be incorrect.\n"
     ]
    },
    {
     "data": {
      "image/png": "[encoded data removed]",
      "text/plain": [
       "<Figure size 1080x432 with 3 Axes>"
      ]
     },
     "metadata": {
      "needs_background": "light"
     },
     "output_type": "display_data"
    }
   ],
   "source": [
    "# Lets try to plot it with colors in a 2d parameter space ----------------------------------\n",
    "\n",
    "# Create figure\n",
    "fig, ax = plt.subplots(ncols=2, figsize=(15,6), gridspec_kw={'wspace':0.2, 'width_ratios':(1.7,2)})\n",
    "\n",
    "# Get parameters\n",
    "x1 = GridSearch_results['param_max_depth']\n",
    "x2 = GridSearch_results['param_n_estimators']\n",
    "color = GridSearch_results['mean_test_score']\n",
    "\n",
    "x1_2 = GridSearch2_results['param_max_depth']\n",
    "x2_2 = GridSearch2_results['param_n_estimators']\n",
    "color2 = GridSearch2_results['mean_test_score']\n",
    "\n",
    "mini, maxi = np.min(np.concatenate((color,color2))), np.max(np.concatenate((color,color2))) #color ranges\n",
    "\n",
    "\n",
    "# Plot initial random search\n",
    "ax[0].scatter(x1, x2, s=300, c = color, cmap='RdYlGn', zorder=2)#, vmin=mini, vmax=maxi)\n",
    "ax[0].set_facecolor('gainsboro')\n",
    "ax[0].grid(color='w')\n",
    "ax[0].set_xlabel('max_depth', fontsize=15)\n",
    "ax[0].set_ylabel('n_estimators', fontsize=15)\n",
    "ax[0].set_title('Initial Grid Search', fontsize=18)\n",
    "\n",
    "ax[0].set_xlim(0,11)\n",
    "ax[0].set_ylim(0,175)\n",
    "\n",
    "ax[0].set_xticks([1,2,4,6,8,10])\n",
    "ax[0].set_yticks([25,50,75,100,125,150])\n",
    "\n",
    "ax[0].tick_params(axis=\"x\", labelsize=15) \n",
    "ax[0].tick_params(axis=\"y\", labelsize=15)\n",
    "\n",
    "\n",
    "# Plot final search\n",
    "im2 = ax[1].scatter(x1_2, x2_2, s=300, c = color2, cmap='RdYlGn', zorder=2, vmin=mini, vmax=maxi)\n",
    "ax[1].set_facecolor('gainsboro')\n",
    "ax[1].grid(color='w')\n",
    "ax[1].set_xlabel('max_depth', fontsize=15)\n",
    "ax[1].set_ylabel('n_estimators', fontsize=15)\n",
    "ax[1].set_title('Final Grid Search', fontsize=18)\n",
    "\n",
    "ax[1].set_xlim(1,7)\n",
    "ax[1].set_ylim(40,110)\n",
    "\n",
    "ax[1].set_xticks([2,3,4,5,6])\n",
    "ax[1].set_yticks([50,60,70,80,90,100])\n",
    "\n",
    "ax[1].tick_params(axis=\"x\", labelsize=15) \n",
    "ax[1].tick_params(axis=\"y\", labelsize=15)\n",
    "\n",
    "\n",
    "# Shared colorbar\n",
    "cbar = fig.colorbar(im2, ax=ax[1])\n",
    "cbar.set_label('Accuracy', fontsize=15, x=1.7)\n",
    "cbar.ax.tick_params(labelsize=15)\n",
    "\n",
    "\n",
    "# Mark the zoom in plot ------------------------\n",
    "xlim2 = (1,7)\n",
    "ylim2 = (40,110)\n",
    "\n",
    "# Square (x,y,width,height)\n",
    "rect = patches.Rectangle((xlim2[0],ylim2[0]), xlim2[1]-xlim2[0], ylim2[1]-ylim2[0], linewidth=2, edgecolor='k', facecolor='none', linestyle='dashed')\n",
    "ax[0].add_patch(rect)\n",
    "# Lines\n",
    "line1 = patches.ConnectionPatch(xyA=(xlim2[0],ylim2[1]), xyB=(xlim2[0],ylim2[1]), coordsA=ax[0].transData, coordsB=ax[1].transData)\n",
    "fig.add_artist(line1)\n",
    "line2 = patches.ConnectionPatch(xyA=(xlim2[0],ylim2[0]), xyB=(xlim2[0],ylim2[0]), coordsA=ax[0].transData, coordsB=ax[1].transData)\n",
    "fig.add_artist(line2)\n",
    "\n",
    "if SavePlots:\n",
    "    plt.tight_layout()\n",
    "    plt.savefig('Plots/4_2.pdf')\n",
    "    \n",
    "plt.show()"
   ]
  },
  {
   "cell_type": "code",
   "execution_count": 13,
   "id": "3e34eb2b",
   "metadata": {
    "ExecuteTime": {
     "end_time": "2022-04-01T09:24:25.567160Z",
     "start_time": "2022-04-01T09:24:25.563268Z"
    }
   },
   "outputs": [
    {
     "name": "stdout",
     "output_type": "stream",
     "text": [
      "We use max depth: 4 and n_estimators: 80\n"
     ]
    }
   ],
   "source": [
    "# Set the hyperparameters found\n",
    "max_depth_GS = GridSearch2.best_params_['max_depth']\n",
    "n_estimators_GS = GridSearch2.best_params_['n_estimators']\n",
    "print('We use max depth:', max_depth_GS, 'and n_estimators:', n_estimators_GS)"
   ]
  },
  {
   "cell_type": "markdown",
   "id": "345026e0",
   "metadata": {},
   "source": [
    "# Classifier"
   ]
  },
  {
   "cell_type": "code",
   "execution_count": 14,
   "id": "5020b469",
   "metadata": {
    "ExecuteTime": {
     "end_time": "2022-04-01T09:24:26.561136Z",
     "start_time": "2022-04-01T09:24:25.589539Z"
    }
   },
   "outputs": [
    {
     "name": "stdout",
     "output_type": "stream",
     "text": [
      "Accuracy on Train: 0.82065\n",
      "Accuracy on Test: 0.81545\n"
     ]
    }
   ],
   "source": [
    "# Define model\n",
    "model = XGBClassifier(objective='binary:logistic', eval_metric='logloss', random_state=1,\n",
    "                      learning_rate=0.1, use_label_encoder=False, n_estimators=n_estimators_GS, \n",
    "                      max_depth=max_depth_GS)\n",
    "\n",
    "# Train model\n",
    "model.fit(X_train, Y_train)\n",
    "\n",
    "# Calculate accuracy on train\n",
    "Y_pred_train = model.predict(X_train)\n",
    "accuracy_train = accuracy_score(Y_train, Y_pred_train)\n",
    "print('Accuracy on Train:', accuracy_train)\n",
    "\n",
    "# Calculate accuracy on test\n",
    "Y_pred_test = model.predict(X_test)\n",
    "accuracy_test = accuracy_score(Y_test, Y_pred_test)\n",
    "print('Accuracy on Test:', accuracy_test)\n",
    "\n",
    "# Get predictions\n",
    "# a numpy array of shape array-like of shape (n_samples, n_classes) \n",
    "# with the probability of each data example being of a given class.\n",
    "\n",
    "# Train\n",
    "predictions_train = model.predict_proba(X_train) \n",
    "predictions_train = pd.DataFrame(predictions_train, columns=['Show', 'No-show'])\n",
    "\n",
    "# Test\n",
    "predictions_test = model.predict_proba(X_test) \n",
    "predictions_test = pd.DataFrame(predictions_test, columns=['Show', 'No-show'])"
   ]
  },
  {
   "cell_type": "markdown",
   "id": "f6ca239d",
   "metadata": {},
   "source": [
    "## ROC curve"
   ]
  },
  {
   "cell_type": "code",
   "execution_count": 15,
   "id": "a1719ab4",
   "metadata": {
    "ExecuteTime": {
     "end_time": "2022-04-01T09:24:26.935946Z",
     "start_time": "2022-04-01T09:24:26.564244Z"
    }
   },
   "outputs": [
    {
     "data": {
      "image/png": "[encoded data removed]",
      "text/plain": [
       "<Figure size 576x576 with 1 Axes>"
      ]
     },
     "metadata": {
      "needs_background": "light"
     },
     "output_type": "display_data"
    }
   ],
   "source": [
    "# Get fpr and tpr to produce roc_curve\n",
    "fpr, tpr, _ = roc_curve(Y_test, predictions_test['No-show'])\n",
    "auc_score = auc(fpr, tpr)\n",
    "\n",
    "# Plot it\n",
    "fig, ax = plt.subplots(figsize=(8,8))\n",
    "ax.plot(fpr, tpr, color='r', linewidth=3)\n",
    "\n",
    "ax.set_facecolor('gainsboro')\n",
    "ax.grid(color='white')\n",
    "\n",
    "ax.set_xlabel('False Positive Rate (FPR)', fontsize=18)\n",
    "ax.set_ylabel('True Positive Rate (TPR)', fontsize=18)\n",
    "ax.set_title('ROC Curve', fontsize=20)\n",
    "\n",
    "plt.xticks(fontsize=15)\n",
    "plt.yticks(fontsize=15)\n",
    "\n",
    "plt.tight_layout()\n",
    "plt.savefig('Plots/4_roc.pdf')\n",
    "\n",
    "plt.show()"
   ]
  },
  {
   "cell_type": "markdown",
   "id": "bc564d12",
   "metadata": {},
   "source": [
    "# 4A Solution Plot"
   ]
  },
  {
   "cell_type": "code",
   "execution_count": 16,
   "id": "d2f917e9",
   "metadata": {
    "ExecuteTime": {
     "end_time": "2022-04-01T09:24:27.651509Z",
     "start_time": "2022-04-01T09:24:26.938048Z"
    }
   },
   "outputs": [
    {
     "name": "stderr",
     "output_type": "stream",
     "text": [
      "/anaconda3/lib/python3.6/site-packages/ipykernel_launcher.py:44: UserWarning: This figure includes Axes that are not compatible with tight_layout, so results might be incorrect.\n"
     ]
    },
    {
     "data": {
      "image/png": "[encoded data removed]",
      "text/plain": [
       "<Figure size 1296x432 with 2 Axes>"
      ]
     },
     "metadata": {
      "needs_background": "light"
     },
     "output_type": "display_data"
    }
   ],
   "source": [
    "# Create test statistic plot\n",
    "fig, ax = plt.subplots(ncols=2, figsize=(18,6), sharey=True, gridspec_kw={'wspace':0.05})\n",
    "\n",
    "# Train sample ---------\n",
    "ax[0].hist(predictions_train['No-show'][Y_train==0], color='r', histtype='step', \n",
    "           bins=50, linewidth=3, label='No-show == 0')\n",
    "ax[0].hist(predictions_train['No-show'][Y_train==1], color='k', histtype='step', \n",
    "           bins=50, linewidth=3, label='No-show == 1')\n",
    "\n",
    "# Write accuracy\n",
    "ax[0].text(0.25, 2500, f'Classification Accuracy: {accuracy_train*100:.2f}%', fontsize=20)\n",
    "\n",
    "ax[0].tick_params(axis=\"x\", labelsize=15) \n",
    "ax[0].tick_params(axis=\"y\", labelsize=15) \n",
    "ax[0].set_ylabel('Counts', fontsize=18)\n",
    "ax[0].set_xlabel('Test Statistic for XGBoost (Probability)', fontsize=18)\n",
    "ax[0].set_title('Train Sample', fontsize=20)\n",
    "\n",
    "ax[0].set_facecolor('gainsboro')\n",
    "ax[0].grid(color='white')\n",
    "\n",
    "# Test sample ---------\n",
    "ax[1].hist(predictions_test['No-show'][Y_test==0], color='r', histtype='step', \n",
    "           bins=50, linewidth=3, label='No-show == 0')\n",
    "ax[1].hist(predictions_test['No-show'][Y_test==1], color='k', histtype='step', \n",
    "           bins=50, linewidth=3, label='No-show == 1')\n",
    "\n",
    "# Write accuracy\n",
    "ax[1].text(0.25, 2500, f'Classification Accuracy: {accuracy_test*100:.2f}%', fontsize=20)\n",
    "\n",
    "ax[1].set_facecolor('gainsboro')\n",
    "ax[1].grid(color='white')\n",
    "\n",
    "\n",
    "# Pretty\n",
    "ax[1].legend(loc='lower center', prop={'size':16}, bbox_to_anchor=(-0.025, -0.3),\n",
    "          ncol=3, fancybox=True, shadow=True)\n",
    "\n",
    "ax[1].tick_params(axis=\"x\", labelsize=15) \n",
    "ax[1].set_xlabel('Test Statistic for XGBoost (Probability)', fontsize=18)\n",
    "ax[1].set_title('Test Sample', fontsize=20)\n",
    "\n",
    "if SavePlots:\n",
    "    plt.tight_layout()\n",
    "    plt.savefig('Plots/4_3.pdf')\n",
    "\n",
    "plt.show()"
   ]
  },
  {
   "cell_type": "markdown",
   "id": "411cafc4",
   "metadata": {},
   "source": [
    "## Can the accuracy become better when adjusting the cut?"
   ]
  },
  {
   "cell_type": "code",
   "execution_count": 17,
   "id": "99ec599b",
   "metadata": {
    "ExecuteTime": {
     "end_time": "2022-04-01T09:24:27.696856Z",
     "start_time": "2022-04-01T09:24:27.656477Z"
    }
   },
   "outputs": [],
   "source": [
    "# Define function to compute accuracy for different cuts\n",
    "def compute_accuracy(prob_noshow_arr, cut, true_labels):\n",
    "    \n",
    "    # Array to put classifications in, all start as low earner\n",
    "    pred = np.zeros(len(prob_noshow_arr))\n",
    "    \n",
    "    # Make a mask saying when the probability is above the cut and it should be classified as high earner\n",
    "    noshow_mask = (prob_noshow_arr > cut)\n",
    "    \n",
    "    # Make classifications\n",
    "    pred[noshow_mask] = 1\n",
    "    \n",
    "    # Return the precision\n",
    "    return accuracy_score(y_true=true_labels, y_pred=pred)"
   ]
  },
  {
   "cell_type": "code",
   "execution_count": 18,
   "id": "6e96c260",
   "metadata": {
    "ExecuteTime": {
     "end_time": "2022-04-01T09:24:29.018360Z",
     "start_time": "2022-04-01T09:24:27.722899Z"
    }
   },
   "outputs": [
    {
     "data": {
      "image/png": "[encoded data removed]",
      "text/plain": [
       "<Figure size 864x432 with 1 Axes>"
      ]
     },
     "metadata": {
      "needs_background": "light"
     },
     "output_type": "display_data"
    }
   ],
   "source": [
    "# Different values to test of cut\n",
    "cut_arr = np.linspace(0,1,100)\n",
    "\n",
    "# Array to store precision\n",
    "accuracy_arr = np.zeros(100)\n",
    "accuracy_arr_test = np.zeros(100)\n",
    "\n",
    "for i in range(len(cut_arr)):\n",
    "    \n",
    "    accuracy_arr[i] = compute_accuracy(predictions_train['No-show'], cut_arr[i], Y_train)\n",
    "    accuracy_arr_test[i] = compute_accuracy(predictions_test['No-show'], cut_arr[i], Y_test)\n",
    "    \n",
    "# Chose best accuracy\n",
    "idx_cut = np.argmax(accuracy_arr)\n",
    "\n",
    "# Plot choice of cut\n",
    "fig, ax = plt.subplots(figsize=(12,6))\n",
    "\n",
    "ax.set_facecolor('gainsboro')\n",
    "ax.grid(color='white')\n",
    "\n",
    "ax.plot(cut_arr, accuracy_arr, color='r', linewidth=2, label='Train')\n",
    "ax.plot(cut_arr, accuracy_arr_test, color='royalblue', linewidth=2, label='Test')\n",
    "\n",
    "ax.scatter(cut_arr[idx_cut], accuracy_arr[idx_cut], color='k', s=100, zorder=3,\n",
    "           label=f'Max Train Accuracy at cut={cut_arr[idx_cut]:.2f} \\nwith {accuracy_arr[idx_cut]*100:.2f}%')\n",
    "ax.hlines(accuracy_arr[idx_cut], 0, 1, linestyle='dashed', color='k')\n",
    "ax.vlines(cut_arr[idx_cut], 0, 1, linestyle='dashed', color='k')\n",
    "\n",
    "ax.legend(prop={'size':16}, loc='lower right')\n",
    "\n",
    "plt.xlim(0,1)\n",
    "plt.ylim(0,1)\n",
    "plt.xticks(fontsize=16)\n",
    "plt.yticks(fontsize=16)\n",
    "ax.set_xlabel('Cut Value', fontsize=18)\n",
    "ax.set_ylabel('Classification Accuracy', fontsize=18)\n",
    "\n",
    "if SavePlots:\n",
    "    plt.tight_layout()\n",
    "    plt.savefig('Plots/4_4.pdf')\n",
    "\n",
    "plt.show()"
   ]
  },
  {
   "cell_type": "code",
   "execution_count": 19,
   "id": "05cbc7b5",
   "metadata": {
    "ExecuteTime": {
     "end_time": "2022-04-01T09:24:29.037535Z",
     "start_time": "2022-04-01T09:24:29.022264Z"
    }
   },
   "outputs": [
    {
     "data": {
      "text/plain": [
       "0.81465"
      ]
     },
     "execution_count": 19,
     "metadata": {},
     "output_type": "execute_result"
    }
   ],
   "source": [
    "# Calculate the accuracy on the test set with the given cut\n",
    "accuracy_test = compute_accuracy(predictions_test['No-show'], cut_arr[idx_cut], Y_test)\n",
    "accuracy_test"
   ]
  },
  {
   "cell_type": "markdown",
   "id": "3322ddec",
   "metadata": {},
   "source": [
    "not better, big sad"
   ]
  },
  {
   "cell_type": "markdown",
   "id": "cb6d63aa",
   "metadata": {},
   "source": [
    "# Problem (4B)"
   ]
  },
  {
   "cell_type": "code",
   "execution_count": 20,
   "id": "e855e7ad",
   "metadata": {
    "ExecuteTime": {
     "end_time": "2022-04-01T09:24:29.080896Z",
     "start_time": "2022-04-01T09:24:29.044091Z"
    }
   },
   "outputs": [
    {
     "data": {
      "text/plain": [
       "array([0.02748342, 0.04755081, 0.0346735 , 0.17927186, 0.05610883,\n",
       "       0.03245685, 0.48386505, 0.01832965, 0.03573309, 0.0400703 ,\n",
       "       0.04445668], dtype=float32)"
      ]
     },
     "execution_count": 20,
     "metadata": {},
     "output_type": "execute_result"
    }
   ],
   "source": [
    "model.feature_importances_"
   ]
  },
  {
   "cell_type": "code",
   "execution_count": 35,
   "id": "7b192c0c",
   "metadata": {
    "ExecuteTime": {
     "end_time": "2022-04-01T09:29:18.184832Z",
     "start_time": "2022-04-01T09:29:18.153904Z"
    }
   },
   "outputs": [
    {
     "data": {
      "text/plain": [
       "array([0.01832965, 0.02748342, 0.03245685, 0.0346735 , 0.03573309,\n",
       "       0.0400703 , 0.04445668, 0.04755081, 0.05610883, 0.17927186,\n",
       "       0.48386505], dtype=float32)"
      ]
     },
     "execution_count": 35,
     "metadata": {},
     "output_type": "execute_result"
    }
   ],
   "source": [
    "np.sort(model.feature_importances_)"
   ]
  },
  {
   "cell_type": "code",
   "execution_count": 32,
   "id": "c89a35db",
   "metadata": {
    "ExecuteTime": {
     "end_time": "2022-04-01T09:27:07.061131Z",
     "start_time": "2022-04-01T09:27:07.052468Z"
    }
   },
   "outputs": [
    {
     "name": "stdout",
     "output_type": "stream",
     "text": [
      "R1 TimeDifference Age ScheduledDay SMS_received Handcap Alcoholism AppointmentDay Neighbourhood Gender Diabetes\n"
     ]
    }
   ],
   "source": [
    "print(features_to_train[6],\n",
    "features_to_train[3],\n",
    "features_to_train[4],\n",
    "features_to_train[1],\n",
    "features_to_train[10],\n",
    "features_to_train[9], features_to_train[8], features_to_train[2], \n",
    "features_to_train[5], features_to_train[0], features_to_train[7])\n",
    "      "
   ]
  },
  {
   "cell_type": "code",
   "execution_count": 23,
   "id": "c2f5f811",
   "metadata": {
    "ExecuteTime": {
     "end_time": "2022-04-01T09:24:29.204186Z",
     "start_time": "2022-04-01T09:24:29.172902Z"
    }
   },
   "outputs": [
    {
     "data": {
      "text/plain": [
       "['Gender',\n",
       " 'ScheduledDay',\n",
       " 'AppointmentDay',\n",
       " 'TimeDifference',\n",
       " 'Age',\n",
       " 'Neighbourhood',\n",
       " 'R1',\n",
       " 'Diabetes',\n",
       " 'Alcoholism',\n",
       " 'Handcap',\n",
       " 'SMS_received']"
      ]
     },
     "execution_count": 23,
     "metadata": {},
     "output_type": "execute_result"
    }
   ],
   "source": [
    "features_to_train"
   ]
  },
  {
   "cell_type": "markdown",
   "id": "1cc3068f",
   "metadata": {},
   "source": [
    "## Repeat the same, but only with best 6 features now"
   ]
  },
  {
   "cell_type": "code",
   "execution_count": 33,
   "id": "144ff276",
   "metadata": {
    "ExecuteTime": {
     "end_time": "2022-04-01T09:29:05.346337Z",
     "start_time": "2022-04-01T09:29:05.326175Z"
    }
   },
   "outputs": [],
   "source": [
    "## Same model as before, but lets remove some of the worst features\n",
    "best_features = ['R1', 'TimeDifference', 'Age', 'ScheduledDay', 'SMS_received' ]\n",
    "#best_features = ['Age','SMS_received']\n",
    "\n",
    "# X contains out parameters - shape (n_samples, n_features)\n",
    "X2_train = train_data[best_features]\n",
    "X2_test = test_data[best_features]\n",
    "\n",
    "# Y contains the truth - shape (n_samples)\n",
    "Y2_train = train_data['No-show']\n",
    "Y2_test = test_data['No-show']"
   ]
  },
  {
   "cell_type": "code",
   "execution_count": 34,
   "id": "86253deb",
   "metadata": {
    "ExecuteTime": {
     "end_time": "2022-04-01T09:29:07.476106Z",
     "start_time": "2022-04-01T09:29:06.720837Z"
    }
   },
   "outputs": [
    {
     "name": "stdout",
     "output_type": "stream",
     "text": [
      "Accuracy on Train: 0.8205\n",
      "Accuracy on Test: 0.81465\n"
     ]
    }
   ],
   "source": [
    "# Define model\n",
    "model2 = XGBClassifier(objective='binary:logistic', eval_metric='logloss', random_state=1,\n",
    "                      learning_rate=0.1, use_label_encoder=False, n_estimators=n_estimators_GS, \n",
    "                      max_depth=max_depth_GS)\n",
    "\n",
    "# Train model\n",
    "model2.fit(X2_train, Y2_train)\n",
    "\n",
    "# Calculate accuracy on train\n",
    "Y2_pred_train = model2.predict(X2_train)\n",
    "accuracy2_train = accuracy_score(Y2_train, Y2_pred_train)\n",
    "print('Accuracy on Train:', accuracy2_train)\n",
    "\n",
    "# Calculate accuracy on test\n",
    "Y2_pred_test = model2.predict(X2_test)\n",
    "accuracy2_test = accuracy_score(Y2_test, Y2_pred_test)\n",
    "print('Accuracy on Test:', accuracy_test)\n",
    "\n",
    "# Get predictions\n",
    "# a numpy array of shape array-like of shape (n_samples, n_classes) \n",
    "# with the probability of each data example being of a given class.\n",
    "\n",
    "# Train\n",
    "predictions2_train = model2.predict_proba(X2_train) \n",
    "predictions2_train = pd.DataFrame(predictions2_train, columns=['Show', 'No-show'])\n",
    "\n",
    "# Test\n",
    "predictions2_test = model2.predict_proba(X2_test) \n",
    "predictions2_test = pd.DataFrame(predictions2_test, columns=['Show', 'No-show'])"
   ]
  },
  {
   "cell_type": "markdown",
   "id": "44736e16",
   "metadata": {},
   "source": [
    "it did not get better :("
   ]
  },
  {
   "cell_type": "markdown",
   "id": "cd0f67dd",
   "metadata": {},
   "source": [
    "# Problem (4C)"
   ]
  },
  {
   "cell_type": "code",
   "execution_count": 26,
   "id": "a3d6486c",
   "metadata": {
    "ExecuteTime": {
     "end_time": "2022-04-01T09:24:30.074418Z",
     "start_time": "2022-04-01T09:24:30.032513Z"
    }
   },
   "outputs": [
    {
     "data": {
      "text/plain": [
       "array([0, 0, 0, ..., 0, 0, 0])"
      ]
     },
     "execution_count": 26,
     "metadata": {},
     "output_type": "execute_result"
    }
   ],
   "source": [
    "# Extract only the parameters to make X_val (n_samples, n_parameters)\n",
    "X_blind = blind_data[features_to_train] #removes ID column\n",
    "\n",
    "# Extract ID's for good measure\n",
    "ID_blind = blind_data['ID']\n",
    "\n",
    "# Make predictions\n",
    "predictions_blind = model.predict(X_blind) \n",
    "predictions_blind"
   ]
  },
  {
   "cell_type": "code",
   "execution_count": 27,
   "id": "5bb4e634",
   "metadata": {
    "ExecuteTime": {
     "end_time": "2022-04-01T09:24:30.093798Z",
     "start_time": "2022-04-01T09:24:30.084846Z"
    }
   },
   "outputs": [
    {
     "name": "stdout",
     "output_type": "stream",
     "text": [
      "Model found 798 no-shows == 1\n",
      "Model found 19202 no-shows == 0\n",
      "Len of real data: 20000\n"
     ]
    }
   ],
   "source": [
    "# Check how many there are of each\n",
    "print(f'Model found {np.sum(predictions_blind)} no-shows == 1')\n",
    "print(f'Model found {len(predictions_blind)-np.sum(predictions_blind)} no-shows == 0')\n",
    "\n",
    "print(f'Len of real data: {len(predictions_blind)}')"
   ]
  },
  {
   "cell_type": "code",
   "execution_count": 28,
   "id": "27677090",
   "metadata": {
    "ExecuteTime": {
     "end_time": "2022-04-01T09:24:30.111705Z",
     "start_time": "2022-04-01T09:24:30.100443Z"
    }
   },
   "outputs": [
    {
     "data": {
      "text/plain": [
       "798"
      ]
     },
     "execution_count": 28,
     "metadata": {},
     "output_type": "execute_result"
    }
   ],
   "source": [
    "len(ID_blind[predictions_blind == 1])"
   ]
  },
  {
   "cell_type": "code",
   "execution_count": 29,
   "id": "77157f10",
   "metadata": {
    "ExecuteTime": {
     "end_time": "2022-04-01T09:24:30.153755Z",
     "start_time": "2022-04-01T09:24:30.115887Z"
    }
   },
   "outputs": [],
   "source": [
    "# Create the output file for no-show == 1\n",
    "with open('Data/Kreilgaard.AMAS_Exam.Problem4.NoShowTrue.txt', 'w') as f:\n",
    "    for line in ID_blind[predictions_blind == 1]:\n",
    "        line = str(line)\n",
    "        f.write(line)\n",
    "        f.write('\\n')\n",
    "        \n",
    "# Create the output file for no-show == 0\n",
    "with open('Data/Kreilgaard.AMAS_Exam.Problem4.NoShowFalse.txt', 'w') as f:\n",
    "    for line in ID_blind[predictions_blind == 0]:\n",
    "        line = str(line)\n",
    "        f.write(line)\n",
    "        f.write('\\n')"
   ]
  },
  {
   "cell_type": "code",
   "execution_count": null,
   "id": "0f6a8165",
   "metadata": {},
   "outputs": [],
   "source": []
  }
 ],
 "metadata": {
  "kernelspec": {
   "display_name": "Python 3",
   "language": "python",
   "name": "python3"
  },
  "language_info": {
   "codemirror_mode": {
    "name": "ipython",
    "version": 3
   },
   "file_extension": ".py",
   "mimetype": "text/x-python",
   "name": "python",
   "nbconvert_exporter": "python",
   "pygments_lexer": "ipython3",
   "version": "3.6.13"
  },
  "toc": {
   "base_numbering": 1,
   "nav_menu": {},
   "number_sections": true,
   "sideBar": true,
   "skip_h1_title": false,
   "title_cell": "Table of Contents",
   "title_sidebar": "Contents",
   "toc_cell": false,
   "toc_position": {},
   "toc_section_display": true,
   "toc_window_display": true
  }
 },
 "nbformat": 4,
 "nbformat_minor": 5
}
